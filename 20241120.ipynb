{
 "cells": [
  {
   "cell_type": "markdown",
   "metadata": {},
   "source": [
    "리스트 자르기\n",
    "\n",
    "문제 설명\n",
    "\n",
    "정수 n과 정수 3개가 담긴 리스트 slicer 그리고 정수 여러 개가 담긴 리스트 num_list가 주어집니다. slicer에 담긴 정수를 차례대로 a, b, c라고 할 때, n에 따라 다음과 같이 num_list를 슬라이싱 하려고 합니다.\n",
    "\n",
    "n = 1 : num_list의 0번 인덱스부터 b번 인덱스까지\n",
    "\n",
    "n = 2 : num_list의 a번 인덱스부터 마지막 인덱스까지\n",
    "\n",
    "n = 3 : num_list의 a번 인덱스부터 b번 인덱스까지\n",
    "\n",
    "n = 4 : num_list의 a번 인덱스부터 b번 인덱스까지 c 간격으로\n",
    "\n",
    "올바르게 슬라이싱한 리스트를 return하도록 solution 함수를 완성해주세요.\n",
    "\n",
    "제한사항\n",
    "\n",
    "n 은 1, 2, 3, 4 중 하나입니다.\n",
    "\n",
    "slicer의 길이 = 3\n",
    "\n",
    "slicer에 담긴 정수를 차례대로 a, b, c라고 할 때\n",
    "\n",
    "0 ≤ a ≤ b ≤ num_list의 길이 - 1\n",
    "\n",
    "1 ≤ c ≤ 3\n",
    "\n",
    "5 ≤ num_list의 길이 ≤ 30\n",
    "\n",
    "0 ≤ num_list의 원소 ≤ 100\n",
    "\n",
    "입출력 예\n",
    "\n",
    "n\tslicer\tnum_list\tresult\n",
    "\n",
    "3\t[1, 5, 2]\t[1, 2, 3, 4, 5, 6, 7, 8, 9]\t[2, 3, 4, 5, 6]\n",
    "\n",
    "4\t[1, 5, 2]\t[1, 2, 3, 4, 5, 6, 7, 8, 9]\t[2, 4, 6]\n",
    "\n",
    "입출력 예 설명\n",
    "\n",
    "입출력 예 #1\n",
    "\n",
    "[1, 2, 3, 4, 5, 6, 7, 8, 9]에서 1번 인덱스부터 5번 인덱스까지 자른 리스트는 [2, 3, 4, 5, 6]입니다.\n",
    "\n",
    "입출력 예 #2\n",
    "\n",
    "[1, 2, 3, 4, 5, 6, 7, 8, 9]에서 1번 인덱스부터 5번 인덱스까지 2개 간격으로 자른 리스트는 [2, 4, 6]입니다."
   ]
  },
  {
   "cell_type": "code",
   "execution_count": 7,
   "metadata": {},
   "outputs": [
    {
     "data": {
      "text/plain": [
       "[2, 4, 6]"
      ]
     },
     "execution_count": 7,
     "metadata": {},
     "output_type": "execute_result"
    }
   ],
   "source": [
    "num_list = [1, 2, 3, 4, 5, 6, 7, 8, 9]\t\n",
    "num_list[1:5+1:2]\t"
   ]
  },
  {
   "cell_type": "code",
   "execution_count": null,
   "metadata": {},
   "outputs": [],
   "source": [
    "def solution(n, slicer, num_list):\n",
    "    \n",
    "    if n == 1:\n",
    "        return num_list[:slicer[1]+1]\n",
    "    if n == 2:\n",
    "        return num_list[slicer[0]:]\n",
    "    if n == 3:\n",
    "        return num_list[slicer[0]:slicer[1]+1]\n",
    "    if n == 4:\n",
    "        return num_list[slicer[0]:slicer[1]+1:slicer[2]]\n",
    "            \n",
    "    "
   ]
  },
  {
   "cell_type": "markdown",
   "metadata": {},
   "source": [
    "첫 번째로 나오는 음수\n",
    "\n",
    "문제 설명\n",
    "\n",
    "정수 리스트 num_list가 주어질 때, 첫 번째로 나오는 음수의 인덱스를 return하도록 solution 함수를 완성해주세요. 음수가 없다면 -1을 return합니다.\n",
    "\n",
    "제한사항\n",
    "\n",
    "5 ≤ num_list의 길이 ≤ 100\n",
    "\n",
    "-10 ≤ num_list의 원소 ≤ 100\n",
    "\n",
    "입출력 예\n",
    "\n",
    "num_list\tresult\n",
    "\n",
    "[12, 4, 15, 46, 38, -2, 15]\t5\n",
    "\n",
    "[13, 22, 53, 24, 15, 6]\t-1\n",
    "\n",
    "입출력 예 설명\n",
    "\n",
    "입출력 예 #1\n",
    "\n",
    "5번 인덱스에서 음수가 처음 등장하므로 5를 return합니다.\n",
    "\n",
    "입출력 예 #2\n",
    "\n",
    "음수가 없으므로 -1을 return합니다."
   ]
  },
  {
   "cell_type": "code",
   "execution_count": null,
   "metadata": {},
   "outputs": [],
   "source": [
    "def solution(num_list):\n",
    "    answer = []\n",
    "    for k, v in enumerate(num_list):\n",
    "        if v < 0 :\n",
    "            answer.append(k)\n",
    "    if answer == []:\n",
    "        return -1\n",
    "    else:\n",
    "        return min(answer)\n"
   ]
  },
  {
   "cell_type": "markdown",
   "metadata": {},
   "source": [
    "배열 만들기 3\n",
    "\n",
    "문제 설명\n",
    "\n",
    "정수 배열 arr와 2개의 구간이 담긴 배열 intervals가 주어집니다.\n",
    "\n",
    "intervals는 항상 [[a1, b1], [a2, b2]]의 꼴로 주어지며 각 구간은 닫힌 구간입니다. 닫힌 구간은 양 끝값과 그 사이의 값을 모두 포함하는 구간을 의미합니다.\n",
    "\n",
    "이때 배열 arr의 첫 번째 구간에 해당하는 배열과 두 번째 구간에 해당하는 배열을 앞뒤로 붙여 새로운 배열을 만들어 return 하는 solution 함수를 완성해 주세요.\n",
    "\n",
    "제한사항\n",
    "\n",
    "1 ≤ arr의 길이 ≤ 100,000\n",
    "\n",
    "1 ≤ arr의 원소 < 100\n",
    "\n",
    "1 ≤ a1 ≤ b1 < arr의 길이\n",
    "\n",
    "1 ≤ a2 ≤ b2 < arr의 길이\n",
    "\n",
    "입출력 예\n",
    "\n",
    "arr\tintervals\tresult\n",
    "\n",
    "[1, 2, 3, 4, 5]\t[[1, 3], [0, 4]]\t[2, 3, 4, 1, 2, 3, 4, 5]\n",
    "\n",
    "입출력 예 설명\n",
    "\n",
    "입출력 예 #1\n",
    "\n",
    "첫 번째 구간에 해당하는 배열은 [2, 3, 4] 입니다.\n",
    "\n",
    "두 번째 구간에 해당하는 배열은 [1, 2, 3, 4, 5] 입니다.\n",
    "\n",
    "따라서 이 두 배열을 앞뒤로 붙인 배열인 [2, 3, 4, 1, 2, 3, 4, 5]를 return 합니다."
   ]
  },
  {
   "cell_type": "code",
   "execution_count": null,
   "metadata": {},
   "outputs": [
    {
     "data": {
      "text/plain": [
       "[1, 2, 3, 1, 2, 3, 4, 5, 6, 7, 8, 9]"
      ]
     },
     "execution_count": 9,
     "metadata": {},
     "output_type": "execute_result"
    }
   ],
   "source": [
    "def solution(arr, intervals):\n",
    "    answer = []\n",
    "    num1, num2 = intervals\n",
    "    answer_1 = arr[num1[0]:num1[1]+1]\n",
    "    answer_2 = arr[num2[0]:num2[1]+1]\n",
    "    return answer_1 + answer_2"
   ]
  },
  {
   "cell_type": "markdown",
   "metadata": {},
   "source": [
    "2의 영역\n",
    "\n",
    "문제 설명\n",
    "\n",
    "정수 배열 arr가 주어집니다. 배열 안의 2가 모두 포함된 가장 작은 연속된 부분 배열을 return 하는 solution 함수를 완성해 주세요.\n",
    "\n",
    "단, arr에 2가 없는 경우 [-1]을 return 합니다.\n",
    "\n",
    "제한사항\n",
    "\n",
    "1 ≤ arr의 길이 ≤ 100,000\n",
    "\n",
    "1 ≤ arr의 원소 ≤ 10\n",
    "\n",
    "입출력 예\n",
    "\n",
    "arr\tresult\n",
    "\n",
    "[1, 2, 1, 4, 5, 2, 9]\t[2, 1, 4, 5, 2]\n",
    "\n",
    "[1, 2, 1]\t[2]\n",
    "\n",
    "[1, 1, 1]\t[-1]\n",
    "\n",
    "[1, 2, 1, 2, 1, 10, 2, 1]\t[2, 1, 2, 1, 10, 2]\n",
    "\n",
    "입출력 예 설명\n",
    "\n",
    "입출력 예 #1\n",
    "\n",
    "2가 있는 인덱스는 1번, 5번 인덱스뿐이므로 1번부터 5번 인덱스까지의 부분 배열인 [2, 1, 4, 5, 2]를 return 합니다.\n",
    "\n",
    "입출력 예 #2\n",
    "\n",
    "2가 한 개뿐이므로 [2]를 return 합니다.\n",
    "\n",
    "입출력 예 #3\n",
    "\n",
    "2가 배열에 없으므로 [-1]을 return 합니다.\n",
    "\n",
    "입출력 예 #4\n",
    "\n",
    "2가 있는 인덱스는 1번, 3번, 6번 인덱스이므로 1번부터 6번 인덱스까지의 부분 배열인 [2, 1, 2, 1, 10, 2]를 return 합니다."
   ]
  },
  {
   "cell_type": "code",
   "execution_count": 11,
   "metadata": {},
   "outputs": [],
   "source": [
    "def solution(arr):\n",
    "    answer = []\n",
    "    for k, v in enumerate(arr):\n",
    "        if v == 2:\n",
    "            answer.append(k)\n",
    "    if answer == []:\n",
    "        return [-1]\n",
    "    else:\n",
    "        return arr[min(answer):max(answer)+1]\n",
    "    "
   ]
  },
  {
   "cell_type": "code",
   "execution_count": 15,
   "metadata": {},
   "outputs": [
    {
     "data": {
      "text/plain": [
       "[0, 1, 2, 3, 4]"
      ]
     },
     "execution_count": 15,
     "metadata": {},
     "output_type": "execute_result"
    }
   ],
   "source": [
    "a = [0, 1, 2, 3, 4, 5]\n",
    "a[:4+1]"
   ]
  },
  {
   "cell_type": "markdown",
   "metadata": {},
   "source": [
    "배열 조각하기\n",
    "\n",
    "제한사항\n",
    "\n",
    "5 ≤ arr의 길이 ≤ 100,000\n",
    "\n",
    "0 ≤ arr의 원소 ≤ 100\n",
    "\n",
    "1 ≤ query의 길이 < min(50, arr의 길이 / 2)\n",
    "\n",
    "query의 각 원소는 0보다 크거나 같고 남아있는 arr의 길이 보다 작습니다.\n",
    "\n",
    "입출력 예\n",
    "\n",
    "arr\tquery\tresult\n",
    "\n",
    "[0, 1, 2, 3, 4, 5]\t[4, 1, 2]\t[1, 2, 3]\n",
    "\n",
    "입출력 예 설명\n",
    "\n",
    "입출력 예 #1\n",
    "\n",
    "이번에 매번 처리할 query의 값과 처리 전후의 arr의 상태를 표로 나타내면 다음과 같습니다.\n",
    "\n",
    "query의 값\tquery 처리 전\tquery 처리 후\t비고\n",
    "\n",
    "4\t[0, 1, 2, 3, 4, 5]\t[0, 1, 2, 3, 4]\t0번 인덱스의 쿼리이므로 뒷부분을 자른다.\n",
    "\n",
    "1\t[0, 1, 2, 3, 4]\t[1, 2, 3, 4]\t1번 인덱스의 쿼리이므로 앞부분을 자른다.\n",
    "\n",
    "2\t[1, 2, 3, 4]\t[1, 2, 3]\t2번 인덱스의 쿼리이므로 뒷부분을 자른다.\n",
    "\n",
    "따라서 [1, 2, 3]을 return 합니다."
   ]
  },
  {
   "cell_type": "code",
   "execution_count": 16,
   "metadata": {},
   "outputs": [
    {
     "data": {
      "text/plain": [
       "[1, 2, 3]"
      ]
     },
     "execution_count": 16,
     "metadata": {},
     "output_type": "execute_result"
    }
   ],
   "source": [
    "arr = [0, 1, 2, 3, 4, 5]\n",
    "query = [4, 1, 2]\n",
    "\n",
    "def solution(arr, query):\n",
    "    for k, v in enumerate(query):\n",
    "        if k % 2 == 0:\n",
    "            arr = arr[:v+1]\n",
    "        else:\n",
    "            arr = arr[v:]\n",
    "    return arr\n",
    "\n",
    "solution(arr, query)\n",
    "    "
   ]
  }
 ],
 "metadata": {
  "kernelspec": {
   "display_name": "Python 3",
   "language": "python",
   "name": "python3"
  },
  "language_info": {
   "codemirror_mode": {
    "name": "ipython",
    "version": 3
   },
   "file_extension": ".py",
   "mimetype": "text/x-python",
   "name": "python",
   "nbconvert_exporter": "python",
   "pygments_lexer": "ipython3",
   "version": "3.9.6"
  }
 },
 "nbformat": 4,
 "nbformat_minor": 2
}
