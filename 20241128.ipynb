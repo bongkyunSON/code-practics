{
 "cells": [
  {
   "cell_type": "markdown",
   "metadata": {},
   "source": [
    "이차원 배열 대각선 순회하기\n",
    "2차원 정수 배열 board와 정수 k가 주어집니다.\n",
    "\n",
    "i + j <= k를 만족하는 모든 (i, j)에 대한 board[i][j]의 합을 return 하는 solution 함수를 완성해 주세요.\n",
    "\n",
    "제한사항\n",
    "1 ≤ board의 길이 ≤ 100\n",
    "1 ≤ board[i]의 길이 ≤ 100\n",
    "1 ≤ board[i][j] ≤ 10,000\n",
    "모든 board[i]의 길이는 같습니다.\n",
    "0 ≤ k < board의 길이 + board[i]의 길이\n",
    "입출력 예\n",
    "board\tk\tresult\n",
    "[[0, 1, 2],[1, 2, 3],[2, 3, 4],[3, 4, 5]]\t2\t8\n",
    "입출력 예 설명\n",
    "입출력 예 #1\n",
    "\n",
    "입출력 예 #1의 board를 표로 나타내면 다음과 같습니다.\n",
    "i \\ j\t0\t1\t2\n",
    "0\t0\t1\t2\n",
    "1\t1\t2\t3\n",
    "2\t2\t3\t4\n",
    "3\t3\t4\t5\n",
    "i + j가 2보다 작거나 같은 항들의 합은 0 + 1 + 2 + 1 + 2 + 2 = 8이므로 8을 return 합니다."
   ]
  },
  {
   "cell_type": "code",
   "execution_count": 1,
   "metadata": {},
   "outputs": [
    {
     "data": {
      "text/plain": [
       "8"
      ]
     },
     "execution_count": 1,
     "metadata": {},
     "output_type": "execute_result"
    }
   ],
   "source": [
    "board = [[0, 1, 2],[1, 2, 3],[2, 3, 4],[3, 4, 5]]\n",
    "k = 2\n",
    "answer = 0 \n",
    "for i in range(len(board)):\n",
    "    for j in range(len(board)):\n",
    "        if i + j <= k:\n",
    "            answer += board[i][j]\n",
    "answer\n",
    "    \n",
    "    "
   ]
  },
  {
   "cell_type": "code",
   "execution_count": 2,
   "metadata": {},
   "outputs": [],
   "source": [
    "def solution(board, k):\n",
    "    answer = 0\n",
    "    for i in range(len(board)):\n",
    "        if i <= k:\n",
    "            answer+= sum(board[i][:k+1-i])\n",
    "    return answer"
   ]
  },
  {
   "cell_type": "markdown",
   "metadata": {},
   "source": [
    "특별한 이차원 배열 2\n",
    "문제 설명\n",
    "n × n 크기의 이차원 배열 arr이 매개변수로 주어질 때, arr이 다음을 만족하면 1을 아니라면 0을 return 하는 solution 함수를 작성해 주세요.\n",
    "\n",
    "0 ≤ i, j < n인 정수 i, j에 대하여 arr[i][j] = arr[j][i]\n",
    "제한사항\n",
    "1 ≤ arr의 길이 = arr의 원소의 길이 ≤ 100\n",
    "1 ≤ arr의 원소의 원소 ≤ 1,000\n",
    "모든 arr의 원소의 길이는 같습니다.\n",
    "입출력 예\n",
    "arr\tresult\n",
    "[[5, 192, 33], [192, 72, 95], [33, 95, 999]]\t1\n",
    "[[19, 498, 258, 587], [63, 93, 7, 754], [258, 7, 1000, 723], [587, 754, 723, 81]]\t0\n",
    "입출력 예 설명\n",
    "입출력 예 #1\n",
    "\n",
    "예제 1번에서 문제의 조건이 잘 보이도록 표를 만들면 다음과 같습니다.\n",
    "|i|j|arr[i][j]|arr[j][i]|\n",
    "\n",
    "|---|---|---|---|\n",
    "\n",
    "|0|0|5|5|\n",
    "\n",
    "|0|1|192|192|\n",
    "\n",
    "|0|2|33|33|\n",
    "\n",
    "|1|0|192|192|\n",
    "\n",
    "|1|1|72|72|\n",
    "\n",
    "|1|2|95|95|\n",
    "\n",
    "|2|0|33|33|\n",
    "\n",
    "|2|1|95|95|\n",
    "\n",
    "|2|2|999|999|\n",
    "\n",
    "조건을 만족하므로 1을 return 합니다.\n",
    "입출력 예 #2\n",
    "\n",
    "예제 2번의 arr에서 arr[0][1] = 498 ≠ 63 = arr[1][0]이므로 조건을 만족하지 않습니다. 따라서 0을 return 합니다."
   ]
  },
  {
   "cell_type": "code",
   "execution_count": 3,
   "metadata": {},
   "outputs": [
    {
     "data": {
      "text/plain": [
       "1"
      ]
     },
     "execution_count": 3,
     "metadata": {},
     "output_type": "execute_result"
    }
   ],
   "source": [
    "arr = [[5, 192, 33], [192, 72, 95], [33, 95, 999]]\n",
    "def solution(arr):\n",
    "    answer = 0\n",
    "    for i in range(len(arr)):\n",
    "        for j in range(len(arr)):\n",
    "            if arr[i][j] == arr[j][i]:\n",
    "                answer += 1\n",
    "            else:\n",
    "                return 0\n",
    "        if answer == len(arr):\n",
    "            return 1\n",
    "              \n",
    "    \n",
    "solution(arr)"
   ]
  },
  {
   "cell_type": "code",
   "execution_count": 4,
   "metadata": {},
   "outputs": [
    {
     "data": {
      "text/plain": [
       "1"
      ]
     },
     "execution_count": 4,
     "metadata": {},
     "output_type": "execute_result"
    }
   ],
   "source": [
    "arr = [[5, 192, 33], [192, 72, 95], [33, 95, 999]]\n",
    "\n",
    "def solution(arr):\n",
    "    return int(arr == list(map(list, zip(*arr))))\n",
    "\n",
    "solution(arr)"
   ]
  }
 ],
 "metadata": {
  "kernelspec": {
   "display_name": "base",
   "language": "python",
   "name": "python3"
  },
  "language_info": {
   "codemirror_mode": {
    "name": "ipython",
    "version": 3
   },
   "file_extension": ".py",
   "mimetype": "text/x-python",
   "name": "python",
   "nbconvert_exporter": "python",
   "pygments_lexer": "ipython3",
   "version": "undefined.undefined.undefined"
  }
 },
 "nbformat": 4,
 "nbformat_minor": 2
}
