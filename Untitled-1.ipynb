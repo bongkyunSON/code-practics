{
 "cells": [
  {
   "cell_type": "code",
   "execution_count": null,
   "metadata": {},
   "outputs": [],
   "source": [
    "def print_numbers(num_list, end_number):\n",
    "    answer = []\n",
    "    for i in range(end_number, num_list+1, 3):\n",
    "        answer.append(i)\n",
    "    return answer[::-1]"
   ]
  },
  {
   "cell_type": "code",
   "execution_count": null,
   "metadata": {},
   "outputs": [],
   "source": [
    "\n",
    "\n",
    "for i in range(3, 10, 3):\n",
    "    print(i)\n",
    "    "
   ]
  },
  {
   "cell_type": "code",
   "execution_count": null,
   "metadata": {},
   "outputs": [],
   "source": [
    "solution(10, 3)"
   ]
  },
  {
   "cell_type": "code",
   "execution_count": null,
   "metadata": {},
   "outputs": [],
   "source": [
    "_str = \"banana\""
   ]
  },
  {
   "cell_type": "code",
   "execution_count": null,
   "metadata": {},
   "outputs": [],
   "source": [
    "a = _str.startswith(\"1an\")\n",
    "print(a)"
   ]
  },
  {
   "cell_type": "code",
   "execution_count": null,
   "metadata": {},
   "outputs": [],
   "source": [
    "a = _str.endswith(\"anana\")\n",
    "print(a)"
   ]
  },
  {
   "cell_type": "code",
   "execution_count": null,
   "metadata": {},
   "outputs": [],
   "source": [
    "split_data = list(map(''.join, zip(*[iter(_str)]*2)))[:1]\n",
    "print(split_data)"
   ]
  },
  {
   "cell_type": "code",
   "execution_count": null,
   "metadata": {},
   "outputs": [],
   "source": [
    "a = \"ProgrammerS123\"\n",
    "a[3:4]"
   ]
  },
  {
   "cell_type": "code",
   "execution_count": null,
   "metadata": {},
   "outputs": [],
   "source": [
    "answer = ''\n",
    "my_string = \"cvsgiorszzzmrpaqpe\"\n",
    "index_list = [16, 6, 5, 3, 12, 14, 11, 11, 17, 12, 7]\n",
    "for i in index_list:\n",
    "    answer += (my_string[i:i+1])\n",
    "\n",
    "print(answer)\n",
    "# print(\"\".join(answer))"
   ]
  },
  {
   "cell_type": "code",
   "execution_count": null,
   "metadata": {},
   "outputs": [],
   "source": [
    "num_list = [3, 4, 5, 2, 1]"
   ]
  },
  {
   "cell_type": "code",
   "execution_count": null,
   "metadata": {},
   "outputs": [],
   "source": [
    "odd = []\n",
    "for i,n in enumerate(a):\n",
    "    if i % 2 == 0:\n",
    "        # print(n)\n",
    "        odd.append(n)\n",
    "print(str(odd))\n",
    "print(\"\".join(map(str, odd)))\n"
   ]
  },
  {
   "cell_type": "code",
   "execution_count": null,
   "metadata": {},
   "outputs": [],
   "source": [
    "odd = []\n",
    "even = []\n",
    "for i, n in enumerate(num_list):\n",
    "    if i % 2 == 0:\n",
    "        odd.append(n)\n",
    "    else:\n",
    "        even.append(n)\n",
    "a = int(\"\".join(map(str, odd)))\n",
    "b = int(\"\".join(map(str, even)))\n",
    "print(a)\n",
    "print(b)"
   ]
  },
  {
   "cell_type": "code",
   "execution_count": null,
   "metadata": {},
   "outputs": [],
   "source": [
    "for i, n in enumerate(num_list[1:]):\n",
    "    print(i, n)"
   ]
  },
  {
   "cell_type": "code",
   "execution_count": null,
   "metadata": {},
   "outputs": [],
   "source": []
  },
  {
   "cell_type": "code",
   "execution_count": null,
   "metadata": {},
   "outputs": [],
   "source": [
    "anwer = [3, 5, 1]"
   ]
  },
  {
   "cell_type": "code",
   "execution_count": null,
   "metadata": {},
   "outputs": [],
   "source": []
  },
  {
   "cell_type": "code",
   "execution_count": null,
   "metadata": {},
   "outputs": [],
   "source": [
    "num_list = [3, 4, 5, 2, 1]"
   ]
  },
  {
   "cell_type": "code",
   "execution_count": null,
   "metadata": {},
   "outputs": [],
   "source": [
    "num_list = [5, 7, 8, 3]\n",
    "# num_list = [3, 4, 5, 2, 1]\n",
    "odd = []\n",
    "even = []\n",
    "if len(num_list) % 2 == 0:\n",
    "    answer = num_list[1:]\n",
    "    odd.append(num_list[0])\n",
    "else:\n",
    "    answer = num_list\n",
    "\n",
    "for i in range(0, len(answer), 2):\n",
    "    # print(i)\n",
    "    odd.append(answer[i])\n",
    "for i in range(1, len(answer), 2):    \n",
    "    even.append(answer[i])\n",
    "print(odd)\n",
    "print(even)\n",
    "\n"
   ]
  },
  {
   "cell_type": "code",
   "execution_count": null,
   "metadata": {},
   "outputs": [],
   "source": [
    "num_list = [5, 7, 8, 3]\n",
    "a = sum(num_list)\n",
    "a**2"
   ]
  },
  {
   "cell_type": "code",
   "execution_count": null,
   "metadata": {},
   "outputs": [],
   "source": [
    "num_list = [5, 7, 8, 3]\n",
    "even = []\n",
    "for i in range(1, len(num_list), 2):\n",
    "    # print(i)\n",
    "    even.append(num_list[i])\n",
    "print(even)"
   ]
  },
  {
   "cell_type": "code",
   "execution_count": null,
   "metadata": {},
   "outputs": [],
   "source": [
    "        a = int(\"\".join(map(str, odd)))\n",
    "        b = int(\"\".join(map(str, even)))"
   ]
  },
  {
   "cell_type": "code",
   "execution_count": null,
   "metadata": {},
   "outputs": [],
   "source": [
    "from functools import reduce\n",
    "num_list = [5, 7, 8, 3]\n",
    "reduce(lambda x, y: x * y, num_list)"
   ]
  },
  {
   "cell_type": "code",
   "execution_count": null,
   "metadata": {},
   "outputs": [],
   "source": [
    "answer = 0\n",
    "for i in range(0, 10+1, 2):\n",
    "    print(i)\n",
    "    answer += i\n",
    "\n",
    "print(answer)\n",
    "    "
   ]
  },
  {
   "cell_type": "code",
   "execution_count": null,
   "metadata": {},
   "outputs": [],
   "source": [
    "a = [1,2,3,4,5]\n",
    "b = a**2"
   ]
  },
  {
   "cell_type": "code",
   "execution_count": null,
   "metadata": {},
   "outputs": [],
   "source": [
    "a = 23\n",
    "b = 1\n",
    "answer = []\n",
    "answer.append(a)\n",
    "answer.append(b)\n",
    "int(\"\".join(map(str, answer)))"
   ]
  },
  {
   "cell_type": "code",
   "execution_count": null,
   "metadata": {},
   "outputs": [],
   "source": [
    "def solution(a, b):\n",
    "    return max(int(str(a) + str(b)), 2 * a * b)"
   ]
  },
  {
   "cell_type": "code",
   "execution_count": null,
   "metadata": {},
   "outputs": [],
   "source": [
    "gifts = [\"muzi frodo\", \"muzi frodo\", \"ryan muzi\", \"ryan muzi\", \"ryan muzi\", \"frodo muzi\", \"frodo ryan\", \"neo muzi\"]\n",
    "friends = [\"muzi\", \"ryan\", \"frodo\", \"neo\"]"
   ]
  },
  {
   "cell_type": "code",
   "execution_count": null,
   "metadata": {},
   "outputs": [],
   "source": [
    "gifted = {} # gifted = {\"friend 이름\": {\"선물 준 친구 이름\": 이 친구에게 준 선물 개수}}\n",
    "gift_idx = {} # 선물 지수 \n",
    "# 딕셔너리 초기화\n",
    "for friend in friends:\n",
    "    gifted[friend] = {}\n",
    "    gift_idx[friend] = 0"
   ]
  },
  {
   "cell_type": "code",
   "execution_count": null,
   "metadata": {},
   "outputs": [],
   "source": [
    "gift_idx"
   ]
  },
  {
   "cell_type": "code",
   "execution_count": null,
   "metadata": {},
   "outputs": [],
   "source": [
    "give_me_present = []\n",
    "give_you_present = []\n",
    "\n",
    "for k, v in a_for_b_gift.items():\n",
    "    # if k == k[::-1]:\n",
    "    #     a_for_b_gift\n",
    "\n",
    "\n",
    "\n",
    "        "
   ]
  },
  {
   "cell_type": "code",
   "execution_count": null,
   "metadata": {},
   "outputs": [],
   "source": [
    "gifts = [\"muzi frodo\", \"muzi frodo\", \"ryan muzi\", \"ryan muzi\", \"ryan muzi\", \"frodo muzi\", \"frodo ryan\", \"neo muzi\"]\n",
    "friends = [\"muzi\", \"ryan\", \"frodo\", \"neo\"]"
   ]
  },
  {
   "cell_type": "code",
   "execution_count": null,
   "metadata": {},
   "outputs": [],
   "source": [
    "gifted = {} # gifted = {\"friend 이름\": {\"선물 준 친구 이름\": 이 친구에게 준 선물 개수}}\n",
    "gift_idx = {} # 선물 지수 \n",
    "# 딕셔너리 초기화\n",
    "for friend in friends:\n",
    "    gifted[friend] = {}\n",
    "    gift_idx[friend] = 0\n",
    "\n",
    "for gift in gifts:\n",
    "    _give, _for = gift.split(' ')\n",
    "\n",
    "    if _for in gifted[_give]:\n",
    "        gifted[_give][_for] += 1\n",
    "    else:\n",
    "        gifted[_give][_for] = 1\n",
    "\n",
    "print(gifted)\n",
    "    "
   ]
  },
  {
   "cell_type": "code",
   "execution_count": null,
   "metadata": {},
   "outputs": [],
   "source": [
    "def solution(friends, gifts):\n",
    "    gifted = {} # gifted = {\"friend 이름\": {\"선물 준 친구 이름\": 이 친구에게 준 선물 개수}}\n",
    "    gift_idx = {} # 선물 지수 \n",
    "    # 딕셔너리 초기화\n",
    "    for friend in friends:\n",
    "        gifted[friend] = {}\n",
    "        gift_idx[friend] = 0\n",
    "    \n",
    "    for gift in gifts:\n",
    "        t, f = gift.split(' ') # t: 선물을 준 사람, f: 받은 사람\n",
    "        if f in gifted[t]:\n",
    "            gifted[t][f] += 1\n",
    "        else:\n",
    "            gifted[t][f] = 1\n",
    "        # 선물 지수 반영\n",
    "        gift_idx[t] += 1\n",
    "        gift_idx[f] -= 1\n",
    "    \n",
    "    # 각자 받게 될 선물 개수\n",
    "    will_get = [0 for _ in friends] # \bfriends 리스트 순서대로 저장\n",
    "    for i in range(len(friends)):\n",
    "        curr = friends[i] # 인덱스 i에 해당하는 친구\n",
    "        for j in range(i+1, len(friends)):\n",
    "            another = friends[j] # 인덱스 j에 해당하는 친구\n",
    "            # curr가 another에게 준 선물 개수\n",
    "            a = gifted[curr][another] if another in gifted[curr] else 0 \n",
    "            # another가 curr에게 준 선물 개수\n",
    "            b = gifted[another][curr] if curr in gifted[another] else 0 \n",
    "            \n",
    "            if a > b: # curr가 선물을 더 많이 줬다면\n",
    "                will_get[i] += 1\n",
    "            elif a < b: # another가 선물을 더 많이 줬다면\n",
    "                will_get[j] += 1\n",
    "            elif a == b: # 둘이 선물을 주고 받은 개수가 같다면 선물 지수 확인\n",
    "                ai, bi = gift_idx[curr], gift_idx[another]\n",
    "                if ai > bi:\n",
    "                    will_get[i] += 1\n",
    "                elif ai < bi:\n",
    "                    will_get[j] += 1\n",
    "    \n",
    "    answer = max(will_get)\n",
    "    return answer"
   ]
  },
  {
   "cell_type": "code",
   "execution_count": null,
   "metadata": {},
   "outputs": [],
   "source": [
    "my_string = \"string\""
   ]
  },
  {
   "cell_type": "code",
   "execution_count": null,
   "metadata": {},
   "outputs": [],
   "source": [
    "a = \"apple pen\"\n",
    "a.split(' ')"
   ]
  },
  {
   "cell_type": "code",
   "execution_count": null,
   "metadata": {},
   "outputs": [],
   "source": [
    "str1, str2 = input().strip().split(' ')"
   ]
  },
  {
   "cell_type": "code",
   "execution_count": null,
   "metadata": {},
   "outputs": [],
   "source": [
    "str1 + str2"
   ]
  },
  {
   "cell_type": "code",
   "execution_count": null,
   "metadata": {},
   "outputs": [],
   "source": [
    "str2"
   ]
  },
  {
   "cell_type": "code",
   "execution_count": null,
   "metadata": {},
   "outputs": [],
   "source": [
    "a, b = 4, 6"
   ]
  },
  {
   "cell_type": "code",
   "execution_count": null,
   "metadata": {},
   "outputs": [],
   "source": [
    "abs(a-b)"
   ]
  },
  {
   "cell_type": "code",
   "execution_count": null,
   "metadata": {},
   "outputs": [],
   "source": [
    "c = (a % 2) == 0, (b % 2) == 0\n",
    "c"
   ]
  },
  {
   "cell_type": "code",
   "execution_count": null,
   "metadata": {},
   "outputs": [],
   "source": []
  },
  {
   "cell_type": "code",
   "execution_count": null,
   "metadata": {},
   "outputs": [],
   "source": [
    "a = [\"abc\", \"def\", \"ghi\"]\n",
    "answer = ''\n",
    "for i in a:\n",
    "    if not \"ef\" in i:\n",
    "        answer += i\n",
    "print(answer)\n",
    "\n",
    "# a.split(',')\n",
    "# a.startswith(\"ef\")"
   ]
  },
  {
   "cell_type": "code",
   "execution_count": null,
   "metadata": {},
   "outputs": [],
   "source": [
    "strArr = [\"and\",\"notad\",\"abcd\"]\n",
    "answer = []\n",
    "for i in strArr:\n",
    "    if not \"ad\" in i:\n",
    "        answer.append(i)\n",
    "print(answer)\n",
    "\n"
   ]
  },
  {
   "cell_type": "code",
   "execution_count": null,
   "metadata": {},
   "outputs": [],
   "source": [
    "a = 123\n",
    "answer = 0\n",
    "for i in a:\n",
    "    answer += int(i)\n",
    "print(answer)"
   ]
  },
  {
   "cell_type": "code",
   "execution_count": null,
   "metadata": {},
   "outputs": [],
   "source": [
    "def multiplyAll_v1(a):\n",
    "    ans = 1\n",
    "    for n in a:\n",
    "        ans *= n\n",
    "    return ans"
   ]
  },
  {
   "cell_type": "code",
   "execution_count": null,
   "metadata": {},
   "outputs": [],
   "source": [
    "multiplyAll_v1(a)"
   ]
  },
  {
   "cell_type": "code",
   "execution_count": null,
   "metadata": {},
   "outputs": [],
   "source": [
    "a = [1,2,3]\n",
    "(map(int, a))"
   ]
  },
  {
   "cell_type": "code",
   "execution_count": null,
   "metadata": {},
   "outputs": [],
   "source": [
    "import numpy\n",
    "list1 = [1, 2, 3]\n",
    "result1 = numpy.prod(list1)\n",
    "print(result1)"
   ]
  },
  {
   "cell_type": "code",
   "execution_count": null,
   "metadata": {},
   "outputs": [],
   "source": [
    "a = [12, 4, 15, 46, 38, 1, 14, 56, 32, 10]\n",
    "sorted(a[5:])\n",
    "\n",
    "\n"
   ]
  },
  {
   "cell_type": "code",
   "execution_count": null,
   "metadata": {},
   "outputs": [],
   "source": [
    "a = [49, 12, 100, 276, 33]\n",
    "for i in range(len(a)):\n",
    "    print(i)"
   ]
  },
  {
   "cell_type": "code",
   "execution_count": null,
   "metadata": {},
   "outputs": [],
   "source": [
    "answer = ''\n",
    "a = \"ABBAA\"\n",
    "for i in a:\n",
    "    if i == \"A\":\n",
    "        answer += \"B\"\n",
    "    else:\n",
    "        answer += \"A\"\n",
    "\n",
    "print(answer)"
   ]
  },
  {
   "cell_type": "code",
   "execution_count": null,
   "metadata": {},
   "outputs": [],
   "source": [
    "a = [49, 13]\n",
    "sum(a)"
   ]
  },
  {
   "cell_type": "code",
   "execution_count": null,
   "metadata": {},
   "outputs": [],
   "source": [
    "answer = []\n",
    "a = [5, 1, 4]\n",
    "for i in a:\n",
    "    for j in range(i):\n",
    "        answer.append(i) \n",
    "\n",
    "print(answer)"
   ]
  },
  {
   "cell_type": "code",
   "execution_count": null,
   "metadata": {},
   "outputs": [],
   "source": [
    "def solution(cards1, cards2, k):\n",
    "    cards1.sort()\n",
    "    cards2.sort()\n",
    "    turns = 0\n",
    "\n",
    "    while cards1 or cards2:\n",
    "        if not cards1:\n",
    "            cards2.pop(0)\n",
    "        elif not cards2:\n",
    "            cards1.pop(0)\n",
    "        elif cards1[0] <= cards2[0]:\n",
    "            if cards1[0] <= cards2[0] - k:\n",
    "                cards1.pop(0)\n",
    "            else:\n",
    "                cards2.pop(0)\n",
    "        else:\n",
    "            if cards2[0] <= cards1[0] - k:\n",
    "                cards2.pop(0)\n",
    "            else:\n",
    "                cards1.pop(0)\n",
    "        turns += 1\n",
    "\n",
    "    return turns - 1  # Adjusting to return correct number of turns\n",
    "\n",
    "# Example usage:\n",
    "cards1 = [2, 4, 6, 8]\n",
    "cards2 = [1, 3, 5]\n",
    "k = 12\n",
    "print(solution(cards1, cards2, k))  # Output: 6\n",
    "\n",
    "\n",
    "cards1 = [88, 91]\n",
    "cards2 = [90, 80]\n",
    "k = 10\n",
    "print(solution(cards1, cards2, k)) \n"
   ]
  },
  {
   "cell_type": "code",
   "execution_count": null,
   "metadata": {},
   "outputs": [],
   "source": [
    "def handshake(N):\n",
    "    # 기본 경우\n",
    "    if N == 1:\n",
    "        return 1\n",
    "    if N == 2:\n",
    "        return 2\n",
    "    if N == 3:\n",
    "        return 3\n",
    "    \n",
    "    dp = [0] * (N + 1)\n",
    "    dp[1] = 1\n",
    "    dp[2] = 2\n",
    "    dp[3] = 3\n",
    "    \n",
    "    for i in range(4, N + 1):\n",
    "        dp[i] = dp[i - 1] + dp[i - 2]\n",
    "    \n",
    "    return dp[N]\n",
    "\n",
    "# 테스트\n",
    "print(handshake(1))  # 1\n",
    "print(handshake(2))  # 2\n",
    "print(handshake(3))  # 3\n",
    "print(handshake(4))  # 4\n",
    "print(handshake(5))  # 5\n"
   ]
  },
  {
   "cell_type": "code",
   "execution_count": null,
   "metadata": {},
   "outputs": [],
   "source": [
    "def solution(n, k, bulbs):\n",
    "    bulbs = list(bulbs)\n",
    "    count = 0\n",
    "    flip_count = [0] * n\n",
    "    \n",
    "    for i in range(n):\n",
    "        if i > 0:\n",
    "            flip_count[i] += flip_count[i - 1]\n",
    "        \n",
    "        current_flips = flip_count[i]\n",
    "        \n",
    "        if bulbs[i] == 'R' and current_flips % 3 == 0:\n",
    "            continue\n",
    "        if bulbs[i] == 'G' and current_flips % 3 == 1:\n",
    "            continue\n",
    "        if bulbs[i] == 'B' and current_flips % 3 == 2:\n",
    "            continue\n",
    "        \n",
    "        if i + k > n:\n",
    "            return -1\n",
    "        \n",
    "        count += 1\n",
    "        current_flips += 1\n",
    "        flip_count[i] += 1\n",
    "        \n",
    "        if i + k < n:\n",
    "            flip_count[i + k] -= 1\n",
    "    \n",
    "    return count\n",
    "\n",
    "# Example usage\n",
    "print(solution(6, 3, \"RBGRGB\"))  # Expected: 3\n",
    "print(solution(3, 2, \"BGG\"))     # Expected: -1\n",
    "print(solution(4, 2, \"GBBG\"))    # Expected: 6\n"
   ]
  },
  {
   "cell_type": "code",
   "execution_count": null,
   "metadata": {},
   "outputs": [],
   "source": [
    "def solution(n, k, bulbs):\n",
    "    bulbs = list(bulbs)  # 문자열을 리스트로 변환하여 조작 가능하게 함\n",
    "    presses = 0\n",
    "    \n",
    "    for i in range(n):\n",
    "        if bulbs[i] != 'R':  # 현재 전구가 빨간색이 아니면\n",
    "            if i + k > n:  # k 범위를 벗어나면 불가능\n",
    "                return -1\n",
    "            \n",
    "            presses += 1  # 버튼을 눌러 변환\n",
    "            for j in range(i, i + k):  # k개의 연속된 전구 변환\n",
    "                if bulbs[j] == 'R':\n",
    "                    bulbs[j] = 'G'\n",
    "                elif bulbs[j] == 'G':\n",
    "                    bulbs[j] = 'B'\n",
    "                elif bulbs[j] == 'B':\n",
    "                    bulbs[j] = 'R'\n",
    "    \n",
    "    return presses\n",
    "\n",
    "# 예시 테스트\n",
    "test1 = solution(6, 3, \"RBGRGB\")  # 예상 결과: 3\n",
    "test2 = solution(3, 2, \"BGG\")    # 예상 결과: -1\n",
    "test3 = solution(4, 2, \"GBBG\")   # 예상 결과: 6\n",
    "print(test1, test2, test3)\n"
   ]
  },
  {
   "cell_type": "code",
   "execution_count": null,
   "metadata": {},
   "outputs": [],
   "source": [
    "a = \" i    love  you\"\n",
    "b = a.split()\n",
    "b\n",
    "# c = ' '.join(b).split()\n",
    "# c\n",
    "# c\n"
   ]
  },
  {
   "cell_type": "code",
   "execution_count": null,
   "metadata": {},
   "outputs": [],
   "source": [
    "a = 1.42\n",
    "int(a)"
   ]
  },
  {
   "cell_type": "code",
   "execution_count": null,
   "metadata": {},
   "outputs": [],
   "source": [
    "arr = [293, 1000, 395, 678, 94]\n",
    "delete_list = [94, 777, 104, 1000, 1, 12]\n",
    "for i in arr:\n",
    "    if i not in delete_list:\n",
    "\n",
    "        print(i)   "
   ]
  },
  {
   "cell_type": "code",
   "execution_count": null,
   "metadata": {},
   "outputs": [],
   "source": [
    "a = \"abcdevwxyz\"\n",
    "answer = ''\n",
    "for _str in a:\n",
    "    if ord(_str) < ord(\"i\"):\n",
    "        _str = \"i\"\n",
    "        answer += _str\n",
    "    else:\n",
    "        answer += _str\n",
    "print(answer)"
   ]
  },
  {
   "cell_type": "code",
   "execution_count": null,
   "metadata": {},
   "outputs": [],
   "source": [
    "a = \"i love you\"\n",
    "a.split()"
   ]
  },
  {
   "cell_type": "code",
   "execution_count": null,
   "metadata": {},
   "outputs": [],
   "source": [
    "a = [[0, 4], [1, 2], [3, 5], [7, 7]]\n",
    "for i in a:\n",
    "    print(i)"
   ]
  },
  {
   "cell_type": "code",
   "execution_count": null,
   "metadata": {},
   "outputs": [],
   "source": [
    "a = \"hamburger\"\n",
    "a[1:2]"
   ]
  },
  {
   "cell_type": "code",
   "execution_count": null,
   "metadata": {},
   "outputs": [],
   "source": [
    "my_strings = [\"progressive\", \"hamburger\", \"hammer\", \"ahocorasick\"]\n",
    "parts = [[0, 4], [1, 2], [3, 5], [7, 7]]"
   ]
  },
  {
   "cell_type": "code",
   "execution_count": null,
   "metadata": {},
   "outputs": [],
   "source": [
    "my_strings[1][parts[1][0]:(parts[1][-1])+1]"
   ]
  },
  {
   "cell_type": "code",
   "execution_count": null,
   "metadata": {},
   "outputs": [],
   "source": [
    "def solution(my_strings, parts):\n",
    "\n",
    "    answer = ''\n",
    "    for i in range(len(my_strings)):\n",
    "        answer += my_strings[i][parts[i][0]:(parts[i][-1])+1]\n",
    "    return answer"
   ]
  },
  {
   "cell_type": "code",
   "execution_count": null,
   "metadata": {},
   "outputs": [],
   "source": [
    "solution(my_strings, parts)"
   ]
  },
  {
   "cell_type": "code",
   "execution_count": null,
   "metadata": {},
   "outputs": [],
   "source": [
    "a = [34, 5, 71, 29, 100, 34]\t\n",
    "b = []\n",
    "for i in a:\n",
    "    print(i)"
   ]
  },
  {
   "cell_type": "code",
   "execution_count": null,
   "metadata": {},
   "outputs": [],
   "source": [
    "num_list = [4, 2, 6, 1, 7, 6]\n",
    "for i in num_list:\n",
    "    print(i)"
   ]
  },
  {
   "cell_type": "code",
   "execution_count": null,
   "metadata": {},
   "outputs": [],
   "source": [
    "names = [\"nami\", \"ahri\", \"jayce\", \"garen\", \"ivern\", \"vex\", \"jinx\"]\n",
    "names_2 = [\"vex\", \"jinx\"]\n",
    "names[0::5]"
   ]
  },
  {
   "cell_type": "code",
   "execution_count": null,
   "metadata": {},
   "outputs": [],
   "source": [
    "len(names) % 5"
   ]
  },
  {
   "cell_type": "code",
   "execution_count": null,
   "metadata": {},
   "outputs": [],
   "source": [
    "arr = [1, 2, 3, 100, 99, 98]\n",
    "map(list, (arr%2))"
   ]
  },
  {
   "cell_type": "code",
   "execution_count": null,
   "metadata": {},
   "outputs": [],
   "source": [
    "a = \"oxooxoxxox\"\n",
    "a.split('x')"
   ]
  },
  {
   "cell_type": "code",
   "execution_count": null,
   "metadata": {},
   "outputs": [],
   "source": [
    "a = [4, 2, 6, 1, 7, 6]\n",
    "a[1:len(a):2]"
   ]
  },
  {
   "cell_type": "code",
   "execution_count": null,
   "metadata": {},
   "outputs": [],
   "source": [
    "a = []\n",
    "for i in range(3):\n",
    "    b = []\n",
    "    b.append(0)\n",
    "    for j in range(2):\n",
    "        b.append(0)\n",
    "    a.append(b)\n",
    "a\n"
   ]
  },
  {
   "cell_type": "code",
   "execution_count": null,
   "metadata": {},
   "outputs": [],
   "source": [
    "a = []\n",
    "for i in range(5):\n",
    "    a.append([0]*5)\n",
    "for j in range(5):\n",
    "    a[j][j] = 1\n",
    "a"
   ]
  },
  {
   "cell_type": "code",
   "execution_count": null,
   "metadata": {},
   "outputs": [],
   "source": [
    "a = \"43 + 12\"\n",
    "b = a.split()\n",
    "c = []\n"
   ]
  },
  {
   "cell_type": "code",
   "execution_count": null,
   "metadata": {},
   "outputs": [],
   "source": [
    "a = \"43 + 12\"\n",
    "a=eval(a)\n",
    "a"
   ]
  },
  {
   "cell_type": "code",
   "execution_count": null,
   "metadata": {},
   "outputs": [],
   "source": [
    "a = [1, 2, 3, 4, 5]\n",
    "a[1:3]"
   ]
  },
  {
   "cell_type": "code",
   "execution_count": null,
   "metadata": {},
   "outputs": [],
   "source": [
    "a = \"banana\"\n",
    "def solution(my_string):\n",
    "    answer = []\n",
    "\n",
    "    for i in range(len(my_string)):\n",
    "        answer.append(my_string[i:])\n",
    "        answer.sort()\n",
    "    return answer\n",
    "\n",
    "solution(a)"
   ]
  },
  {
   "cell_type": "code",
   "execution_count": null,
   "metadata": {},
   "outputs": [],
   "source": [
    "a = \"123\"\n",
    "int(a)"
   ]
  },
  {
   "cell_type": "code",
   "execution_count": null,
   "metadata": {},
   "outputs": [],
   "source": [
    "\"w\" = 수에 1을 더한다.\n",
    "\"s\" : 수에 1을 뺀다.\n",
    "\"d\" : 수에 10을 더한다.\n",
    "\"a\" : 수에 10을 뺀다."
   ]
  },
  {
   "cell_type": "code",
   "execution_count": null,
   "metadata": {},
   "outputs": [],
   "source": [
    "w = 1\n",
    "s = -1\n",
    "d = 10\n",
    "a = -10\n",
    "\n",
    "numLog = [0, 1, 0, 10, 0, 1, 0, 10, 0, -1, -2, -1]\n",
    "answer = \"\"\n",
    "for i in range(len(numLog)-1):\n",
    "    if numLog[i] + w == numLog[i+1]:\n",
    "        answer += \"w\"\n",
    "    elif numLog[i] + s == numLog[i+1]:\n",
    "        answer += \"s\"\n",
    "    elif numLog[i] + d == numLog[i+1]:\n",
    "        answer += \"d\"\n",
    "    else:\n",
    "        answer += \"a\"\n",
    "\n",
    "answer\n"
   ]
  },
  {
   "cell_type": "code",
   "execution_count": null,
   "metadata": {},
   "outputs": [],
   "source": [
    "a = 1\n",
    "b = 2\n",
    "c = 1\n",
    "d = str(a) + str(b) + str(c)\n",
    "len(set(d))"
   ]
  },
  {
   "cell_type": "code",
   "execution_count": null,
   "metadata": {},
   "outputs": [],
   "source": [
    "len(set(str(a)+str(b)+str(c))) == 3"
   ]
  },
  {
   "cell_type": "code",
   "execution_count": null,
   "metadata": {},
   "outputs": [],
   "source": [
    "def solution(a, b, c):\n",
    "    answer = len(set(str(a)+str(b)+str(c)))\n",
    "    print(answer)\n",
    "solution(a, b, c)\n"
   ]
  },
  {
   "cell_type": "code",
   "execution_count": null,
   "metadata": {},
   "outputs": [],
   "source": [
    "c = 4 5"
   ]
  },
  {
   "cell_type": "code",
   "execution_count": null,
   "metadata": {},
   "outputs": [],
   "source": [
    "a, b = map(int, input().strip().split(\" \"))\n",
    "print(a + b)"
   ]
  },
  {
   "cell_type": "code",
   "execution_count": null,
   "metadata": {},
   "outputs": [],
   "source": [
    "idx_list = 1,23,4,5,6\n",
    "if 1 in idx_list:\n",
    "    print(idx_list)"
   ]
  },
  {
   "cell_type": "code",
   "execution_count": null,
   "metadata": {},
   "outputs": [],
   "source": [
    "for i in enumerate"
   ]
  },
  {
   "cell_type": "code",
   "execution_count": null,
   "metadata": {},
   "outputs": [],
   "source": [
    "arr = [1, 0, 0, 1, 0, 0]\t\n",
    "idx = 4\n",
    "\n",
    "def solution(arr, idx):\n",
    "    left = -1\n",
    "    right = 1\n",
    "    while True:\n",
    "        if arr[idx] == 0:\n",
    "            if arr[idx-left] == 1 and arr[idx+right] == 0:\n",
    "                return left\n",
    "            elif arr[idx-left] == 0 and arr[idx+right] == 1:\n",
    "                return right\n",
    "            else:\n",
    "                left -= 1\n",
    "                right += 1\n",
    "        else:\n",
    "             return idx\n",
    "        "
   ]
  },
  {
   "cell_type": "code",
   "execution_count": null,
   "metadata": {},
   "outputs": [],
   "source": [
    "solution(arr, idx)"
   ]
  },
  {
   "cell_type": "code",
   "execution_count": null,
   "metadata": {},
   "outputs": [],
   "source": [
    "min(arr)"
   ]
  },
  {
   "cell_type": "code",
   "execution_count": null,
   "metadata": {},
   "outputs": [],
   "source": [
    "arr = [1, 0, 0, 1, 0, 0]\n",
    "idx = 4\n",
    "for i in range(idx, len(arr)):\n",
    "    if arr[i] == 1:\n",
    "        print(i) \n",
    "print(-1)         \n",
    "        \n",
    "    "
   ]
  },
  {
   "cell_type": "code",
   "execution_count": null,
   "metadata": {},
   "outputs": [],
   "source": [
    "n = [10, 5, 16, 8, 4, 2, 1]\n",
    "k = n[0]\n",
    "k.append(n[1])\n",
    "k"
   ]
  },
  {
   "cell_type": "code",
   "execution_count": null,
   "metadata": {},
   "outputs": [],
   "source": [
    "n = 10"
   ]
  },
  {
   "cell_type": "code",
   "execution_count": null,
   "metadata": {},
   "outputs": [],
   "source": [
    "def solution(n):\n",
    "    res = [n]\n",
    "\n",
    "    while n != 1:\n",
    "        if n%2:\n",
    "            n = 3 * n + 1\n",
    "        else:\n",
    "            n //= 2\n",
    "        \n",
    "        res.append(n)\n",
    "\n",
    "    return res\n",
    "\n",
    "solution(n)"
   ]
  },
  {
   "cell_type": "code",
   "execution_count": null,
   "metadata": {},
   "outputs": [],
   "source": [
    "def solution(arr):\n",
    "    answer = 0\n",
    "    for i in range(len(arr)):\n",
    "        for j in range(len(arr)):\n",
    "            while arr[i][j] != arr[j][i]:\n",
    "                return 0\n",
    "            else:\n",
    "                return 1\n",
    "\n",
    "            \n",
    "\n",
    "\n",
    "    \n"
   ]
  },
  {
   "cell_type": "code",
   "execution_count": null,
   "metadata": {},
   "outputs": [],
   "source": [
    "arr = [[5, 192, 33], [192, 72, 95], [33, 95, 999]]\n",
    "solution(arr)"
   ]
  },
  {
   "cell_type": "code",
   "execution_count": null,
   "metadata": {},
   "outputs": [],
   "source": [
    "\n",
    "# arr = [[19, 498, 258, 587], [63, 93, 7, 754], [258, 7, 1000, 723], [587, 754, 723, 81]]\n",
    "arr = [[5, 192, 33], [192, 72, 95], [33, 95, 999]]\n",
    "answer = []\n",
    "def solution(arr):\n",
    "    for i in range(len(arr)):\n",
    "        for j in range(len(arr)):\n",
    "            if arr[i][j] != arr[j][i]:\n",
    "                answer.append(0) \n",
    "            else:\n",
    "                answer.append(1)\n",
    "    if sum(answer) == 0:\n",
    "        return 0\n",
    "    else:\n",
    "        if len(set(answer)) == 1:\n",
    "            return 1\n",
    "        else:\n",
    "            return 0  \n",
    "  \n",
    "\n",
    "solution(arr)"
   ]
  },
  {
   "cell_type": "code",
   "execution_count": null,
   "metadata": {},
   "outputs": [],
   "source": [
    "my_string = \"ihrhbakrfpndopljhygc\"\n",
    "m = 4\n",
    "c = 2\n",
    "\n",
    "def solution(my_string, m, c):\n",
    "    answer = ''\n",
    "    for \n",
    "    return answer\n",
    "\n",
    "\n",
    "solution(my_string, m, c)"
   ]
  },
  {
   "cell_type": "code",
   "execution_count": null,
   "metadata": {},
   "outputs": [],
   "source": [
    "s = \"ihrhbakrfpndopljhygc\"\n",
    "m = 4\n",
    "c = 2\n",
    "def solution(s, m, c):\n",
    "    return s[c-1::m]\n",
    "\n",
    "\n",
    "s[1::4]"
   ]
  },
  {
   "cell_type": "code",
   "execution_count": null,
   "metadata": {},
   "outputs": [],
   "source": [
    "grid = [[3, 4, 5], [2, 3, 4], [1, 2, 3]]\n",
    "N = len([[3, 4, 5], [2, 3, 4], [1, 2, 3]])\n",
    "psum = [[0] * (N + 1) for _ in range(N + 1)]\n",
    "psum\n"
   ]
  },
  {
   "cell_type": "code",
   "execution_count": null,
   "metadata": {},
   "outputs": [],
   "source": [
    "a = 3\n",
    "b = 4\n",
    "included = ['true', 'false', 'false', 'true', 'true']\n",
    "answer = [a]\n",
    "for i in range(len(included)-1):\n",
    "    a += b\n",
    "    answer.append((a))\n",
    "c = []\n",
    "for idx, bul in enumerate(included):\n",
    "    if bul == 'true':\n",
    "        c.append(answer[idx])\n",
    "\n",
    "print(sum(c))\n",
    "\n",
    "\n"
   ]
  },
  {
   "cell_type": "code",
   "execution_count": null,
   "metadata": {},
   "outputs": [],
   "source": [
    "board = [[0, 1, 2],[1, 2, 3],[2, 3, 4],[3, 4, 5]]\n"
   ]
  },
  {
   "cell_type": "code",
   "execution_count": null,
   "metadata": {},
   "outputs": [],
   "source": [
    "board = [[0, 1, 2],[1, 2, 3],[2, 3, 4],[3, 4, 5]]\n",
    "k = 2\n",
    "for i in range(len(board)):\n",
    "    for j in range(len(board[i])):\n",
    "        if board[i][j] <= k:\n",
    "            print(i, j)"
   ]
  },
  {
   "cell_type": "code",
   "execution_count": null,
   "metadata": {},
   "outputs": [],
   "source": [
    "a = \"axbxcxdx\"\n",
    "b = sorted(a.split('x'))\n",
    "c = ' '.join(b).split()\n",
    "c"
   ]
  },
  {
   "cell_type": "code",
   "execution_count": null,
   "metadata": {},
   "outputs": [],
   "source": [
    "b = ' '.join(a).split()\n",
    "b.split('x')"
   ]
  },
  {
   "cell_type": "code",
   "execution_count": null,
   "metadata": {},
   "outputs": [],
   "source": [
    "str1 = \"aaaaa\"\t\n",
    "str2 = \"bbbbb\"\n",
    "\n",
    "\n",
    "str3 = ''\n",
    "for i in range(len(str1)):\n",
    "     str3 += str1[i] + str2[i]\n",
    "     \n",
    "str3"
   ]
  },
  {
   "cell_type": "code",
   "execution_count": null,
   "metadata": {},
   "outputs": [],
   "source": [
    "import datetime\n",
    "date1=[2021, 12, 28]\t\n",
    "date2=[2021, 12, 29]\n",
    "\n",
    "\n",
    "datetime.date(2021, 12, 28) > datetime.date(2021, 12, 29)\n"
   ]
  },
  {
   "cell_type": "code",
   "execution_count": null,
   "metadata": {},
   "outputs": [],
   "source": [
    "date1=[2021, 12, 28]\t\n",
    "date2 = datetime.date(date1[0], date1[1], date1[2])\n",
    "date2\n",
    "\n"
   ]
  },
  {
   "cell_type": "code",
   "execution_count": null,
   "metadata": {},
   "outputs": [],
   "source": [
    "a = [3, 3, 3, 3, 4, 4]\n",
    "a[:-2]"
   ]
  },
  {
   "cell_type": "code",
   "execution_count": null,
   "metadata": {},
   "outputs": [],
   "source": [
    "arr = [3, 2, 4, 1, 3]\n",
    "flag = [True, False, True, False, False]\n",
    "\n",
    "def solution(arr, flag):\n",
    "    answer = []\n",
    "    for i in range(len(flag)):\n",
    "        if flag[i] == True:\n",
    "            answer.extend([arr[i]]*arr[i]*2)\n",
    "        else:\n",
    "            answer = answer[:-arr[i]]\n",
    "            print(answer)\n",
    "    return answer\n",
    "\n",
    "solution(arr, flag)"
   ]
  },
  {
   "cell_type": "code",
   "execution_count": null,
   "metadata": {},
   "outputs": [],
   "source": [
    "arr = [3]\n",
    "arr.extend([arr[0]]*2)\n",
    "arr"
   ]
  },
  {
   "cell_type": "code",
   "execution_count": null,
   "metadata": {},
   "outputs": [],
   "source": [
    "a = \"apporoograpemmemprs\"\n",
    "\n",
    "a.replace(a[0], '')\n",
    "\n"
   ]
  },
  {
   "cell_type": "code",
   "execution_count": null,
   "metadata": {},
   "outputs": [],
   "source": [
    "my_string = \"apporoograpemmemprs\"\n",
    "indices = [1, 16, 6, 15, 0, 10, 11, 3]\n",
    "answer = ''\n",
    "for i in indices:\n",
    "    my_string = my_string.replace(my_string[i], '')\n",
    "\n",
    "my_string    "
   ]
  },
  {
   "cell_type": "code",
   "execution_count": null,
   "metadata": {},
   "outputs": [],
   "source": [
    "my_string = \"apporoograpemmemprs\"\n",
    "answer = list(my_string)\n",
    "answer.remove(my_string[0])\n",
    "print(my_string)\n",
    "print(''.join(answer))"
   ]
  },
  {
   "cell_type": "code",
   "execution_count": null,
   "metadata": {},
   "outputs": [],
   "source": [
    "my_string = \"apporoograpemmemprs\"\n",
    "indices = [1, 16, 6, 15, 0, 10, 11, 3]\n",
    "answer = ''\n",
    "for idx, mystr in enumerate(my_string):\n",
    "    if idx not in indices:\n",
    "        answer += mystr\n",
    "answer\n"
   ]
  },
  {
   "cell_type": "code",
   "execution_count": null,
   "metadata": {},
   "outputs": [],
   "source": [
    "a = \"Progra21Sremm3\"\n",
    "a = list(a)\n",
    "a[6:13] = a[6:13][::-1]\n",
    "\n",
    "''.join(a)"
   ]
  },
  {
   "cell_type": "code",
   "execution_count": null,
   "metadata": {},
   "outputs": [],
   "source": [
    "a = \"9999999999999\"\n",
    "b = \"9876543210\"\n",
    "a[5:5+5]"
   ]
  },
  {
   "cell_type": "code",
   "execution_count": null,
   "metadata": {},
   "outputs": [],
   "source": [
    "myString = \"AbCdEFG\"\n",
    "pat = \"dE\"\n",
    "idxs = []\n",
    "for idx, Str in enumerate(myString):\n",
    "    if Str in pat:\n",
    "        idxs.append(idx)\n",
    "print(myString[:max(idxs)+1])\n",
    "        \n",
    "    "
   ]
  },
  {
   "cell_type": "code",
   "execution_count": null,
   "metadata": {},
   "outputs": [],
   "source": [
    "a = [0, 1, 2, 3, 4]\n",
    "a[1:2]"
   ]
  },
  {
   "cell_type": "code",
   "execution_count": null,
   "metadata": {},
   "outputs": [],
   "source": [
    "arr = [0, 1, 2, 3, 4]\n",
    "queries = [[0, 1],[1, 2],[2, 3]]\n",
    "answer = []\n",
    "for i in range(len(queries)):\n",
    "    for j in range(len(queries)-1):\n",
    "        arr[queries[i][j]] = arr[queries[i][j]]+1\n",
    "        print(arr)\n",
    "print(\"arr\", arr)"
   ]
  },
  {
   "cell_type": "code",
   "execution_count": null,
   "metadata": {},
   "outputs": [],
   "source": [
    "arr = [0, 1, 2, 3, 4]\n",
    "queries = [[0, 1],[1, 2],[2, 3]]\n",
    "queries = sum(queries, [])\n",
    "for i in queries:\n",
    "    arr[i] = arr[i] + 1\n",
    "arr"
   ]
  },
  {
   "cell_type": "code",
   "execution_count": null,
   "metadata": {},
   "outputs": [],
   "source": [
    "def isPowerOf2(n):\n",
    "    return (n&(n-1))==0\n",
    "\n",
    "\n",
    "isPowerOf2(2)"
   ]
  },
  {
   "cell_type": "code",
   "execution_count": null,
   "metadata": {},
   "outputs": [],
   "source": [
    "arr = [1, 2, 3, 4, 5, 6]\n",
    "\n",
    "import math\n",
    "def isPowerOf2(n):\n",
    "    return (n&(n-1))==0\n",
    "\n",
    "def solution(arr):\n",
    "    if isPowerOf2(len(arr)) == True:\n",
    "        return arr\n",
    "    else:\n",
    "        log2_x = math.log(len(arr), 2)\n",
    "        print(log2_x)\n",
    "        n = math.ceil(log2_x)\n",
    "        print(n)\n",
    "        plus = int(2**n - len(arr))\n",
    "        print(plus)\n",
    "    \n",
    "        arr.extend([0]*plus)\n",
    "        \n",
    "    return arr\n",
    "\n",
    "solution(arr)\n"
   ]
  },
  {
   "cell_type": "code",
   "execution_count": null,
   "metadata": {},
   "outputs": [],
   "source": [
    "num_list = [12, 4, 15, 1, 14]\n",
    "def solution(num_list):\n",
    "    answer = 0\n",
    "    for i in num_list:\n",
    "        while i > 1:\n",
    "            i = i // 2\n",
    "            answer += 1\n",
    "    return answer\n",
    "\n",
    "\n",
    "\n",
    "\n",
    "solution(num_list)"
   ]
  },
  {
   "cell_type": "code",
   "execution_count": null,
   "metadata": {},
   "outputs": [],
   "source": [
    "answer = 0\n",
    "n = 10\n",
    "while n>1:\n",
    "    n = n//2\n",
    "    answer += 1\n",
    "\n",
    "answer\n"
   ]
  },
  {
   "cell_type": "code",
   "execution_count": null,
   "metadata": {},
   "outputs": [],
   "source": [
    "4//2"
   ]
  },
  {
   "cell_type": "code",
   "execution_count": null,
   "metadata": {},
   "outputs": [],
   "source": [
    "import json\n",
    "\n",
    "# 주어진 JSON 메시지\n",
    "message = '''\n",
    "[\n",
    "    {\"role\": \"system\", \"content\": \"\\\\n\\\\n HCX도우미입니다.\\\\n\\\\n\"},\n",
    "    {\"role\": \"user\", \"content\": \"서울날씨알려줘\"},\n",
    "    {\n",
    "        \"role\": \"assistant\",\n",
    "        \"content\": null,\n",
    "        \"function_call\": null,\n",
    "        \"tool_calls\": [\n",
    "            {\n",
    "                \"id\": \"call_BtzkxPVTyuCssazfUzuLGCSN\",\n",
    "                \"function\": {\n",
    "                    \"arguments\": \"{\\\\\"text\\\\\": \\\\\"서울 날씨 알려줘\\\\\", \\\\\"location\\\\\": \\\\\"서울\\\\\"}\",\n",
    "                    \"name\": \"weather_forecast\"\n",
    "                },\n",
    "                \"type\": \"function\"\n",
    "            }\n",
    "        ]\n",
    "    },\n",
    "    {\n",
    "        \"tool_call_id\": \"call_BtzkxPVTyuCssazfUzuLGCSN\",\n",
    "        \"role\": \"tool\",\n",
    "        \"name\": \"weather_forecast\",\n",
    "        \"content\": \"서울날씨 : 구름많음\\\\n온도 : 26ºC \\\\n습도 : 55%\"\n",
    "    }\n",
    "]\n",
    "'''\n",
    "\n",
    "# JSON 문자열을 파이썬 객체로 변환\n",
    "messages = json.loads(message)\n",
    "\n",
    "# 'system' 및 'tool' 역할의 정보를 추출하는 함수\n",
    "def parse_messages(messages):\n",
    "    system_message = None\n",
    "    tool_message = None\n",
    "    \n",
    "    for message in messages:\n",
    "        if message.get('role') == 'system':\n",
    "            system_message = message['content']\n",
    "        elif message.get('role') == 'tool':\n",
    "            tool_message = {\n",
    "                \"name\": message['name'],\n",
    "                \"content\": message['content']\n",
    "            }\n",
    "    \n",
    "    return system_message, tool_message\n",
    "\n",
    "# 함수 호출\n",
    "system_content, tool_info = parse_messages(messages)\n",
    "\n",
    "# 결과 출력\n",
    "print(f\"System Content: {system_content}\")\n",
    "if tool_info:\n",
    "    # print( tool_info['name'])\n",
    "    print( tool_info['content'])\n"
   ]
  },
  {
   "cell_type": "code",
   "execution_count": null,
   "metadata": {},
   "outputs": [],
   "source": [
    "a = True\n",
    "b = False\n",
    "\n",
    "a or b"
   ]
  },
  {
   "cell_type": "code",
   "execution_count": null,
   "metadata": {},
   "outputs": [],
   "source": [
    "myString = \"aaaa\"\n",
    "pat = \"aa\"\n",
    "myString.count(pat)\n",
    "\n",
    "answer = 0\n",
    "for i in range(len(myString)):\n",
    "    if pat in myString[i:i+len(pat)]:\n",
    "        answer += 1\n",
    "\n",
    "answer"
   ]
  },
  {
   "cell_type": "code",
   "execution_count": null,
   "metadata": {},
   "outputs": [],
   "source": [
    "a = \"aaaa\"\n",
    "a[0:6]"
   ]
  },
  {
   "cell_type": "code",
   "execution_count": null,
   "metadata": {},
   "outputs": [],
   "source": [
    "arr = [0, 1, 2, 3, 4]\n",
    "queries = [[0, 3],[1, 2],[1, 4]]\n",
    "answer = arr.copy()\n",
    "for i in queries:\n",
    "    answer[i[0]] = arr[i[1]]\n",
    "    answer[i[1]] = arr[i[0]]\n",
    "    arr = answer\n",
    "\n",
    "    print(answer)"
   ]
  },
  {
   "cell_type": "code",
   "execution_count": null,
   "metadata": {},
   "outputs": [],
   "source": [
    "arr = [0, 1, 2, 3, 4]\n",
    "queries = [[0, 3],[1, 2],[1, 4]]\n",
    "\n",
    "for i in range(len(queries)):\n",
    "    arr[queries[i][0]], arr[queries[i][1]] = arr[queries[i][1]], arr[queries[i][0]]\n",
    "    \n",
    "\n",
    "arr"
   ]
  },
  {
   "cell_type": "code",
   "execution_count": null,
   "metadata": {},
   "outputs": [],
   "source": [
    "mystr = \"cabab\"\n",
    "\n",
    "a = list(filter(None, ('c'.join('b'.join(mystr.split(\"a\")).split(\"b\")).split(\"c\"))))\n",
    "a"
   ]
  },
  {
   "cell_type": "code",
   "execution_count": null,
   "metadata": {},
   "outputs": [],
   "source": [
    "mystr = \"baconlettucetomato\"\n",
    "('b'.join(mystr.split(\"a\")).split(\"b\"))"
   ]
  },
  {
   "cell_type": "code",
   "execution_count": null,
   "metadata": {},
   "outputs": [],
   "source": [
    "from collections import Counter\n",
    "strArr = [\"a\",\"bc\",\"d\",\"efg\",\"hi\"]\n",
    "answer = []\n",
    "for i in strArr:\n",
    "    answer.append(len(i))\n",
    "counter = Counter(answer)\n",
    "print(dict(counter))\n",
    "max((counter).values())"
   ]
  },
  {
   "cell_type": "code",
   "execution_count": null,
   "metadata": {},
   "outputs": [],
   "source": [
    "arr = [1, 2, 1, 4, 5, 2, 9]\n",
    "answer = []\n",
    "def solution(arr):\n",
    "    for idx, x in enumerate(arr):\n",
    "        if x == 2:\n",
    "            answer.append(idx)\n",
    "        if arr.count(2) == 0:\n",
    "            return -1\n",
    "    return arr[answer[0]:answer[-1]+1]\n",
    "\n",
    "solution(arr)\n",
    "\n",
    "    \n"
   ]
  },
  {
   "cell_type": "code",
   "execution_count": null,
   "metadata": {},
   "outputs": [],
   "source": [
    "a = [1, 2, 3, 4, 5, 6, 7, 8, 9]\n",
    "a[1:6]"
   ]
  },
  {
   "cell_type": "code",
   "execution_count": null,
   "metadata": {},
   "outputs": [],
   "source": [
    "arr = [0, 1, 2, 4, 3]\t\n",
    "queries = [[0, 4, 1],[0, 3, 2],[0, 3, 3]]\n",
    "\n",
    "# answer = arr.copy()\n",
    "for i in queries:\n",
    "    a, b, c = i\n",
    "    for j in range(a,b+1,c):\n",
    "        arr[j] = arr[j] + 1\n",
    "        print(arr)\n",
    "        \n",
    "        \n",
    "        \n",
    "        \n",
    "            \n",
    "\n",
    "    \n",
    "    \n",
    "    \n",
    "    # answer.append([i+1 for i in arr[i[0]:i[1]+1:i[2]]])\n",
    "    # print(answer)\n",
    "\n",
    "    \n",
    "    \n"
   ]
  },
  {
   "cell_type": "code",
   "execution_count": null,
   "metadata": {},
   "outputs": [],
   "source": [
    "arr = [1, 2, 3, 5, 4]\n",
    "for k in range(0,3,2):\n",
    "    print(arr[k])\n",
    "    \n"
   ]
  },
  {
   "cell_type": "code",
   "execution_count": null,
   "metadata": {},
   "outputs": [],
   "source": [
    "a = [\"cafelatte\", \"americanoice\", \"hotcafelatte\", \"anything\"]\n",
    "a.count(\"americano\")"
   ]
  },
  {
   "cell_type": "code",
   "execution_count": null,
   "metadata": {},
   "outputs": [],
   "source": [
    "arr = [1, 2, 3, 100, 99, 98]\n",
    "answer = []\n",
    "for i in arr:\n",
    "    if i >= 50:\n",
    "        if i % 2 == 0:\n",
    "            answer.append(i/2)\n",
    "    if i < 50:\n",
    "        if i % 2 != 0:\n",
    "            answer.append((i*2)+1)\n",
    "    \n",
    "    if answer != arr:\n",
    "        arr = answer\n",
    "    else:\n",
    "        return answer\n"
   ]
  },
  {
   "cell_type": "code",
   "execution_count": null,
   "metadata": {},
   "outputs": [],
   "source": [
    "arr = [1, 2, 3, 100, 99, 98]\n",
    "\n",
    "def solution(arr):\n",
    "    answer = []\n",
    "    score = 0\n",
    "    for i in range(len(arr)):\n",
    "        \n",
    "        if arr[i] >= 50:\n",
    "            if arr[i] % 2 == 0:\n",
    "                answer.append([arr[i]/2])\n",
    "            else:\n",
    "                answer.append([arr[i]])\n",
    "        if arr[i] < 50:\n",
    "            if arr[i] % 2 != 0:\n",
    "                answer.append([(arr[i]*2)+1])\n",
    "            else:\n",
    "                answer.append([arr[i]])\n",
    "\n",
    "\n",
    "    if answer[i-1] == answer[i]:\n",
    "        return i-1\n",
    "\n",
    "\n",
    "\n",
    "\n",
    "solution(arr)"
   ]
  },
  {
   "cell_type": "code",
   "execution_count": null,
   "metadata": {},
   "outputs": [],
   "source": [
    "def solution(arr):\n",
    "    x = 0\n",
    "    while(True):\n",
    "        next = []\n",
    "        for i in arr:\n",
    "            if i >= 50 and i % 2 == 0 :\n",
    "                next.append(int(i/2))\n",
    "            elif i < 50 and i % 2 == 1:\n",
    "                next.append(i*2 + 1)\n",
    "            else:\n",
    "                next.append(i)\n",
    "                \n",
    "        if arr == next:\n",
    "            return x\n",
    "        else:\n",
    "            x = x + 1\n",
    "            arr = next"
   ]
  },
  {
   "cell_type": "code",
   "execution_count": null,
   "metadata": {},
   "outputs": [],
   "source": [
    "code = \"qjnwezgrpirldywt\"\n",
    "q = 3\n",
    "r = 1\n",
    "def solution(q, r, code):\n",
    "    answer = ''\n",
    "    for idx, x in code:\n",
    "        if idx%q == r:\n",
    "            answer += x\n",
    "    return answer\n",
    "\n",
    "\n",
    "solution(q, r, code)"
   ]
  },
  {
   "cell_type": "code",
   "execution_count": null,
   "metadata": {},
   "outputs": [],
   "source": [
    "print(r'!@#$%^&*(\\'\"<>?:;')"
   ]
  },
  {
   "cell_type": "code",
   "execution_count": null,
   "metadata": {},
   "outputs": [],
   "source": [
    "alpabat = \"Abcdefghijklmnopqrstuvwxyz\"\n",
    "upp = ''\n",
    "low = ''\n",
    "result = [0]*52\n",
    "for i in alpabat:\n",
    "    if i.isupper():\n",
    "        upp += i\n",
    "    if i.islower():\n",
    "        low += i\n",
    "for i in upp:\n",
    "    arr = ord(i) - 65\n",
    "    result[arr] += 1\n",
    "for i in low:\n",
    "    arr = ord(i) - 97\n",
    "    result[arr] += 1\n",
    "\n",
    "result\n"
   ]
  },
  {
   "cell_type": "code",
   "execution_count": null,
   "metadata": {},
   "outputs": [],
   "source": [
    "alpabat = \"bcdefghijklmnopqrstuvwxyz\"\n",
    "for i in alpabat:\n",
    "    arr = ord(i) - 71\n",
    "    print(arr)\n",
    "    "
   ]
  },
  {
   "cell_type": "code",
   "execution_count": null,
   "metadata": {},
   "outputs": [],
   "source": [
    "arr = [1, 4, 2, 5, 3]\n",
    "def solution(arr):\n",
    "    stk = []\n",
    "    i = 0\n",
    "    for i in range(len(arr)):\n",
    "        if stk == []:\n",
    "            stk.append(arr[i])\n",
    "            i += 1\n",
    "        if stk != []:\n",
    "            if stk[-1] < arr[i]:\n",
    "                stk.append(arr[i])\n",
    "                i += 1\n",
    "            if stk[-1] >= arr[i] :\n",
    "                stk.pop()\n",
    "    return stk\n",
    "\n",
    "                \n",
    "        \n",
    "\n",
    "solution(arr)"
   ]
  },
  {
   "cell_type": "code",
   "execution_count": null,
   "metadata": {},
   "outputs": [],
   "source": [
    "arr = [1, 4, 2, 5, 3]\n",
    "arr.remove(arr[-1])\n",
    "arr"
   ]
  },
  {
   "cell_type": "code",
   "execution_count": null,
   "metadata": {},
   "outputs": [],
   "source": [
    "print(r'!@#$%^&*(\\'\"<>?:;')\n",
    "# !@#$%^&*(\\'\"<>?:;\n"
   ]
  },
  {
   "cell_type": "code",
   "execution_count": null,
   "metadata": {},
   "outputs": [],
   "source": [
    "str1 = \"apple\" \n",
    "str2 = \"pen\"\n",
    "\n",
    "print(\"\".join(str1+str2))"
   ]
  },
  {
   "cell_type": "code",
   "execution_count": null,
   "metadata": {},
   "outputs": [],
   "source": [
    "my_string = \"He11oWor1d\"\n",
    "overwrite_string = \"lloWorl\"\n",
    "print(len(my_string))\n",
    "s = 2\n",
    "\n",
    "my_string.replace(my_string[2:], overwrite_string)\n",
    "my_string\n",
    "\n",
    "# my_string[2:]\n",
    "\n",
    "\n",
    "\n"
   ]
  },
  {
   "cell_type": "code",
   "execution_count": null,
   "metadata": {},
   "outputs": [],
   "source": [
    "my_string = \"He11oWor1d\"\n",
    "overwrite_string = \"lloWorl\"\n",
    "s = 2\n",
    "my_string = list(my_string)\n",
    "my_string[s:s+len(overwrite_string)] = list(overwrite_string)\n",
    "new_string = ''.join(my_string)\n",
    "new_string\n"
   ]
  },
  {
   "cell_type": "code",
   "execution_count": null,
   "metadata": {},
   "outputs": [],
   "source": [
    "my_string.replace(my_string[s:s+len(my_string)], overwrite_string)"
   ]
  },
  {
   "cell_type": "code",
   "execution_count": null,
   "metadata": {},
   "outputs": [],
   "source": [
    "max(1, 2, 3, 4, 5)"
   ]
  },
  {
   "cell_type": "code",
   "execution_count": null,
   "metadata": {},
   "outputs": [],
   "source": [
    "for i in range(0, 10, 2):\n",
    "    print(i)"
   ]
  },
  {
   "cell_type": "code",
   "execution_count": null,
   "metadata": {},
   "outputs": [],
   "source": [
    "a = \"<\"\n",
    "b = \"=\"\n",
    "\n",
    "bool(a+b)\n"
   ]
  },
  {
   "cell_type": "code",
   "execution_count": null,
   "metadata": {},
   "outputs": [],
   "source": [
    "ineq = \"<\"\n",
    "eq = \"=\"\n",
    "n = 20\n",
    "m = 50\n",
    "\n",
    "answer = f\"{n}{ineq}{eq}{m}\"\n",
    "eval(answer)"
   ]
  },
  {
   "cell_type": "code",
   "execution_count": null,
   "metadata": {},
   "outputs": [],
   "source": [
    "a = 3\n",
    "b = 4\n",
    "def solution(a, d, included):\n",
    "    answer = 0\n",
    "    sequence = [a]\n",
    "    for i in range(1, len(included)):\n",
    "        sequence.append(a+(i*b))"
   ]
  },
  {
   "cell_type": "code",
   "execution_count": null,
   "metadata": {},
   "outputs": [],
   "source": [
    "a = 3\n",
    "b = 4\n",
    "sequence = [a]\n",
    "for i in range(1, 5):\n",
    "    sequence.append(a+(i*b))\n",
    "\n"
   ]
  },
  {
   "cell_type": "code",
   "execution_count": null,
   "metadata": {},
   "outputs": [],
   "source": [
    "import collections\n",
    "a = 6\n",
    "list_a = [6,6,6]\n",
    "uu = collections.Counter(list_a)\n",
    "print(uu[a])\n"
   ]
  },
  {
   "cell_type": "code",
   "execution_count": null,
   "metadata": {},
   "outputs": [],
   "source": [
    "num_list = [5, 7, 8, 3]\n",
    "multi = 1\n",
    "num_sum = sum(num_list)\n",
    "\n",
    "for num in num_list:\n",
    "    print(num)\n",
    "    multi *= num\n",
    "    \n",
    "    \n",
    "multi"
   ]
  },
  {
   "cell_type": "code",
   "execution_count": null,
   "metadata": {},
   "outputs": [],
   "source": [
    "num_list = [3, 4, 5, 2, 1]\t\n",
    "\n",
    "even = []\n",
    "odd = []\n",
    "for num in num_list:\n",
    "    if num % 2 == 0:\n",
    "        even.append(num)\n",
    "    else:\n",
    "        odd.append(num)\n",
    "''.join(even) "
   ]
  },
  {
   "cell_type": "code",
   "execution_count": null,
   "metadata": {},
   "outputs": [],
   "source": [
    "num_list = [2, 1, 6]\n",
    "\n"
   ]
  },
  {
   "cell_type": "code",
   "execution_count": null,
   "metadata": {},
   "outputs": [],
   "source": [
    "arr = [0, 1, 2, 3, 4]\t\n",
    "queries = [[0, 3],[1, 2],[1, 4]]\n",
    "\n",
    "for i in queries:\n",
    "    arr[i[0]], arr[i[1]] = arr[i[1]], arr[i[0]]\n",
    "arr"
   ]
  },
  {
   "cell_type": "code",
   "execution_count": null,
   "metadata": {},
   "outputs": [],
   "source": [
    "arr = [0, 1, 2, 4, 3]\n",
    "queries = [[0, 4, 2],[0, 3, 2],[0, 2, 2]]\n",
    "\n",
    "def solution(arr, queries):\n",
    "    answer = []\n",
    "    final_answer = []\n",
    "    for i in arr:\n",
    "        if queries[0][2] < i:\n",
    "            answer.append(i)\n",
    "    final_answer.append(min(answer))\n",
    "    answer = []\n",
    "    arr.remove(final_answer[-1])\n",
    "    \n",
    "    print(arr)\n",
    "    for i in arr:\n",
    "        if queries[1][2] < i:\n",
    "            answer.append(i)\n",
    "    final_answer.append(min(answer))\n",
    "    answer = []\n",
    "    arr.remove(final_answer[-1])\n",
    "    \n",
    "    print(arr)\n",
    "    # for i in arr:\n",
    "    #     if queries[2][2] < i:\n",
    "    #         answer.append(i)\n",
    "    # final_answer.append(min(answer))\n",
    "    # answer = []\n",
    "    # arr.remove(final_answer[-1])\n",
    "    \n",
    "    return final_answer\n",
    "    \n",
    "    # answer = []\n",
    "    # arr.pop()\n",
    "    # print(final_answer)\n",
    "            # arr.pop(answer[-1])\n",
    "            # print(arr)\n",
    "    # print(answer)\n",
    "        # final_answer.append(min(answer))\n",
    "        # print(final_answer)\n",
    "    \n",
    "    # for i in arr:\n",
    "    #     if queries[1][2] < i:\n",
    "    #         answer.append(i)\n",
    "    #         arr.pop(answer[-1])\n",
    "    #     final_answer.append(min(answer))\n",
    "    \n",
    "    # for i in arr:\n",
    "    #     if queries[2][2] < i:\n",
    "    #         answer.append(i)\n",
    "    #         arr.pop(answer[-1])\n",
    "    #     final_answer.append(min(answer))\n",
    "        \n",
    "        \n",
    "    # return final_answer\n",
    "\n",
    "\n",
    "solution(arr, queries)"
   ]
  },
  {
   "cell_type": "code",
   "execution_count": null,
   "metadata": {},
   "outputs": [],
   "source": [
    "arr = [0, 1, 2, 4, 3]\n",
    "queries = [[0, 4, 2],[0, 3, 2],[0, 2, 2]]\n",
    "\n",
    "def solution(arr, queries):\n",
    "    answer = []\n",
    "    final_answer = []\n",
    "    for i in arr:\n",
    "        if queries[0][2] < i:\n",
    "            answer.append(i)\n",
    "            arr.pop(answer[-1])\n",
    "        final_answer.append(min(answer))\n",
    "    \n",
    "    for i in arr:\n",
    "        if queries[1][2] < i:\n",
    "            answer.append(i)\n",
    "            arr.pop(answer[-1])\n",
    "        final_answer.append(min(answer))\n",
    "    \n",
    "    for i in arr:\n",
    "        if queries[2][2] < i:\n",
    "            answer.append(i)\n",
    "            arr.pop(answer[-1])\n",
    "        final_answer.append(min(answer))\n",
    "        \n",
    "        \n",
    "    return final_answer\n",
    "\n",
    "\n",
    "solution(arr, queries)"
   ]
  },
  {
   "cell_type": "code",
   "execution_count": null,
   "metadata": {},
   "outputs": [],
   "source": [
    "arr = [0, 1, 2, 4, 3]\n",
    "queries = [[0, 4, 2],[0, 3, 2],[0, 2, 2]]\n",
    "\n",
    "def solution(arr, queries):\n",
    "    answer = []\n",
    "    final_answer = []\n",
    "    for querie in queries:\n",
    "        if max(arr) <= querie[2]:\n",
    "            final_answer.append(-1)\n",
    "            return final_answer\n",
    "        else:\n",
    "            for i in arr:\n",
    "                if querie[2] < i:\n",
    "                    answer.append(i)\n",
    "                \n",
    "            # print(answer)\n",
    "        \n",
    "        final_answer.append(min(answer))\n",
    "        arr.remove(min(answer))\n",
    "        answer = []\n",
    "    \n",
    "                \n",
    "    \n",
    "    \n",
    "    \n",
    "    return final_answer\n",
    "solution(arr, queries)"
   ]
  },
  {
   "cell_type": "code",
   "execution_count": null,
   "metadata": {},
   "outputs": [],
   "source": [
    "arr = [0, 1, 2, 4, 3]\n",
    "queries = [[0, 4, 2],[0, 3, 2],[0, 2, 2]]\n",
    "\n",
    "\n",
    "def solution(arr, queries):\n",
    "    final_list = []\n",
    "    for querie in queries:\n",
    "        answer = arr[querie[0]:querie[1]+1]\n",
    "        if max(answer) <= querie[2]:\n",
    "            final_list.append(-1)\n",
    "        else:\n",
    "            action_list = []  # 각 쿼리마다 초기화\n",
    "            for i in answer:\n",
    "                if querie[2] < i:\n",
    "                    action_list.append(i)\n",
    "\n",
    "            final_list.append(min(action_list))\n",
    "            arr.remove(final_list[-1])\n",
    "            \n",
    "    return final_list  # 루프 밖에서 결과 반환\n",
    "\n",
    "solution(arr, queries)"
   ]
  },
  {
   "cell_type": "code",
   "execution_count": 114,
   "metadata": {},
   "outputs": [
    {
     "data": {
      "text/plain": [
       "[3, 4, -1]"
      ]
     },
     "execution_count": 114,
     "metadata": {},
     "output_type": "execute_result"
    }
   ],
   "source": [
    "arr = [0, 1, 2, 4, 3]\n",
    "queries = [[0, 4, 2],[0, 3, 2],[0, 2, 2]]\n",
    "\n",
    "\n",
    "def solution(arr, queries):\n",
    "    if max(arr[queries[0][0]:queries[0][1]+1]) > queries[0][2]:\n",
    "        a_list = list(filter(lambda x: x > queries[0][2], arr[queries[0][0]:queries[0][1]+1]))\n",
    "    else:\n",
    "        a_list = [-1]\n",
    "    \n",
    "    if max(arr[queries[1][0]:queries[1][1]+1]) > queries[1][2]:\n",
    "        b_list = list(filter(lambda x: x > queries[1][2], arr[queries[1][0]:queries[1][1]+1]))\n",
    "    else:\n",
    "        b_list = [-1]\n",
    "        \n",
    "    if max(arr[queries[2][0]:queries[2][1]+1]) > queries[2][2]:\n",
    "        c_list = list(filter(lambda x: x > queries[2][2], arr[queries[2][0]:queries[2][1]+1]))\n",
    "    else:\n",
    "        c_list = [-1]\n",
    "        \n",
    "\n",
    "    return [min(a_list), min(b_list), min(c_list)]\n",
    "    \n",
    "\n",
    "solution(arr, queries)"
   ]
  },
  {
   "cell_type": "code",
   "execution_count": null,
   "metadata": {},
   "outputs": [],
   "source": [
    "\n",
    "\n",
    "a_list = list(filter(lambda x: x > queries[0][2], arr[queries[0][0]:queries[0][1]+1]))\n",
    "a_list"
   ]
  },
  {
   "cell_type": "code",
   "execution_count": 1,
   "metadata": {},
   "outputs": [
    {
     "data": {
      "text/plain": [
       "'1000101011'"
      ]
     },
     "execution_count": 1,
     "metadata": {},
     "output_type": "execute_result"
    }
   ],
   "source": [
    "binaryNum = format(555, 'b')\n",
    "binaryNum"
   ]
  },
  {
   "cell_type": "code",
   "execution_count": 2,
   "metadata": {},
   "outputs": [
    {
     "data": {
      "text/plain": [
       "[1, 3, 5, 15]"
      ]
     },
     "execution_count": 2,
     "metadata": {},
     "output_type": "execute_result"
    }
   ],
   "source": [
    "def divisor(number):\n",
    "    result = []\n",
    "    for i in range(1, int(number**(1/2))+1):\n",
    "        if number%i==0:\n",
    "            result.append(i)\n",
    "    return result\n",
    "\n",
    "divisor(555)"
   ]
  },
  {
   "cell_type": "code",
   "execution_count": 25,
   "metadata": {},
   "outputs": [
    {
     "data": {
      "text/plain": [
       "[5, 50, 55, 500, 505, 550, 555]"
      ]
     },
     "execution_count": 25,
     "metadata": {},
     "output_type": "execute_result"
    }
   ],
   "source": [
    "def generate_binary(n: int) -> None:\n",
    "    answer = []\n",
    "    for i in range(1, n+1):\n",
    "        if len((bin(i)[2:])) < 4:\n",
    "            answer.append((int(bin(i)[2:]))*5)\n",
    "    \n",
    "    return answer\n",
    "    \n",
    "\n",
    "generate_binary(555)"
   ]
  },
  {
   "cell_type": "code",
   "execution_count": 32,
   "metadata": {},
   "outputs": [
    {
     "data": {
      "text/plain": [
       "[5, 50, 55]"
      ]
     },
     "execution_count": 32,
     "metadata": {},
     "output_type": "execute_result"
    }
   ],
   "source": [
    "l = 10\n",
    "r = 20\n",
    "def solution(l, r):\n",
    "    answer = []\n",
    "    for i in range(1, r):\n",
    "        if len((bin(i)[2:])) <= len(str(r)):\n",
    "            answer.append((int(bin(i)[2:]))*5)\n",
    "    \n",
    "    return answer\n",
    "\n",
    "solution(l, r)"
   ]
  },
  {
   "cell_type": "code",
   "execution_count": 64,
   "metadata": {},
   "outputs": [
    {
     "data": {
      "text/plain": [
       "[5, 50, 55, 500, 505, 550, 555]"
      ]
     },
     "execution_count": 64,
     "metadata": {},
     "output_type": "execute_result"
    }
   ],
   "source": [
    "l = 5\n",
    "r = 555\n",
    "\n",
    "def getMyDivisor(r):\n",
    "\n",
    "    divisorsList = []\n",
    "\n",
    "    for i in range(1, r + 1):\n",
    "        if i >= l:\n",
    "            if (r % i == 0) :\n",
    "                divisorsList.append(i)\n",
    "\n",
    "    if \"5\" or \"0\" in str(divisorsList):\n",
    "        answer = []\n",
    "        for i in range(1, r):\n",
    "            if len((bin(i)[2:])) <= len(str(r)):\n",
    "                answer.append((int(bin(i)[2:]))*5)\n",
    "        return answer\n",
    "    else:\n",
    "        return [-1]\n",
    "        \n",
    "\n",
    "getMyDivisor(r)"
   ]
  },
  {
   "cell_type": "code",
   "execution_count": 58,
   "metadata": {},
   "outputs": [
    {
     "data": {
      "text/plain": [
       "[10, 20]"
      ]
     },
     "execution_count": 58,
     "metadata": {},
     "output_type": "execute_result"
    }
   ],
   "source": [
    "getMyDivisor(20)"
   ]
  },
  {
   "cell_type": "code",
   "execution_count": 94,
   "metadata": {},
   "outputs": [
    {
     "data": {
      "text/plain": [
       "[5, 50, 55]"
      ]
     },
     "execution_count": 94,
     "metadata": {},
     "output_type": "execute_result"
    }
   ],
   "source": [
    "\n",
    "l = 10\n",
    "r = 20\n",
    "def solution(l, r):\n",
    "    num = []\n",
    "    for i in range(l, r+1):\n",
    "        if i % 5 == 0:\n",
    "            num.append(i)\n",
    "        elif i % 5 == 1:\n",
    "            num.append(i)\n",
    "    \n",
    "    \n",
    "    if \"5\" in str(num) and \"0\" in str(num):\n",
    "        answer = []\n",
    "        for k in range(1, r):\n",
    "            if len((bin(k)[2:])) <= len(str(r)):\n",
    "                answer.append((int(bin(k)[2:]))*5)\n",
    "        return answer\n",
    "    else:\n",
    "        return [-1]\n",
    "        \n",
    "        \n",
    "        \n",
    "solution(l, r)\n",
    "    "
   ]
  },
  {
   "cell_type": "code",
   "execution_count": 121,
   "metadata": {},
   "outputs": [
    {
     "name": "stdout",
     "output_type": "stream",
     "text": [
      "answer [1, 10, 11, 100, 101, 110, 111]\n",
      "number [1, 2, 3, 4, 5, 6, 7, 8, 9, 10, 11, 12, 13, 14, 15, 16, 17, 18, 19, 20, 21, 22, 23, 24, 25, 26, 27, 28, 29, 30, 31, 32, 33, 34, 35, 36, 37, 38, 39, 40, 41, 42, 43, 44, 45, 46, 47, 48, 49, 50, 51, 52, 53, 54, 55, 56, 57, 58, 59, 60, 61, 62, 63, 64, 65, 66, 67, 68, 69, 70, 71, 72, 73, 74, 75, 76, 77, 78, 79, 80, 81, 82, 83, 84, 85, 86, 87, 88, 89, 90, 91, 92, 93, 94, 95, 96, 97, 98, 99, 100, 101, 102, 103, 104, 105, 106, 107, 108, 109, 110, 111, 112, 113, 114, 115, 116, 117, 118, 119, 120, 121, 122, 123, 124, 125, 126, 127, 128, 129, 130, 131, 132, 133, 134, 135, 136, 137, 138, 139, 140, 141, 142, 143, 144, 145, 146, 147, 148, 149, 150, 151, 152, 153, 154, 155, 156, 157, 158, 159, 160, 161, 162, 163, 164, 165, 166, 167, 168, 169, 170, 171, 172, 173, 174, 175, 176, 177, 178, 179, 180, 181, 182, 183, 184, 185, 186, 187, 188, 189, 190, 191, 192, 193, 194, 195, 196, 197, 198, 199, 200, 201, 202, 203, 204, 205, 206, 207, 208, 209, 210, 211, 212, 213, 214, 215, 216, 217, 218, 219, 220, 221, 222, 223, 224, 225, 226, 227, 228, 229, 230, 231, 232, 233, 234, 235, 236, 237, 238, 239, 240, 241, 242, 243, 244, 245, 246, 247, 248, 249, 250, 251, 252, 253, 254, 255, 256, 257, 258, 259, 260, 261, 262, 263, 264, 265, 266, 267, 268, 269, 270, 271, 272, 273, 274, 275, 276, 277, 278, 279, 280, 281, 282, 283, 284, 285, 286, 287, 288, 289, 290, 291, 292, 293, 294, 295, 296, 297, 298, 299, 300, 301, 302, 303, 304, 305, 306, 307, 308, 309, 310, 311, 312, 313, 314, 315, 316, 317, 318, 319, 320, 321, 322, 323, 324, 325, 326, 327, 328, 329, 330, 331, 332, 333, 334, 335, 336, 337, 338, 339, 340, 341, 342, 343, 344, 345, 346, 347, 348, 349, 350, 351, 352, 353, 354, 355, 356, 357, 358, 359, 360, 361, 362, 363, 364, 365, 366, 367, 368, 369, 370, 371, 372, 373, 374, 375, 376, 377, 378, 379, 380, 381, 382, 383, 384, 385, 386, 387, 388, 389, 390, 391, 392, 393, 394, 395, 396, 397, 398, 399, 400, 401, 402, 403, 404, 405, 406, 407, 408, 409, 410, 411, 412, 413, 414, 415, 416, 417, 418, 419, 420, 421, 422, 423, 424, 425, 426, 427, 428, 429, 430, 431, 432, 433, 434, 435, 436, 437, 438, 439, 440, 441, 442, 443, 444, 445, 446, 447, 448, 449, 450, 451, 452, 453, 454, 455, 456, 457, 458, 459, 460, 461, 462, 463, 464, 465, 466, 467, 468, 469, 470, 471, 472, 473, 474, 475, 476, 477, 478, 479, 480, 481, 482, 483, 484, 485, 486, 487, 488, 489, 490, 491, 492, 493, 494, 495, 496, 497, 498, 499, 500, 501, 502, 503, 504, 505, 506, 507, 508, 509, 510, 511, 512, 513, 514, 515, 516, 517, 518, 519, 520, 521, 522, 523, 524, 525, 526, 527, 528, 529, 530, 531, 532, 533, 534, 535, 536, 537, 538, 539, 540, 541, 542, 543, 544, 545, 546, 547, 548, 549, 550, 551, 552, 553, 554]\n"
     ]
    },
    {
     "data": {
      "text/plain": [
       "[-1]"
      ]
     },
     "execution_count": 121,
     "metadata": {},
     "output_type": "execute_result"
    }
   ],
   "source": [
    "l = 5\n",
    "r = 555\n",
    "def solution(l, r):\n",
    "    answer = []\n",
    "    number = []\n",
    "    final_answer = []\n",
    "    for k in range(1, r):\n",
    "        if len((bin(k)[2:])) <= len(str(r)):\n",
    "            answer.append((int(bin(k)[2:])))\n",
    "                \n",
    "    print(\"answer\", answer)\n",
    "    for i in range(1, r):\n",
    "        number.append(i)\n",
    "    print(\"number\", number)\n",
    "    for j in number:\n",
    "        num = j // 5\n",
    "        if num in answer:\n",
    "            final_answer.append(j)\n",
    "            print(\"final_answer\", final_answer)\n",
    "        else:\n",
    "            return [-1]\n",
    "    return final_answer\n",
    "solution(l, r)"
   ]
  },
  {
   "cell_type": "code",
   "execution_count": 104,
   "metadata": {},
   "outputs": [
    {
     "data": {
      "text/plain": [
       "111"
      ]
     },
     "execution_count": 104,
     "metadata": {},
     "output_type": "execute_result"
    }
   ],
   "source": [
    "555 // 5"
   ]
  }
 ],
 "metadata": {
  "kernelspec": {
   "display_name": "Python 3",
   "language": "python",
   "name": "python3"
  },
  "language_info": {
   "codemirror_mode": {
    "name": "ipython",
    "version": 3
   },
   "file_extension": ".py",
   "mimetype": "text/x-python",
   "name": "python",
   "nbconvert_exporter": "python",
   "pygments_lexer": "ipython3",
   "version": "3.9.6"
  }
 },
 "nbformat": 4,
 "nbformat_minor": 2
}
