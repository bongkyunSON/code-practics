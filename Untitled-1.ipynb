{
 "cells": [
  {
   "cell_type": "code",
   "execution_count": null,
   "metadata": {},
   "outputs": [],
   "source": [
    "def print_numbers(num_list, end_number):\n",
    "    answer = []\n",
    "    for i in range(end_number, num_list+1, 3):\n",
    "        answer.append(i)\n",
    "    return answer[::-1]"
   ]
  },
  {
   "cell_type": "code",
   "execution_count": null,
   "metadata": {},
   "outputs": [],
   "source": [
    "\n",
    "\n",
    "for i in range(3, 10, 3):\n",
    "    print(i)\n",
    "    "
   ]
  },
  {
   "cell_type": "code",
   "execution_count": null,
   "metadata": {},
   "outputs": [],
   "source": [
    "solution(10, 3)"
   ]
  },
  {
   "cell_type": "code",
   "execution_count": null,
   "metadata": {},
   "outputs": [],
   "source": [
    "_str = \"banana\""
   ]
  },
  {
   "cell_type": "code",
   "execution_count": null,
   "metadata": {},
   "outputs": [],
   "source": [
    "a = _str.startswith(\"1an\")\n",
    "print(a)"
   ]
  },
  {
   "cell_type": "code",
   "execution_count": null,
   "metadata": {},
   "outputs": [],
   "source": [
    "a = _str.endswith(\"anana\")\n",
    "print(a)"
   ]
  },
  {
   "cell_type": "code",
   "execution_count": null,
   "metadata": {},
   "outputs": [],
   "source": [
    "split_data = list(map(''.join, zip(*[iter(_str)]*2)))[:1]\n",
    "print(split_data)"
   ]
  },
  {
   "cell_type": "code",
   "execution_count": null,
   "metadata": {},
   "outputs": [],
   "source": [
    "a = \"ProgrammerS123\"\n",
    "a[3:4]"
   ]
  },
  {
   "cell_type": "code",
   "execution_count": null,
   "metadata": {},
   "outputs": [],
   "source": [
    "answer = ''\n",
    "my_string = \"cvsgiorszzzmrpaqpe\"\n",
    "index_list = [16, 6, 5, 3, 12, 14, 11, 11, 17, 12, 7]\n",
    "for i in index_list:\n",
    "    answer += (my_string[i:i+1])\n",
    "\n",
    "print(answer)\n",
    "# print(\"\".join(answer))"
   ]
  },
  {
   "cell_type": "code",
   "execution_count": null,
   "metadata": {},
   "outputs": [],
   "source": [
    "num_list = [3, 4, 5, 2, 1]"
   ]
  },
  {
   "cell_type": "code",
   "execution_count": null,
   "metadata": {},
   "outputs": [],
   "source": [
    "odd = []\n",
    "for i,n in enumerate(a):\n",
    "    if i % 2 == 0:\n",
    "        # print(n)\n",
    "        odd.append(n)\n",
    "print(str(odd))\n",
    "print(\"\".join(map(str, odd)))\n"
   ]
  },
  {
   "cell_type": "code",
   "execution_count": null,
   "metadata": {},
   "outputs": [],
   "source": [
    "odd = []\n",
    "even = []\n",
    "for i, n in enumerate(num_list):\n",
    "    if i % 2 == 0:\n",
    "        odd.append(n)\n",
    "    else:\n",
    "        even.append(n)\n",
    "a = int(\"\".join(map(str, odd)))\n",
    "b = int(\"\".join(map(str, even)))\n",
    "print(a)\n",
    "print(b)"
   ]
  },
  {
   "cell_type": "code",
   "execution_count": null,
   "metadata": {},
   "outputs": [],
   "source": [
    "for i, n in enumerate(num_list[1:]):\n",
    "    print(i, n)"
   ]
  },
  {
   "cell_type": "code",
   "execution_count": null,
   "metadata": {},
   "outputs": [],
   "source": []
  },
  {
   "cell_type": "code",
   "execution_count": null,
   "metadata": {},
   "outputs": [],
   "source": [
    "anwer = [3, 5, 1]"
   ]
  },
  {
   "cell_type": "code",
   "execution_count": null,
   "metadata": {},
   "outputs": [],
   "source": []
  },
  {
   "cell_type": "code",
   "execution_count": null,
   "metadata": {},
   "outputs": [],
   "source": [
    "num_list = [3, 4, 5, 2, 1]"
   ]
  },
  {
   "cell_type": "code",
   "execution_count": null,
   "metadata": {},
   "outputs": [],
   "source": [
    "num_list = [5, 7, 8, 3]\n",
    "# num_list = [3, 4, 5, 2, 1]\n",
    "odd = []\n",
    "even = []\n",
    "if len(num_list) % 2 == 0:\n",
    "    answer = num_list[1:]\n",
    "    odd.append(num_list[0])\n",
    "else:\n",
    "    answer = num_list\n",
    "\n",
    "for i in range(0, len(answer), 2):\n",
    "    # print(i)\n",
    "    odd.append(answer[i])\n",
    "for i in range(1, len(answer), 2):    \n",
    "    even.append(answer[i])\n",
    "print(odd)\n",
    "print(even)\n",
    "\n"
   ]
  },
  {
   "cell_type": "code",
   "execution_count": null,
   "metadata": {},
   "outputs": [],
   "source": [
    "num_list = [5, 7, 8, 3]\n",
    "a = sum(num_list)\n",
    "a**2"
   ]
  },
  {
   "cell_type": "code",
   "execution_count": null,
   "metadata": {},
   "outputs": [],
   "source": [
    "num_list = [5, 7, 8, 3]\n",
    "even = []\n",
    "for i in range(1, len(num_list), 2):\n",
    "    # print(i)\n",
    "    even.append(num_list[i])\n",
    "print(even)"
   ]
  },
  {
   "cell_type": "code",
   "execution_count": null,
   "metadata": {},
   "outputs": [],
   "source": [
    "        a = int(\"\".join(map(str, odd)))\n",
    "        b = int(\"\".join(map(str, even)))"
   ]
  },
  {
   "cell_type": "code",
   "execution_count": null,
   "metadata": {},
   "outputs": [],
   "source": [
    "from functools import reduce\n",
    "num_list = [5, 7, 8, 3]\n",
    "reduce(lambda x, y: x * y, num_list)"
   ]
  },
  {
   "cell_type": "code",
   "execution_count": null,
   "metadata": {},
   "outputs": [],
   "source": [
    "answer = 0\n",
    "for i in range(0, 10+1, 2):\n",
    "    print(i)\n",
    "    answer += i\n",
    "\n",
    "print(answer)\n",
    "    "
   ]
  },
  {
   "cell_type": "code",
   "execution_count": null,
   "metadata": {},
   "outputs": [],
   "source": [
    "a = [1,2,3,4,5]\n",
    "b = a**2"
   ]
  },
  {
   "cell_type": "code",
   "execution_count": null,
   "metadata": {},
   "outputs": [],
   "source": [
    "a = 23\n",
    "b = 1\n",
    "answer = []\n",
    "answer.append(a)\n",
    "answer.append(b)\n",
    "int(\"\".join(map(str, answer)))"
   ]
  },
  {
   "cell_type": "code",
   "execution_count": null,
   "metadata": {},
   "outputs": [],
   "source": [
    "def solution(a, b):\n",
    "    return max(int(str(a) + str(b)), 2 * a * b)"
   ]
  },
  {
   "cell_type": "code",
   "execution_count": null,
   "metadata": {},
   "outputs": [],
   "source": [
    "gifts = [\"muzi frodo\", \"muzi frodo\", \"ryan muzi\", \"ryan muzi\", \"ryan muzi\", \"frodo muzi\", \"frodo ryan\", \"neo muzi\"]\n",
    "friends = [\"muzi\", \"ryan\", \"frodo\", \"neo\"]"
   ]
  },
  {
   "cell_type": "code",
   "execution_count": null,
   "metadata": {},
   "outputs": [],
   "source": [
    "gifted = {} # gifted = {\"friend 이름\": {\"선물 준 친구 이름\": 이 친구에게 준 선물 개수}}\n",
    "gift_idx = {} # 선물 지수 \n",
    "# 딕셔너리 초기화\n",
    "for friend in friends:\n",
    "    gifted[friend] = {}\n",
    "    gift_idx[friend] = 0"
   ]
  },
  {
   "cell_type": "code",
   "execution_count": null,
   "metadata": {},
   "outputs": [],
   "source": [
    "gift_idx"
   ]
  },
  {
   "cell_type": "code",
   "execution_count": null,
   "metadata": {},
   "outputs": [],
   "source": [
    "give_me_present = []\n",
    "give_you_present = []\n",
    "\n",
    "for k, v in a_for_b_gift.items():\n",
    "    # if k == k[::-1]:\n",
    "    #     a_for_b_gift\n",
    "\n",
    "\n",
    "\n",
    "        "
   ]
  },
  {
   "cell_type": "code",
   "execution_count": null,
   "metadata": {},
   "outputs": [],
   "source": [
    "gifts = [\"muzi frodo\", \"muzi frodo\", \"ryan muzi\", \"ryan muzi\", \"ryan muzi\", \"frodo muzi\", \"frodo ryan\", \"neo muzi\"]\n",
    "friends = [\"muzi\", \"ryan\", \"frodo\", \"neo\"]"
   ]
  },
  {
   "cell_type": "code",
   "execution_count": null,
   "metadata": {},
   "outputs": [],
   "source": [
    "gifted = {} # gifted = {\"friend 이름\": {\"선물 준 친구 이름\": 이 친구에게 준 선물 개수}}\n",
    "gift_idx = {} # 선물 지수 \n",
    "# 딕셔너리 초기화\n",
    "for friend in friends:\n",
    "    gifted[friend] = {}\n",
    "    gift_idx[friend] = 0\n",
    "\n",
    "for gift in gifts:\n",
    "    _give, _for = gift.split(' ')\n",
    "\n",
    "    if _for in gifted[_give]:\n",
    "        gifted[_give][_for] += 1\n",
    "    else:\n",
    "        gifted[_give][_for] = 1\n",
    "\n",
    "print(gifted)\n",
    "    "
   ]
  },
  {
   "cell_type": "code",
   "execution_count": null,
   "metadata": {},
   "outputs": [],
   "source": [
    "def solution(friends, gifts):\n",
    "    gifted = {} # gifted = {\"friend 이름\": {\"선물 준 친구 이름\": 이 친구에게 준 선물 개수}}\n",
    "    gift_idx = {} # 선물 지수 \n",
    "    # 딕셔너리 초기화\n",
    "    for friend in friends:\n",
    "        gifted[friend] = {}\n",
    "        gift_idx[friend] = 0\n",
    "    \n",
    "    for gift in gifts:\n",
    "        t, f = gift.split(' ') # t: 선물을 준 사람, f: 받은 사람\n",
    "        if f in gifted[t]:\n",
    "            gifted[t][f] += 1\n",
    "        else:\n",
    "            gifted[t][f] = 1\n",
    "        # 선물 지수 반영\n",
    "        gift_idx[t] += 1\n",
    "        gift_idx[f] -= 1\n",
    "    \n",
    "    # 각자 받게 될 선물 개수\n",
    "    will_get = [0 for _ in friends] # \bfriends 리스트 순서대로 저장\n",
    "    for i in range(len(friends)):\n",
    "        curr = friends[i] # 인덱스 i에 해당하는 친구\n",
    "        for j in range(i+1, len(friends)):\n",
    "            another = friends[j] # 인덱스 j에 해당하는 친구\n",
    "            # curr가 another에게 준 선물 개수\n",
    "            a = gifted[curr][another] if another in gifted[curr] else 0 \n",
    "            # another가 curr에게 준 선물 개수\n",
    "            b = gifted[another][curr] if curr in gifted[another] else 0 \n",
    "            \n",
    "            if a > b: # curr가 선물을 더 많이 줬다면\n",
    "                will_get[i] += 1\n",
    "            elif a < b: # another가 선물을 더 많이 줬다면\n",
    "                will_get[j] += 1\n",
    "            elif a == b: # 둘이 선물을 주고 받은 개수가 같다면 선물 지수 확인\n",
    "                ai, bi = gift_idx[curr], gift_idx[another]\n",
    "                if ai > bi:\n",
    "                    will_get[i] += 1\n",
    "                elif ai < bi:\n",
    "                    will_get[j] += 1\n",
    "    \n",
    "    answer = max(will_get)\n",
    "    return answer"
   ]
  },
  {
   "cell_type": "code",
   "execution_count": null,
   "metadata": {},
   "outputs": [],
   "source": [
    "my_string = \"string\""
   ]
  },
  {
   "cell_type": "code",
   "execution_count": null,
   "metadata": {},
   "outputs": [],
   "source": [
    "a = \"apple pen\"\n",
    "a.split(' ')"
   ]
  },
  {
   "cell_type": "code",
   "execution_count": null,
   "metadata": {},
   "outputs": [],
   "source": [
    "str1, str2 = input().strip().split(' ')"
   ]
  },
  {
   "cell_type": "code",
   "execution_count": null,
   "metadata": {},
   "outputs": [],
   "source": [
    "str1 + str2"
   ]
  },
  {
   "cell_type": "code",
   "execution_count": null,
   "metadata": {},
   "outputs": [],
   "source": [
    "str2"
   ]
  },
  {
   "cell_type": "code",
   "execution_count": null,
   "metadata": {},
   "outputs": [],
   "source": [
    "a, b = 4, 6"
   ]
  },
  {
   "cell_type": "code",
   "execution_count": null,
   "metadata": {},
   "outputs": [],
   "source": [
    "abs(a-b)"
   ]
  },
  {
   "cell_type": "code",
   "execution_count": null,
   "metadata": {},
   "outputs": [],
   "source": [
    "c = (a % 2) == 0, (b % 2) == 0\n",
    "c"
   ]
  },
  {
   "cell_type": "code",
   "execution_count": null,
   "metadata": {},
   "outputs": [],
   "source": []
  },
  {
   "cell_type": "code",
   "execution_count": null,
   "metadata": {},
   "outputs": [],
   "source": [
    "a = [\"abc\", \"def\", \"ghi\"]\n",
    "answer = ''\n",
    "for i in a:\n",
    "    if not \"ef\" in i:\n",
    "        answer += i\n",
    "print(answer)\n",
    "\n",
    "# a.split(',')\n",
    "# a.startswith(\"ef\")"
   ]
  },
  {
   "cell_type": "code",
   "execution_count": null,
   "metadata": {},
   "outputs": [],
   "source": [
    "strArr = [\"and\",\"notad\",\"abcd\"]\n",
    "answer = []\n",
    "for i in strArr:\n",
    "    if not \"ad\" in i:\n",
    "        answer.append(i)\n",
    "print(answer)\n",
    "\n"
   ]
  },
  {
   "cell_type": "code",
   "execution_count": null,
   "metadata": {},
   "outputs": [],
   "source": [
    "a = 123\n",
    "answer = 0\n",
    "for i in a:\n",
    "    answer += int(i)\n",
    "print(answer)"
   ]
  },
  {
   "cell_type": "code",
   "execution_count": null,
   "metadata": {},
   "outputs": [],
   "source": [
    "def multiplyAll_v1(a):\n",
    "    ans = 1\n",
    "    for n in a:\n",
    "        ans *= n\n",
    "    return ans"
   ]
  },
  {
   "cell_type": "code",
   "execution_count": null,
   "metadata": {},
   "outputs": [],
   "source": [
    "multiplyAll_v1(a)"
   ]
  },
  {
   "cell_type": "code",
   "execution_count": null,
   "metadata": {},
   "outputs": [],
   "source": [
    "a = [1,2,3]\n",
    "(map(int, a))"
   ]
  },
  {
   "cell_type": "code",
   "execution_count": null,
   "metadata": {},
   "outputs": [],
   "source": [
    "import numpy\n",
    "list1 = [1, 2, 3]\n",
    "result1 = numpy.prod(list1)\n",
    "print(result1)"
   ]
  },
  {
   "cell_type": "code",
   "execution_count": null,
   "metadata": {},
   "outputs": [],
   "source": [
    "a = [12, 4, 15, 46, 38, 1, 14, 56, 32, 10]\n",
    "sorted(a[5:])\n",
    "\n",
    "\n"
   ]
  },
  {
   "cell_type": "code",
   "execution_count": null,
   "metadata": {},
   "outputs": [],
   "source": [
    "a = [49, 12, 100, 276, 33]\n",
    "for i in range(len(a)):\n",
    "    print(i)"
   ]
  },
  {
   "cell_type": "code",
   "execution_count": 50,
   "metadata": {},
   "outputs": [
    {
     "name": "stdout",
     "output_type": "stream",
     "text": [
      "BAABB\n"
     ]
    }
   ],
   "source": [
    "answer = ''\n",
    "a = \"ABBAA\"\n",
    "for i in a:\n",
    "    if i == \"A\":\n",
    "        answer += \"B\"\n",
    "    else:\n",
    "        answer += \"A\"\n",
    "\n",
    "print(answer)"
   ]
  },
  {
   "cell_type": "code",
   "execution_count": 51,
   "metadata": {},
   "outputs": [
    {
     "data": {
      "text/plain": [
       "62"
      ]
     },
     "execution_count": 51,
     "metadata": {},
     "output_type": "execute_result"
    }
   ],
   "source": [
    "a = [49, 13]\n",
    "sum(a)"
   ]
  },
  {
   "cell_type": "code",
   "execution_count": 67,
   "metadata": {},
   "outputs": [
    {
     "name": "stdout",
     "output_type": "stream",
     "text": [
      "[5, 5, 5, 5, 5, 1, 4, 4, 4, 4]\n"
     ]
    }
   ],
   "source": [
    "answer = []\n",
    "a = [5, 1, 4]\n",
    "for i in a:\n",
    "    for j in range(i):\n",
    "        answer.append(i) \n",
    "\n",
    "print(answer)"
   ]
  }
 ],
 "metadata": {
  "kernelspec": {
   "display_name": "gpt_project",
   "language": "python",
   "name": "python3"
  },
  "language_info": {
   "codemirror_mode": {
    "name": "ipython",
    "version": 3
   },
   "file_extension": ".py",
   "mimetype": "text/x-python",
   "name": "python",
   "nbconvert_exporter": "python",
   "pygments_lexer": "ipython3",
   "version": "3.11.5"
  }
 },
 "nbformat": 4,
 "nbformat_minor": 2
}
