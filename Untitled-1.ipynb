{
 "cells": [
  {
   "cell_type": "code",
   "execution_count": null,
   "metadata": {},
   "outputs": [],
   "source": [
    "def print_numbers(num_list, end_number):\n",
    "    answer = []\n",
    "    for i in range(end_number, num_list+1, 3):\n",
    "        answer.append(i)\n",
    "    return answer[::-1]"
   ]
  },
  {
   "cell_type": "code",
   "execution_count": null,
   "metadata": {},
   "outputs": [],
   "source": [
    "\n",
    "\n",
    "for i in range(3, 10, 3):\n",
    "    print(i)\n",
    "    "
   ]
  },
  {
   "cell_type": "code",
   "execution_count": null,
   "metadata": {},
   "outputs": [],
   "source": [
    "solution(10, 3)"
   ]
  },
  {
   "cell_type": "code",
   "execution_count": null,
   "metadata": {},
   "outputs": [],
   "source": [
    "_str = \"banana\""
   ]
  },
  {
   "cell_type": "code",
   "execution_count": null,
   "metadata": {},
   "outputs": [],
   "source": [
    "a = _str.startswith(\"1an\")\n",
    "print(a)"
   ]
  },
  {
   "cell_type": "code",
   "execution_count": null,
   "metadata": {},
   "outputs": [],
   "source": [
    "a = _str.endswith(\"anana\")\n",
    "print(a)"
   ]
  },
  {
   "cell_type": "code",
   "execution_count": null,
   "metadata": {},
   "outputs": [],
   "source": [
    "split_data = list(map(''.join, zip(*[iter(_str)]*2)))[:1]\n",
    "print(split_data)"
   ]
  },
  {
   "cell_type": "code",
   "execution_count": null,
   "metadata": {},
   "outputs": [],
   "source": [
    "a = \"ProgrammerS123\"\n",
    "a[3:4]"
   ]
  },
  {
   "cell_type": "code",
   "execution_count": null,
   "metadata": {},
   "outputs": [],
   "source": [
    "answer = ''\n",
    "my_string = \"cvsgiorszzzmrpaqpe\"\n",
    "index_list = [16, 6, 5, 3, 12, 14, 11, 11, 17, 12, 7]\n",
    "for i in index_list:\n",
    "    answer += (my_string[i:i+1])\n",
    "\n",
    "print(answer)\n",
    "# print(\"\".join(answer))"
   ]
  },
  {
   "cell_type": "code",
   "execution_count": null,
   "metadata": {},
   "outputs": [],
   "source": [
    "num_list = [3, 4, 5, 2, 1]"
   ]
  },
  {
   "cell_type": "code",
   "execution_count": null,
   "metadata": {},
   "outputs": [],
   "source": [
    "odd = []\n",
    "for i,n in enumerate(a):\n",
    "    if i % 2 == 0:\n",
    "        # print(n)\n",
    "        odd.append(n)\n",
    "print(str(odd))\n",
    "print(\"\".join(map(str, odd)))\n"
   ]
  },
  {
   "cell_type": "code",
   "execution_count": null,
   "metadata": {},
   "outputs": [],
   "source": [
    "odd = []\n",
    "even = []\n",
    "for i, n in enumerate(num_list):\n",
    "    if i % 2 == 0:\n",
    "        odd.append(n)\n",
    "    else:\n",
    "        even.append(n)\n",
    "a = int(\"\".join(map(str, odd)))\n",
    "b = int(\"\".join(map(str, even)))\n",
    "print(a)\n",
    "print(b)"
   ]
  },
  {
   "cell_type": "code",
   "execution_count": null,
   "metadata": {},
   "outputs": [],
   "source": [
    "for i, n in enumerate(num_list[1:]):\n",
    "    print(i, n)"
   ]
  },
  {
   "cell_type": "code",
   "execution_count": null,
   "metadata": {},
   "outputs": [],
   "source": []
  },
  {
   "cell_type": "code",
   "execution_count": null,
   "metadata": {},
   "outputs": [],
   "source": [
    "anwer = [3, 5, 1]"
   ]
  },
  {
   "cell_type": "code",
   "execution_count": null,
   "metadata": {},
   "outputs": [],
   "source": []
  },
  {
   "cell_type": "code",
   "execution_count": null,
   "metadata": {},
   "outputs": [],
   "source": [
    "num_list = [3, 4, 5, 2, 1]"
   ]
  },
  {
   "cell_type": "code",
   "execution_count": null,
   "metadata": {},
   "outputs": [],
   "source": [
    "num_list = [5, 7, 8, 3]\n",
    "# num_list = [3, 4, 5, 2, 1]\n",
    "odd = []\n",
    "even = []\n",
    "if len(num_list) % 2 == 0:\n",
    "    answer = num_list[1:]\n",
    "    odd.append(num_list[0])\n",
    "else:\n",
    "    answer = num_list\n",
    "\n",
    "for i in range(0, len(answer), 2):\n",
    "    # print(i)\n",
    "    odd.append(answer[i])\n",
    "for i in range(1, len(answer), 2):    \n",
    "    even.append(answer[i])\n",
    "print(odd)\n",
    "print(even)\n",
    "\n"
   ]
  },
  {
   "cell_type": "code",
   "execution_count": null,
   "metadata": {},
   "outputs": [],
   "source": [
    "num_list = [5, 7, 8, 3]\n",
    "a = sum(num_list)\n",
    "a**2"
   ]
  },
  {
   "cell_type": "code",
   "execution_count": null,
   "metadata": {},
   "outputs": [],
   "source": [
    "num_list = [5, 7, 8, 3]\n",
    "even = []\n",
    "for i in range(1, len(num_list), 2):\n",
    "    # print(i)\n",
    "    even.append(num_list[i])\n",
    "print(even)"
   ]
  },
  {
   "cell_type": "code",
   "execution_count": null,
   "metadata": {},
   "outputs": [],
   "source": [
    "        a = int(\"\".join(map(str, odd)))\n",
    "        b = int(\"\".join(map(str, even)))"
   ]
  },
  {
   "cell_type": "code",
   "execution_count": null,
   "metadata": {},
   "outputs": [],
   "source": [
    "from functools import reduce\n",
    "num_list = [5, 7, 8, 3]\n",
    "reduce(lambda x, y: x * y, num_list)"
   ]
  },
  {
   "cell_type": "code",
   "execution_count": null,
   "metadata": {},
   "outputs": [],
   "source": [
    "answer = 0\n",
    "for i in range(0, 10+1, 2):\n",
    "    print(i)\n",
    "    answer += i\n",
    "\n",
    "print(answer)\n",
    "    "
   ]
  },
  {
   "cell_type": "code",
   "execution_count": null,
   "metadata": {},
   "outputs": [],
   "source": [
    "a = [1,2,3,4,5]\n",
    "b = a**2"
   ]
  },
  {
   "cell_type": "code",
   "execution_count": null,
   "metadata": {},
   "outputs": [],
   "source": [
    "a = 23\n",
    "b = 1\n",
    "answer = []\n",
    "answer.append(a)\n",
    "answer.append(b)\n",
    "int(\"\".join(map(str, answer)))"
   ]
  },
  {
   "cell_type": "code",
   "execution_count": null,
   "metadata": {},
   "outputs": [],
   "source": [
    "def solution(a, b):\n",
    "    return max(int(str(a) + str(b)), 2 * a * b)"
   ]
  },
  {
   "cell_type": "code",
   "execution_count": null,
   "metadata": {},
   "outputs": [],
   "source": [
    "gifts = [\"muzi frodo\", \"muzi frodo\", \"ryan muzi\", \"ryan muzi\", \"ryan muzi\", \"frodo muzi\", \"frodo ryan\", \"neo muzi\"]\n",
    "friends = [\"muzi\", \"ryan\", \"frodo\", \"neo\"]"
   ]
  },
  {
   "cell_type": "code",
   "execution_count": null,
   "metadata": {},
   "outputs": [],
   "source": [
    "gifted = {} # gifted = {\"friend 이름\": {\"선물 준 친구 이름\": 이 친구에게 준 선물 개수}}\n",
    "gift_idx = {} # 선물 지수 \n",
    "# 딕셔너리 초기화\n",
    "for friend in friends:\n",
    "    gifted[friend] = {}\n",
    "    gift_idx[friend] = 0"
   ]
  },
  {
   "cell_type": "code",
   "execution_count": null,
   "metadata": {},
   "outputs": [],
   "source": [
    "gift_idx"
   ]
  },
  {
   "cell_type": "code",
   "execution_count": null,
   "metadata": {},
   "outputs": [],
   "source": [
    "give_me_present = []\n",
    "give_you_present = []\n",
    "\n",
    "for k, v in a_for_b_gift.items():\n",
    "    # if k == k[::-1]:\n",
    "    #     a_for_b_gift\n",
    "\n",
    "\n",
    "\n",
    "        "
   ]
  },
  {
   "cell_type": "code",
   "execution_count": null,
   "metadata": {},
   "outputs": [],
   "source": [
    "gifts = [\"muzi frodo\", \"muzi frodo\", \"ryan muzi\", \"ryan muzi\", \"ryan muzi\", \"frodo muzi\", \"frodo ryan\", \"neo muzi\"]\n",
    "friends = [\"muzi\", \"ryan\", \"frodo\", \"neo\"]"
   ]
  },
  {
   "cell_type": "code",
   "execution_count": null,
   "metadata": {},
   "outputs": [],
   "source": [
    "gifted = {} # gifted = {\"friend 이름\": {\"선물 준 친구 이름\": 이 친구에게 준 선물 개수}}\n",
    "gift_idx = {} # 선물 지수 \n",
    "# 딕셔너리 초기화\n",
    "for friend in friends:\n",
    "    gifted[friend] = {}\n",
    "    gift_idx[friend] = 0\n",
    "\n",
    "for gift in gifts:\n",
    "    _give, _for = gift.split(' ')\n",
    "\n",
    "    if _for in gifted[_give]:\n",
    "        gifted[_give][_for] += 1\n",
    "    else:\n",
    "        gifted[_give][_for] = 1\n",
    "\n",
    "print(gifted)\n",
    "    "
   ]
  },
  {
   "cell_type": "code",
   "execution_count": null,
   "metadata": {},
   "outputs": [],
   "source": [
    "def solution(friends, gifts):\n",
    "    gifted = {} # gifted = {\"friend 이름\": {\"선물 준 친구 이름\": 이 친구에게 준 선물 개수}}\n",
    "    gift_idx = {} # 선물 지수 \n",
    "    # 딕셔너리 초기화\n",
    "    for friend in friends:\n",
    "        gifted[friend] = {}\n",
    "        gift_idx[friend] = 0\n",
    "    \n",
    "    for gift in gifts:\n",
    "        t, f = gift.split(' ') # t: 선물을 준 사람, f: 받은 사람\n",
    "        if f in gifted[t]:\n",
    "            gifted[t][f] += 1\n",
    "        else:\n",
    "            gifted[t][f] = 1\n",
    "        # 선물 지수 반영\n",
    "        gift_idx[t] += 1\n",
    "        gift_idx[f] -= 1\n",
    "    \n",
    "    # 각자 받게 될 선물 개수\n",
    "    will_get = [0 for _ in friends] # \bfriends 리스트 순서대로 저장\n",
    "    for i in range(len(friends)):\n",
    "        curr = friends[i] # 인덱스 i에 해당하는 친구\n",
    "        for j in range(i+1, len(friends)):\n",
    "            another = friends[j] # 인덱스 j에 해당하는 친구\n",
    "            # curr가 another에게 준 선물 개수\n",
    "            a = gifted[curr][another] if another in gifted[curr] else 0 \n",
    "            # another가 curr에게 준 선물 개수\n",
    "            b = gifted[another][curr] if curr in gifted[another] else 0 \n",
    "            \n",
    "            if a > b: # curr가 선물을 더 많이 줬다면\n",
    "                will_get[i] += 1\n",
    "            elif a < b: # another가 선물을 더 많이 줬다면\n",
    "                will_get[j] += 1\n",
    "            elif a == b: # 둘이 선물을 주고 받은 개수가 같다면 선물 지수 확인\n",
    "                ai, bi = gift_idx[curr], gift_idx[another]\n",
    "                if ai > bi:\n",
    "                    will_get[i] += 1\n",
    "                elif ai < bi:\n",
    "                    will_get[j] += 1\n",
    "    \n",
    "    answer = max(will_get)\n",
    "    return answer"
   ]
  },
  {
   "cell_type": "code",
   "execution_count": null,
   "metadata": {},
   "outputs": [],
   "source": [
    "my_string = \"string\""
   ]
  },
  {
   "cell_type": "code",
   "execution_count": null,
   "metadata": {},
   "outputs": [],
   "source": [
    "a = \"apple pen\"\n",
    "a.split(' ')"
   ]
  },
  {
   "cell_type": "code",
   "execution_count": null,
   "metadata": {},
   "outputs": [],
   "source": [
    "str1, str2 = input().strip().split(' ')"
   ]
  },
  {
   "cell_type": "code",
   "execution_count": null,
   "metadata": {},
   "outputs": [],
   "source": [
    "str1 + str2"
   ]
  },
  {
   "cell_type": "code",
   "execution_count": null,
   "metadata": {},
   "outputs": [],
   "source": [
    "str2"
   ]
  },
  {
   "cell_type": "code",
   "execution_count": null,
   "metadata": {},
   "outputs": [],
   "source": [
    "a, b = 4, 6"
   ]
  },
  {
   "cell_type": "code",
   "execution_count": null,
   "metadata": {},
   "outputs": [],
   "source": [
    "abs(a-b)"
   ]
  },
  {
   "cell_type": "code",
   "execution_count": null,
   "metadata": {},
   "outputs": [],
   "source": [
    "c = (a % 2) == 0, (b % 2) == 0\n",
    "c"
   ]
  },
  {
   "cell_type": "code",
   "execution_count": null,
   "metadata": {},
   "outputs": [],
   "source": []
  },
  {
   "cell_type": "code",
   "execution_count": null,
   "metadata": {},
   "outputs": [],
   "source": [
    "a = [\"abc\", \"def\", \"ghi\"]\n",
    "answer = ''\n",
    "for i in a:\n",
    "    if not \"ef\" in i:\n",
    "        answer += i\n",
    "print(answer)\n",
    "\n",
    "# a.split(',')\n",
    "# a.startswith(\"ef\")"
   ]
  },
  {
   "cell_type": "code",
   "execution_count": null,
   "metadata": {},
   "outputs": [],
   "source": [
    "strArr = [\"and\",\"notad\",\"abcd\"]\n",
    "answer = []\n",
    "for i in strArr:\n",
    "    if not \"ad\" in i:\n",
    "        answer.append(i)\n",
    "print(answer)\n",
    "\n"
   ]
  },
  {
   "cell_type": "code",
   "execution_count": null,
   "metadata": {},
   "outputs": [],
   "source": [
    "a = 123\n",
    "answer = 0\n",
    "for i in a:\n",
    "    answer += int(i)\n",
    "print(answer)"
   ]
  },
  {
   "cell_type": "code",
   "execution_count": null,
   "metadata": {},
   "outputs": [],
   "source": [
    "def multiplyAll_v1(a):\n",
    "    ans = 1\n",
    "    for n in a:\n",
    "        ans *= n\n",
    "    return ans"
   ]
  },
  {
   "cell_type": "code",
   "execution_count": null,
   "metadata": {},
   "outputs": [],
   "source": [
    "multiplyAll_v1(a)"
   ]
  },
  {
   "cell_type": "code",
   "execution_count": null,
   "metadata": {},
   "outputs": [],
   "source": [
    "a = [1,2,3]\n",
    "(map(int, a))"
   ]
  },
  {
   "cell_type": "code",
   "execution_count": null,
   "metadata": {},
   "outputs": [],
   "source": [
    "import numpy\n",
    "list1 = [1, 2, 3]\n",
    "result1 = numpy.prod(list1)\n",
    "print(result1)"
   ]
  },
  {
   "cell_type": "code",
   "execution_count": null,
   "metadata": {},
   "outputs": [],
   "source": [
    "a = [12, 4, 15, 46, 38, 1, 14, 56, 32, 10]\n",
    "sorted(a[5:])\n",
    "\n",
    "\n"
   ]
  },
  {
   "cell_type": "code",
   "execution_count": null,
   "metadata": {},
   "outputs": [],
   "source": [
    "a = [49, 12, 100, 276, 33]\n",
    "for i in range(len(a)):\n",
    "    print(i)"
   ]
  },
  {
   "cell_type": "code",
   "execution_count": null,
   "metadata": {},
   "outputs": [],
   "source": [
    "answer = ''\n",
    "a = \"ABBAA\"\n",
    "for i in a:\n",
    "    if i == \"A\":\n",
    "        answer += \"B\"\n",
    "    else:\n",
    "        answer += \"A\"\n",
    "\n",
    "print(answer)"
   ]
  },
  {
   "cell_type": "code",
   "execution_count": null,
   "metadata": {},
   "outputs": [],
   "source": [
    "a = [49, 13]\n",
    "sum(a)"
   ]
  },
  {
   "cell_type": "code",
   "execution_count": null,
   "metadata": {},
   "outputs": [],
   "source": [
    "answer = []\n",
    "a = [5, 1, 4]\n",
    "for i in a:\n",
    "    for j in range(i):\n",
    "        answer.append(i) \n",
    "\n",
    "print(answer)"
   ]
  },
  {
   "cell_type": "code",
   "execution_count": null,
   "metadata": {},
   "outputs": [],
   "source": [
    "def solution(cards1, cards2, k):\n",
    "    cards1.sort()\n",
    "    cards2.sort()\n",
    "    turns = 0\n",
    "\n",
    "    while cards1 or cards2:\n",
    "        if not cards1:\n",
    "            cards2.pop(0)\n",
    "        elif not cards2:\n",
    "            cards1.pop(0)\n",
    "        elif cards1[0] <= cards2[0]:\n",
    "            if cards1[0] <= cards2[0] - k:\n",
    "                cards1.pop(0)\n",
    "            else:\n",
    "                cards2.pop(0)\n",
    "        else:\n",
    "            if cards2[0] <= cards1[0] - k:\n",
    "                cards2.pop(0)\n",
    "            else:\n",
    "                cards1.pop(0)\n",
    "        turns += 1\n",
    "\n",
    "    return turns - 1  # Adjusting to return correct number of turns\n",
    "\n",
    "# Example usage:\n",
    "cards1 = [2, 4, 6, 8]\n",
    "cards2 = [1, 3, 5]\n",
    "k = 12\n",
    "print(solution(cards1, cards2, k))  # Output: 6\n",
    "\n",
    "\n",
    "cards1 = [88, 91]\n",
    "cards2 = [90, 80]\n",
    "k = 10\n",
    "print(solution(cards1, cards2, k)) \n"
   ]
  },
  {
   "cell_type": "code",
   "execution_count": null,
   "metadata": {},
   "outputs": [],
   "source": [
    "def handshake(N):\n",
    "    # 기본 경우\n",
    "    if N == 1:\n",
    "        return 1\n",
    "    if N == 2:\n",
    "        return 2\n",
    "    if N == 3:\n",
    "        return 3\n",
    "    \n",
    "    dp = [0] * (N + 1)\n",
    "    dp[1] = 1\n",
    "    dp[2] = 2\n",
    "    dp[3] = 3\n",
    "    \n",
    "    for i in range(4, N + 1):\n",
    "        dp[i] = dp[i - 1] + dp[i - 2]\n",
    "    \n",
    "    return dp[N]\n",
    "\n",
    "# 테스트\n",
    "print(handshake(1))  # 1\n",
    "print(handshake(2))  # 2\n",
    "print(handshake(3))  # 3\n",
    "print(handshake(4))  # 4\n",
    "print(handshake(5))  # 5\n"
   ]
  },
  {
   "cell_type": "code",
   "execution_count": null,
   "metadata": {},
   "outputs": [],
   "source": [
    "def solution(n, k, bulbs):\n",
    "    bulbs = list(bulbs)\n",
    "    count = 0\n",
    "    flip_count = [0] * n\n",
    "    \n",
    "    for i in range(n):\n",
    "        if i > 0:\n",
    "            flip_count[i] += flip_count[i - 1]\n",
    "        \n",
    "        current_flips = flip_count[i]\n",
    "        \n",
    "        if bulbs[i] == 'R' and current_flips % 3 == 0:\n",
    "            continue\n",
    "        if bulbs[i] == 'G' and current_flips % 3 == 1:\n",
    "            continue\n",
    "        if bulbs[i] == 'B' and current_flips % 3 == 2:\n",
    "            continue\n",
    "        \n",
    "        if i + k > n:\n",
    "            return -1\n",
    "        \n",
    "        count += 1\n",
    "        current_flips += 1\n",
    "        flip_count[i] += 1\n",
    "        \n",
    "        if i + k < n:\n",
    "            flip_count[i + k] -= 1\n",
    "    \n",
    "    return count\n",
    "\n",
    "# Example usage\n",
    "print(solution(6, 3, \"RBGRGB\"))  # Expected: 3\n",
    "print(solution(3, 2, \"BGG\"))     # Expected: -1\n",
    "print(solution(4, 2, \"GBBG\"))    # Expected: 6\n"
   ]
  },
  {
   "cell_type": "code",
   "execution_count": null,
   "metadata": {},
   "outputs": [],
   "source": [
    "def solution(n, k, bulbs):\n",
    "    bulbs = list(bulbs)  # 문자열을 리스트로 변환하여 조작 가능하게 함\n",
    "    presses = 0\n",
    "    \n",
    "    for i in range(n):\n",
    "        if bulbs[i] != 'R':  # 현재 전구가 빨간색이 아니면\n",
    "            if i + k > n:  # k 범위를 벗어나면 불가능\n",
    "                return -1\n",
    "            \n",
    "            presses += 1  # 버튼을 눌러 변환\n",
    "            for j in range(i, i + k):  # k개의 연속된 전구 변환\n",
    "                if bulbs[j] == 'R':\n",
    "                    bulbs[j] = 'G'\n",
    "                elif bulbs[j] == 'G':\n",
    "                    bulbs[j] = 'B'\n",
    "                elif bulbs[j] == 'B':\n",
    "                    bulbs[j] = 'R'\n",
    "    \n",
    "    return presses\n",
    "\n",
    "# 예시 테스트\n",
    "test1 = solution(6, 3, \"RBGRGB\")  # 예상 결과: 3\n",
    "test2 = solution(3, 2, \"BGG\")    # 예상 결과: -1\n",
    "test3 = solution(4, 2, \"GBBG\")   # 예상 결과: 6\n",
    "print(test1, test2, test3)\n"
   ]
  },
  {
   "cell_type": "code",
   "execution_count": null,
   "metadata": {},
   "outputs": [],
   "source": [
    "a = \" i    love  you\"\n",
    "b = a.split()\n",
    "b\n",
    "# c = ' '.join(b).split()\n",
    "# c\n",
    "# c\n"
   ]
  },
  {
   "cell_type": "code",
   "execution_count": null,
   "metadata": {},
   "outputs": [],
   "source": [
    "a = 1.42\n",
    "int(a)"
   ]
  },
  {
   "cell_type": "code",
   "execution_count": null,
   "metadata": {},
   "outputs": [],
   "source": [
    "arr = [293, 1000, 395, 678, 94]\n",
    "delete_list = [94, 777, 104, 1000, 1, 12]\n",
    "for i in arr:\n",
    "    if i not in delete_list:\n",
    "\n",
    "        print(i)   "
   ]
  },
  {
   "cell_type": "code",
   "execution_count": null,
   "metadata": {},
   "outputs": [],
   "source": [
    "a = \"abcdevwxyz\"\n",
    "answer = ''\n",
    "for _str in a:\n",
    "    if ord(_str) < ord(\"i\"):\n",
    "        _str = \"i\"\n",
    "        answer += _str\n",
    "    else:\n",
    "        answer += _str\n",
    "print(answer)"
   ]
  },
  {
   "cell_type": "code",
   "execution_count": null,
   "metadata": {},
   "outputs": [],
   "source": [
    "a = \"i love you\"\n",
    "a.split()"
   ]
  },
  {
   "cell_type": "code",
   "execution_count": null,
   "metadata": {},
   "outputs": [],
   "source": [
    "a = [[0, 4], [1, 2], [3, 5], [7, 7]]\n",
    "for i in a:\n",
    "    print(i)"
   ]
  },
  {
   "cell_type": "code",
   "execution_count": 267,
   "metadata": {},
   "outputs": [
    {
     "data": {
      "text/plain": [
       "'a'"
      ]
     },
     "execution_count": 267,
     "metadata": {},
     "output_type": "execute_result"
    }
   ],
   "source": [
    "a = \"hamburger\"\n",
    "a[1:2]"
   ]
  },
  {
   "cell_type": "code",
   "execution_count": 225,
   "metadata": {},
   "outputs": [],
   "source": [
    "my_strings = [\"progressive\", \"hamburger\", \"hammer\", \"ahocorasick\"]\n",
    "parts = [[0, 4], [1, 2], [3, 5], [7, 7]]"
   ]
  },
  {
   "cell_type": "code",
   "execution_count": 268,
   "metadata": {},
   "outputs": [
    {
     "data": {
      "text/plain": [
       "'am'"
      ]
     },
     "execution_count": 268,
     "metadata": {},
     "output_type": "execute_result"
    }
   ],
   "source": [
    "my_strings[1][parts[1][0]:(parts[1][-1])+1]"
   ]
  },
  {
   "cell_type": "code",
   "execution_count": 269,
   "metadata": {},
   "outputs": [],
   "source": [
    "def solution(my_strings, parts):\n",
    "\n",
    "    answer = ''\n",
    "    for i in range(len(my_strings)):\n",
    "        answer += my_strings[i][parts[i][0]:(parts[i][-1])+1]\n",
    "    return answer"
   ]
  },
  {
   "cell_type": "code",
   "execution_count": 270,
   "metadata": {},
   "outputs": [
    {
     "data": {
      "text/plain": [
       "'programmers'"
      ]
     },
     "execution_count": 270,
     "metadata": {},
     "output_type": "execute_result"
    }
   ],
   "source": [
    "solution(my_strings, parts)"
   ]
  },
  {
   "cell_type": "code",
   "execution_count": 271,
   "metadata": {},
   "outputs": [
    {
     "data": {
      "text/plain": [
       "273"
      ]
     },
     "execution_count": 271,
     "metadata": {},
     "output_type": "execute_result"
    }
   ],
   "source": [
    "a = [34, 5, 71, 29, 100, 34]\t\n",
    "b = []\n",
    "for i in a:\n",
    "    print(i)"
   ]
  },
  {
   "cell_type": "code",
   "execution_count": 280,
   "metadata": {},
   "outputs": [
    {
     "name": "stdout",
     "output_type": "stream",
     "text": [
      "4\n",
      "2\n",
      "6\n",
      "1\n",
      "7\n",
      "6\n"
     ]
    }
   ],
   "source": [
    "num_list = [4, 2, 6, 1, 7, 6]\n",
    "for i in num_list:\n",
    "    print(i)"
   ]
  },
  {
   "cell_type": "code",
   "execution_count": 313,
   "metadata": {},
   "outputs": [
    {
     "data": {
      "text/plain": [
       "['nami', 'vex']"
      ]
     },
     "execution_count": 313,
     "metadata": {},
     "output_type": "execute_result"
    }
   ],
   "source": [
    "names = [\"nami\", \"ahri\", \"jayce\", \"garen\", \"ivern\", \"vex\", \"jinx\"]\n",
    "names_2 = [\"vex\", \"jinx\"]\n",
    "names[0::5]"
   ]
  },
  {
   "cell_type": "code",
   "execution_count": 287,
   "metadata": {},
   "outputs": [
    {
     "data": {
      "text/plain": [
       "2"
      ]
     },
     "execution_count": 287,
     "metadata": {},
     "output_type": "execute_result"
    }
   ],
   "source": [
    "len(names) % 5"
   ]
  },
  {
   "cell_type": "code",
   "execution_count": 317,
   "metadata": {},
   "outputs": [
    {
     "ename": "TypeError",
     "evalue": "unsupported operand type(s) for %: 'list' and 'int'",
     "output_type": "error",
     "traceback": [
      "\u001b[0;31m---------------------------------------------------------------------------\u001b[0m",
      "\u001b[0;31mTypeError\u001b[0m                                 Traceback (most recent call last)",
      "Cell \u001b[0;32mIn[317], line 2\u001b[0m\n\u001b[1;32m      1\u001b[0m arr \u001b[38;5;241m=\u001b[39m [\u001b[38;5;241m1\u001b[39m, \u001b[38;5;241m2\u001b[39m, \u001b[38;5;241m3\u001b[39m, \u001b[38;5;241m100\u001b[39m, \u001b[38;5;241m99\u001b[39m, \u001b[38;5;241m98\u001b[39m]\n\u001b[0;32m----> 2\u001b[0m \u001b[38;5;28mmap\u001b[39m(\u001b[38;5;28mlist\u001b[39m, (arr\u001b[38;5;241m%\u001b[39m\u001b[38;5;241m2\u001b[39m))\n",
      "\u001b[0;31mTypeError\u001b[0m: unsupported operand type(s) for %: 'list' and 'int'"
     ]
    }
   ],
   "source": [
    "arr = [1, 2, 3, 100, 99, 98]\n",
    "map(list, (arr%2))"
   ]
  },
  {
   "cell_type": "code",
   "execution_count": 320,
   "metadata": {},
   "outputs": [
    {
     "data": {
      "text/plain": [
       "['o', 'oo', 'o', '', 'o', '']"
      ]
     },
     "execution_count": 320,
     "metadata": {},
     "output_type": "execute_result"
    }
   ],
   "source": [
    "a = \"oxooxoxxox\"\n",
    "a.split('x')"
   ]
  }
 ],
 "metadata": {
  "kernelspec": {
   "display_name": "gpt_project",
   "language": "python",
   "name": "python3"
  },
  "language_info": {
   "codemirror_mode": {
    "name": "ipython",
    "version": 3
   },
   "file_extension": ".py",
   "mimetype": "text/x-python",
   "name": "python",
   "nbconvert_exporter": "python",
   "pygments_lexer": "ipython3",
   "version": "3.11.5"
  }
 },
 "nbformat": 4,
 "nbformat_minor": 2
}
