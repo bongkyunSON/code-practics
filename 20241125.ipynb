{
 "cells": [
  {
   "cell_type": "markdown",
   "metadata": {},
   "source": [
    "특정 문자열로 끝나는 가장 긴 부분 문자열 찾기\n",
    "\n",
    "문제 설명\n",
    "\n",
    "문자열 myString과 pat가 주어집니다. myString의 부분 문자열중 pat로 끝나는 가장 긴 부분 문자열을 찾아서 return 하는 solution 함수를 완성해 주세요.\n",
    "\n",
    "제한사항\n",
    "\n",
    "5 ≤ myString ≤ 20\n",
    "\n",
    "1 ≤ pat ≤ 5\n",
    "\n",
    "pat은 반드시 myString의 부분 문자열로 주어집니다.\n",
    "\n",
    "myString과 pat에 등장하는 알파벳은 대문자와 소문자를 구분합니다.\n",
    "\n",
    "입출력 예\n",
    "\n",
    "myString\tpat\tresult\n",
    "\n",
    "\"AbCdEFG\"\t\"dE\"\t\"AbCdE\"\n",
    "\n",
    "\"AAAAaaaa\"\t\"a\"\t\"AAAAaaaa\"\n",
    "\n",
    "입출력 예 설명\n",
    "\n",
    "입출력 예 #1\n",
    "\n",
    "\"AbCdEFG\"에서 \"dE\"는 한 번 등장하며 처음부터 해당 위치까지 잘라내면 \"AbCdE\"가 됩니다. 따라서 이 문자열이 \"dE\"로 끝나는 가장 긴 문자열이며, \"AbCdE\"를 return 합니다.\n",
    "\n",
    "입출력 예 #2\n",
    "\n",
    "\"AAAAaaaa\"에서 \"a\"는 총 네 번 등장하며 이 중 가장 마지막에 있는 위치까지 잘라내면 \"AAAAaaaa\"가 됩니다. 따라서 이 문자열이 \"a\"로 끝나는 가장 긴 문자열이며, \n",
    "\n",
    "\"AAAAaaaa\"를 return 합니다."
   ]
  },
  {
   "cell_type": "code",
   "execution_count": 19,
   "metadata": {},
   "outputs": [],
   "source": [
    "def solution(myString, pat):\n",
    "    \n",
    "    return myString[:myString.rfind(pat)+len(pat)]"
   ]
  },
  {
   "cell_type": "markdown",
   "metadata": {},
   "source": [
    "문자열이 몇 번 등장하는지 세기\n",
    "\n",
    "문제 설명\n",
    "\n",
    "문자열 myString과 pat이 주어집니다. myString에서 pat이 등장하는 횟수를 return 하는 solution 함수를 완성해 주세요.\n",
    "\n",
    "제한사항\n",
    "\n",
    "1 ≤ myString ≤ 1000\n",
    "\n",
    "1 ≤ pat ≤ 10\n",
    "\n",
    "입출력 예\n",
    "\n",
    "myString\tpat\tresult\n",
    "\n",
    "\"banana\"\t\"ana\"\t2\n",
    "\n",
    "\"aaaa\"\t\"aa\"\t3\n",
    "\n",
    "입출력 예 설명\n",
    "\n",
    "입출력 예 #1\n",
    "\n",
    "\"banana\"에서 1 ~ 3번 인덱스에서 한 번, 3 ~ 5번 인덱스에서 또 한 번 \"ana\"가 등장해서 총 두 번 등장합니다. 따라서 2를 return 합니다.\n",
    "\n",
    "입출력 예 #2\n",
    "\n",
    "\"aaaa\"에서 0 ~ 2번 인덱스에서 한 번, 1 ~ 3번 인덱스에서 한 번, 2 ~ 4번 인덱스에서 한 번 \"aa\"가 등장해서 총 세 번 등장합니다. 따라서 3을 return 합니다."
   ]
  },
  {
   "cell_type": "code",
   "execution_count": 26,
   "metadata": {},
   "outputs": [
    {
     "data": {
      "text/plain": [
       "2"
      ]
     },
     "execution_count": 26,
     "metadata": {},
     "output_type": "execute_result"
    }
   ],
   "source": [
    "myString = \"banana\"\t\n",
    "pat = \"ana\"\t\n",
    "def solution(myString, pat):\n",
    "    answer = 0\n",
    "    for i in range(len(myString)):\n",
    "        if myString[i:i+len(pat)].count(pat) > 0:\n",
    "            answer += 1\n",
    "    return answer\n",
    "\n",
    "\n",
    "solution(myString, pat)"
   ]
  },
  {
   "cell_type": "markdown",
   "metadata": {},
   "source": [
    "ad 제거하기\n",
    "\n",
    "문제 설명\n",
    "\n",
    "문자열 배열 strArr가 주어집니다. 배열 내의 문자열 중 \"ad\"라는 부분 문자열을 포함하고 있는 모든 문자열을 제거하고 남은 문자열을 순서를 유지하여 배열로 return 하는 \n",
    "\n",
    "solution 함수를 완성해 주세요.\n",
    "\n",
    "제한사항\n",
    "\n",
    "1 ≤ strArr의 길이 ≤ 1,000\n",
    "\n",
    "1 ≤ strArr의 원소의 길이 ≤ 20\n",
    "\n",
    "strArr의 원소는 알파벳 소문자로 이루어진 문자열입니다.\n",
    "\n",
    "입출력 예\n",
    "\n",
    "strArr\tresult\n",
    "\n",
    "[\"and\",\"notad\",\"abcd\"]\t[\"and\",\"abcd\"]\n",
    "\n",
    "[\"there\",\"are\",\"no\",\"a\",\"ds\"]\t[\"there\",\"are\",\"no\",\"a\",\"ds\"]\n",
    "\n",
    "입출력 예 설명\n",
    "\n",
    "입출력 예 #1\n",
    "\n",
    "1번 인덱스의 문자열인 \"notad\"는 부분 문자열로 \"ad\"를 가집니다. 따라서 해당 문자열을 제거하고 나머지는 순서를 유지하여 [\"and\",\"abcd\"]를 return 합니다.\n",
    "\n",
    "입출력 예 #2\n",
    "\n",
    "\"ad\"가 부분 문자열로 들어간 문자열이 존재하지 않습니다. 따라서 원래 배열을 그대로 return 합니다."
   ]
  },
  {
   "cell_type": "code",
   "execution_count": null,
   "metadata": {},
   "outputs": [],
   "source": [
    "def solution(strArr):\n",
    "    answer = []\n",
    "    for i in strArr:\n",
    "        if \"ad\" not in i:\n",
    "            answer.append(i)\n",
    "    return answer"
   ]
  },
  {
   "cell_type": "markdown",
   "metadata": {},
   "source": [
    "공백으로 구분하기 1\n",
    "\n",
    "문제 설명\n",
    "\n",
    "단어가 공백 한 개로 구분되어 있는 문자열 my_string이 매개변수로 주어질 때, my_string에 나온 단어를 앞에서부터 순서대로 담은 문자열 배열을 return 하는 solution 함수를 작성해 주세요.\n",
    "\n",
    "제한사항\n",
    "\n",
    "my_string은 영소문자와 공백으로만 이루어져 있습니다.\n",
    "\n",
    "1 ≤ my_string의 길이 ≤ 1,000\n",
    "\n",
    "my_string의 맨 앞과 맨 뒤에 글자는 공백이 아닙니다.\n",
    "\n",
    "입출력 예\n",
    "\n",
    "my_string\tresult\n",
    "\n",
    "\"i love you\"\t[\"i\", \"love\", \"you\"]\n",
    "\n",
    "\"programmers\"\t[\"programmers\"]\n",
    "\n",
    "입출력 예 설명\n",
    "\n",
    "입출력 예 #1\n",
    "\n",
    "예제 1번의 my_string은 \"i love you\"로 공백 한 칸으로 나누어진 단어들은 앞에서부터 순서대로 \"i\", \"love\", \"you\" 이므로 [\"i\", \"love\", \"you\"]를 return 합니다.\n",
    "\n",
    "입출력 예 #2\n",
    "\n",
    "예제 2번의 my_string은 \"programmers\"로 단어가 하나만 있습니다. 따라서 [\"programmers\"]를 return 합니다."
   ]
  },
  {
   "cell_type": "code",
   "execution_count": 38,
   "metadata": {},
   "outputs": [
    {
     "data": {
      "text/plain": [
       "['i', 'love', 'you']"
      ]
     },
     "execution_count": 38,
     "metadata": {},
     "output_type": "execute_result"
    }
   ],
   "source": [
    "my_string = \"i   love   you\"\n",
    "def solution(my_string):\n",
    "    answer = []\n",
    "    for i in my_string.split():\n",
    "        answer.append(i)\n",
    "    return answer\n",
    "\n",
    "solution(my_string)"
   ]
  },
  {
   "cell_type": "markdown",
   "metadata": {},
   "source": [
    "공백으로 구분하기 2\n",
    "\n",
    "문제 설명\n",
    "\n",
    "단어가 공백 한 개 이상으로 구분되어 있는 문자열 my_string이 매개변수로 주어질 때, my_string에 나온 단어를 앞에서부터 순서대로 담은 문자열 배열을 return 하는 \n",
    "\n",
    "solution 함수를 작성해 주세요.\n",
    "\n",
    "제한사항\n",
    "\n",
    "my_string은 영소문자와 공백으로만 이루어져 있습니다.\n",
    "\n",
    "1 ≤ my_string의 길이 ≤ 1,000\n",
    "\n",
    "my_string의 맨 앞과 맨 뒤에도 공백이 있을 수 있습니다.\n",
    "\n",
    "my_string에는 단어가 하나 이상 존재합니다.\n",
    "\n",
    "입출력 예\n",
    "\n",
    "my_string\tresult\n",
    "\n",
    "\" i    love  you\"\t[\"i\", \"love\", \"you\"]\n",
    "\n",
    "\"    programmers  \"\t[\"programmers\"]\n",
    "\n",
    "입출력 예 설명\n",
    "\n",
    "입출력 예 #1\n",
    "\n",
    "예제 1번의 my_string은 \" i    love  you\"로 공백을 기준으로 단어를 나누면 \"i\", \"love\", \"you\" 3개의 단어가 있습니다. 따라서 [\"i\", \"love\", \"you\"]를 \n",
    "return 합니다.\n",
    "\n",
    "입출력 예 #2\n",
    "\n",
    "예제 2번의 my_string은 \"    programmers  \"로 단어는 \"programmers\" 하나만 있습니다. 따라서 [\"programmers\"]를 return 합니다."
   ]
  },
  {
   "cell_type": "code",
   "execution_count": 39,
   "metadata": {},
   "outputs": [],
   "source": [
    "def solution(my_string):\n",
    "    answer = []\n",
    "    for i in my_string.split():\n",
    "        answer.append(i)\n",
    "    return answer"
   ]
  },
  {
   "cell_type": "markdown",
   "metadata": {},
   "source": [
    "x 사이의 개수\n",
    "\n",
    "문제 설명\n",
    "\n",
    "문자열 myString이 주어집니다. myString을 문자 \"x\"를 기준으로 나눴을 때 나눠진 문자열 각각의 길이를 순서대로 저장한 배열을 return 하는 solution 함수를 완성해 주세요.\n",
    "\n",
    "제한사항\n",
    "\n",
    "1 ≤ myString의 길이 ≤ 100,000\n",
    "\n",
    "myString은 알파벳 소문자로 이루어진 문자열입니다.\n",
    "\n",
    "입출력 예\n",
    "\n",
    "myString\tresult\n",
    "\n",
    "\"oxooxoxxox\"\t[1, 2, 1, 0, 1, 0]\n",
    "\n",
    "\"xabcxdefxghi\"\t[0, 3, 3, 3]\n",
    "\n",
    "입출력 예 설명\n",
    "\n",
    "입출력 예 #1\n",
    "\n",
    "\"x\"를 기준으로 문자열을 나누면 [\"o\", \"oo\", \"o\", \"\", \"o\", \"\"]가 됩니다. 각각의 길이로 배열을 만들면 [1, 2, 1, 0, 1, 0]입니다. 따라서 [1, 2, 1, 0, 1, 0]을 return 합니다.\n",
    "\n",
    "입출력 예 #2\n",
    "\n",
    "\"x\"를 기준으로 문자열을 나누면 [\"\", \"abc\", \"def\", \"ghi\"]가 됩니다. 각각의 길이로 배열을 만들면 [0, 3, 3, 3]입니다. 따라서 [0, 3, 3, 3]을 return 합니다."
   ]
  },
  {
   "cell_type": "code",
   "execution_count": 44,
   "metadata": {},
   "outputs": [
    {
     "data": {
      "text/plain": [
       "[1, 2, 1, 0, 1, 0]"
      ]
     },
     "execution_count": 44,
     "metadata": {},
     "output_type": "execute_result"
    }
   ],
   "source": [
    "myString = \"oxooxoxxox\"\t\n",
    "def solution(myString):\n",
    "    answer = []\n",
    "    split_myString = myString.split(\"x\")\n",
    "    for i in split_myString:\n",
    "        answer.append(len(i))\n",
    "    return answer\n",
    "\n",
    "solution(myString)"
   ]
  },
  {
   "cell_type": "markdown",
   "metadata": {},
   "source": [
    "문제 설명\n",
    "\n",
    "문자열 myString이 주어집니다. \"x\"를 기준으로 해당 문자열을 잘라내 배열을 만든 후 사전순으로 정렬한 배열을 return 하는 solution 함수를 완성해 주세요.\n",
    "\n",
    "단, 빈 문자열은 반환할 배열에 넣지 않습니다.\n",
    "\n",
    "제한사항\n",
    "\n",
    "1 ≤ myString ≤ 100,000\n",
    "\n",
    "myString은 알파벳 소문자로 이루어진 문자열입니다.\n",
    "\n",
    "입출력 예\n",
    "\n",
    "myString\tresult\n",
    "\n",
    "\"axbxcxdx\"\t[\"a\",\"b\",\"c\",\"d\"]\n",
    "\n",
    "\"dxccxbbbxaaaa\"\t[\"aaaa\",\"bbb\",\"cc\",\"d\"]\n",
    "\n",
    "입출력 예 설명\n",
    "\n",
    "입출력 예 #1\n",
    "\n",
    "myString을 \"x\"를 기준으로 자른 배열은 [\"a\",\"b\",\"c\",\"d\"]이며, 이 배열은 이미 사전순으로 정렬된 상태입니다. 따라서 해당 배열을 return 합니다.\n",
    "\n",
    "입출력 예 #2\n",
    "\n",
    "myString을 \"x\"를 기준으로 자른 배열은 [\"d\",\"cc\",\"bbb\",\"aaaa\"]이며, 이 배열을 사전순으로 정렬하면 [\"aaaa\",\"bbb\",\"cc\",\"d\"]입니다. 따라서 해당 배열을 return 합니다."
   ]
  },
  {
   "cell_type": "code",
   "execution_count": 50,
   "metadata": {},
   "outputs": [
    {
     "data": {
      "text/plain": [
       "['a', 'b', 'c', 'd']"
      ]
     },
     "execution_count": 50,
     "metadata": {},
     "output_type": "execute_result"
    }
   ],
   "source": [
    "myString = \"axbxcxdx\"\n",
    "def solution(myString):\n",
    "    split_myString = myString.split(\"x\")\n",
    "\n",
    "    return sorted(list(filter(None, split_myString)))\n",
    "\n",
    "solution(myString)"
   ]
  },
  {
   "cell_type": "markdown",
   "metadata": {},
   "source": [
    "간단한 식 계산하기\n",
    "\n",
    "문제 설명\n",
    "\n",
    "문자열 binomial이 매개변수로 주어집니다. binomial은 \"a op b\" 형태의 이항식이고 a와 b는 음이 아닌 정수, op는 '+', '-', '*' 중 하나입니다. 주어진 식을 \n",
    "계산한 정수를 return 하는 solution 함수를 작성해 주세요.\n",
    "\n",
    "제한사항\n",
    "\n",
    "0 ≤ a, b ≤ 40,000\n",
    "\n",
    "0을 제외하고 a, b는 0으로 시작하지 않습니다.\n",
    "\n",
    "입출력 예\n",
    "\n",
    "binomial\tresult\n",
    "\n",
    "\"43 + 12\"\t55\n",
    "\n",
    "\"0 - 7777\"\t-7777\n",
    "\n",
    "\"40000 * 40000\"\t1600000000\n",
    "\n",
    "입출력 예 설명\n",
    "\n",
    "입출력 예 #1\n",
    "\n",
    "예제 1번의 binomial은 \"43 + 12\"로 이 식을 계산한 결과인 43 + 12 = 55를 return 합니다.\n",
    "\n",
    "입출력 예 #2\n",
    "\n",
    "예제 2번의 binomial은 \"0 - 7777\"로 이 식을 계산한 결과인 0 - 7777 = -7777을 return 합니다.\n",
    "\n",
    "입출력 예 #3\n",
    "\n",
    "예제 3번의 binomial은 \"40000 * 40000\"으로 이 식을 계산한 결과인 40000 × 40000 = 1600000000을 return 합니다."
   ]
  },
  {
   "cell_type": "code",
   "execution_count": 54,
   "metadata": {},
   "outputs": [],
   "source": [
    "def solution(binomial):\n",
    "    \n",
    "    split_binomial = binomial.split()\n",
    "    if split_binomial[1] == \"+\":\n",
    "        return int(split_binomial[0]) + int(split_binomial[2])\n",
    "    elif split_binomial[1] == \"-\":\n",
    "        return int(split_binomial[0]) - int(split_binomial[2])\n",
    "    else: \n",
    "        return int(split_binomial[0]) * int(split_binomial[2])\n",
    "        \n",
    "    "
   ]
  },
  {
   "cell_type": "markdown",
   "metadata": {},
   "source": [
    "문자열 바꿔서 찾기\n",
    "\n",
    "문제 설명\n",
    "\n",
    "문자 \"A\"와 \"B\"로 이루어진 문자열 myString과 pat가 주어집니다. myString의 \"A\"를 \"B\"로, \"B\"를 \"A\"로 바꾼 문자열의 연속하는 부분 문자열 중 pat이 있으면 1을 아니면 0을 return 하는 solution 함수를 완성하세요.\n",
    "\n",
    "제한사항\n",
    "\n",
    "1 ≤ myString의 길이 ≤ 100\n",
    "\n",
    "1 ≤ pat의 길이 ≤ 10\n",
    "\n",
    "myString과 pat는 문자 \"A\"와 \"B\"로만 이루어진 문자열입니다.\n",
    "\n",
    "입출력 예\n",
    "\n",
    "myString\tpat\tresult\n",
    "\n",
    "\"ABBAA\"\t\"AABB\"\t1\n",
    "\n",
    "\"ABAB\"\t\"ABAB\"\t0\n",
    "\n",
    "입출력 예 설명\n",
    "\n",
    "입출력 예 #1\n",
    "\n",
    "\"ABBAA\"에서 \"A\"와 \"B\"를 서로 바꾸면 \"BAABB\"입니다. 여기에는 부분문자열 \"AABB\"가 있기 때문에 1을 return 합니다.\n",
    "\n",
    "입출력 예 #2\n",
    "\n",
    "\"ABAB\"에서 \"A\"와 \"B\"를 서로 바꾸면 \"BABA\"입니다. 여기에는 부분문자열 \"BABA\"가 없기 때문에 0을 return 합니다.\n",
    "\n",
    "※ 2023년 05월 15일 제한사항 및 테스트 케이스가 수정되었습니다. 기존에 제출한 코드가 통과하지 못할 수 있습니다."
   ]
  },
  {
   "cell_type": "code",
   "execution_count": 62,
   "metadata": {},
   "outputs": [
    {
     "data": {
      "text/plain": [
       "1"
      ]
     },
     "execution_count": 62,
     "metadata": {},
     "output_type": "execute_result"
    }
   ],
   "source": [
    "myString = \"ABBAA\"\n",
    "pat = \"AABB\"\n",
    "def solution(myString, pat):\n",
    "    answer = \"\"\n",
    "    for s in myString:\n",
    "        if s == \"A\":\n",
    "            answer += \"B\"\n",
    "        else:\n",
    "            answer += \"A\"\n",
    "    if answer.find(pat) != -1:\n",
    "        return 1\n",
    "    else:\n",
    "        return 0\n",
    "    \n",
    "    \n",
    "solution(myString, pat)\n",
    "    "
   ]
  },
  {
   "cell_type": "markdown",
   "metadata": {},
   "source": [
    "rny_string\n",
    "\n",
    "문제 설명\n",
    "\n",
    "'m'과 \"rn\"이 모양이 비슷하게 생긴 점을 활용해 문자열에 장난을 하려고 합니다. 문자열 rny_string이 주어질 때, rny_string의 모든 'm'을 \"rn\"으로 바꾼 문자열을 return 하는 solution 함수를 작성해 주세요.\n",
    "\n",
    "제한사항\n",
    "\n",
    "1 ≤ rny_string의 길이 ≤ 100\n",
    "\n",
    "rny_string은 영소문자로만 이루어져 있습니다.\n",
    "\n",
    "입출력 예\n",
    "\n",
    "rny_string\tresult\n",
    "\n",
    "\"masterpiece\"\t\"rnasterpiece\"\n",
    "\n",
    "\"programmers\"\t\"prograrnrners\"\n",
    "\n",
    "\"jerry\"\t\"jerry\"\n",
    "\n",
    "\"burn\"\t\"burn\"\n",
    "\n",
    "입출력 예 설명\n",
    "\n",
    "입출력 예 #1\n",
    "\n",
    "예제 1번의 rny_string의 'm'을 \"rn\"으로 바꾸는 과정을 표로 나타내면 다음과 같습니다.\n",
    "\n",
    "|rny_string|m|a|s|t|e|r|p|i|e|c|e|\n",
    "\n",
    "|---------|-|-|-|-|-|-|-|-|-|-|-|\n",
    "\n",
    "|result|rn|a|s|t|e|r|p|i|e|c|e|\n",
    "\n",
    "따라서 \"rnasterpiece\"를 return 합니다.\n",
    "\n",
    "입출력 예 #2\n",
    "\n",
    "예제 2번의 rny_string의 'm'을 \"rn\"으로 바꾸는 과정을 표로 나타내면 다음과 같습니다.\n",
    "\n",
    "|rny_string|p|r|o|g|r|a|m|m|e|r|s|\n",
    "\n",
    "|---------|-|-|-|-|-|-|-|-|-|-|-|\n",
    "\n",
    "|result|p|r|o|g|r|a|rn|rn|e|r|s|\n",
    "\n",
    "따라서 \"prograrnrners\"를 return 합니다.\n",
    "\n",
    "입출력 예 #3\n",
    "\n",
    "예제 3번의 rny_string에는 'm'이 없습니다. 따라서 rny_string 그대로인 \"jerry\"를 return 합니다.\n",
    "\n",
    "입출력 예 #4\n",
    "\n",
    "예제 4번의 rny_string에는 'm'이 없습니다. 따라서 rny_string 그대로인 \"burn\"를 return 합니다."
   ]
  },
  {
   "cell_type": "code",
   "execution_count": 65,
   "metadata": {},
   "outputs": [],
   "source": [
    "def solution(rny_string):\n",
    "    return rny_string.replace(\"m\", \"rn\")"
   ]
  },
  {
   "cell_type": "markdown",
   "metadata": {},
   "source": [
    "배열 비교하기\n",
    "\n",
    "문제 설명\n",
    "\n",
    "이 문제에서 두 정수 배열의 대소관계를 다음과 같이 정의합니다.\n",
    "\n",
    "두 배열의 길이가 다르다면, 배열의 길이가 긴 쪽이 더 큽니다.\n",
    "\n",
    "배열의 길이가 같다면 각 배열에 있는 모든 원소의 합을 비교하여 다르다면 더 큰 쪽이 크고, 같다면 같습니다.\n",
    "\n",
    "두 정수 배열 arr1과 arr2가 주어질 때, 위에서 정의한 배열의 대소관계에 대하여 arr2가 크다면 -1, arr1이 크다면 1, 두 배열이 같다면 0을 return 하는 solution 함수를 작성해 주세요.\n",
    "\n",
    "제한사항\n",
    "\n",
    "1 ≤ arr1의 길이 ≤ 100\n",
    "\n",
    "1 ≤ arr2의 길이 ≤ 100\n",
    "\n",
    "1 ≤ arr1의 원소 ≤ 100\n",
    "\n",
    "1 ≤ arr2의 원소 ≤ 100\n",
    "\n",
    "문제에서 정의한 배열의 대소관계가 일반적인 프로그래밍 언어에서 정의된 배열의 대소관계와 다를 수 있는 점에 유의해주세요.\n",
    "\n",
    "입출력 예\n",
    "\n",
    "arr1\tarr2\tresult\n",
    "\n",
    "[49, 13]\t[70, 11, 2]\t-1\n",
    "\n",
    "[100, 17, 84, 1]\t[55, 12, 65, 36]\t1\n",
    "\n",
    "[1, 2, 3, 4, 5]\t[3, 3, 3, 3, 3]\t0\n",
    "\n",
    "입출력 예 설명\n",
    "\n",
    "입출력 예 #1\n",
    "\n",
    "예제 1번에서는 arr1의 길이는 2이고 arr2의 길이는 3으로 arr2의 길이가 더 깁니다. 따라서 arr2가 arr1보다 크므로 -1을 return 합니다.\n",
    "\n",
    "입출력 예 #2\n",
    "\n",
    "예제 2번에서는 arr1의 길이과 arr2의 길이가 4로 같습니다. arr1의 모든 원소의 합은 100 + 17 + 84 + 1 = 202이고 arr2의 모든 원소의 합은 55 + 12 + 65 + 36 = 168으로 arr1의 모든 원소의 합이 더 큽니다. 따라서 arr1이 arr2보다 크므로 1을 return 합니다.\n",
    "\n",
    "입출력 예 #3\n",
    "\n",
    "예제 3번에서는 arr1의 길이와 arr2의 길이가 5로 같고 각 배열의 모든 원소의 합 또한 15로 같습니다. 따라서 arr1과 arr2가 같으므로 0을 return 합니다.\n"
   ]
  },
  {
   "cell_type": "code",
   "execution_count": 66,
   "metadata": {},
   "outputs": [
    {
     "data": {
      "text/plain": [
       "-1"
      ]
     },
     "execution_count": 66,
     "metadata": {},
     "output_type": "execute_result"
    }
   ],
   "source": [
    "arr1 = [49, 13]\n",
    "arr2 = [70, 11, 2]\n",
    "\n",
    "def solution(arr1, arr2):\n",
    "    \n",
    "    a = len(arr1) - len(arr2)\n",
    "    b = sum(arr1) - sum(arr2)\n",
    "    if a > 0:\n",
    "        return 1\n",
    "    elif a < 0:\n",
    "        return -1\n",
    "    else:\n",
    "        if b > 0:\n",
    "            return 1\n",
    "        elif b < 0:\n",
    "            return -1\n",
    "        else:\n",
    "            return 0\n",
    "        \n",
    "        \n",
    "solution(arr1, arr2)"
   ]
  }
 ],
 "metadata": {
  "kernelspec": {
   "display_name": "base",
   "language": "python",
   "name": "python3"
  },
  "language_info": {
   "codemirror_mode": {
    "name": "ipython",
    "version": 3
   },
   "file_extension": ".py",
   "mimetype": "text/x-python",
   "name": "python",
   "nbconvert_exporter": "python",
   "pygments_lexer": "ipython3",
   "version": "3.12.4"
  }
 },
 "nbformat": 4,
 "nbformat_minor": 2
}
