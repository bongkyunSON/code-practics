{
 "cells": [
  {
   "cell_type": "markdown",
   "metadata": {},
   "source": [
    "특별한 이차원 배열 1\n",
    "\n",
    "문제 설명\n",
    "정수 n이 매개변수로 주어질 때, 다음과 같은 n × n 크기의 이차원 배열 arr를 return 하는 solution 함수를 작성해 주세요.\n",
    "\n",
    "arr[i][j] (0 ≤ i, j < n)의 값은 i = j라면 1, 아니라면 0입니다.\n",
    "제한사항\n",
    "1 ≤ n ≤ 100\n",
    "입출력 예\n",
    "n\tresult\n",
    "3\t[[1, 0, 0], [0, 1, 0], [0, 0, 1]]\n",
    "6\t[[1, 0, 0, 0, 0, 0], [0, 1, 0, 0, 0, 0], [0, 0, 1, 0, 0, 0], [0, 0, 0, 1, 0, 0], [0, 0, 0, 0, 1, 0], [0, 0, 0, 0, 0, 1]]\n",
    "1\t[[1]]\n",
    "입출력 예 설명\n",
    "입출력 예 #1\n",
    "\n",
    "예제 1번의 n의 값은 3으로 다음과 같이 2차원 배열을 채울 수 있습니다.\n",
    "\n",
    "i \\ j\t0\t1\t2\n",
    "0\t1\t0\t0\n",
    "1\t0\t1\t0\n",
    "2\t0\t0\t1\n",
    "따라서 [[1, 0, 0], [0, 1, 0], [0, 0, 1]]을 return 합니다.\n",
    "\n",
    "입출력 예 #2\n",
    "\n",
    "예제 2번의 n의 값은 6으로 다음과 같이 2차원 배열을 채울 수 있습니다.\n",
    "\n",
    "i \\ j\t0\t1\t2\t3\t4\t5\n",
    "0\t1\t0\t0\t0\t0\t0\n",
    "1\t0\t1\t0\t0\t0\t0\n",
    "2\t0\t0\t1\t0\t0\t0\n",
    "3\t0\t0\t0\t1\t0\t0\n",
    "4\t0\t0\t0\t0\t1\t0\n",
    "5\t0\t0\t0\t0\t0\t1\n",
    "따라서 [[1, 0, 0, 0, 0, 0], [0, 1, 0, 0, 0, 0], [0, 0, 1, 0, 0, 0], [0, 0, 0, 1, 0, 0], [0, 0, 0, 0, 1, 0], [0, 0, 0, 0, 0, 1]]을 return 합니다.\n",
    "\n",
    "입출력 예 #3\n",
    "\n",
    "예제 1번의 n의 값은 1이고 다음과 같이 2차원 배열을 채울 수 있습니다.\n",
    "\n",
    "i \\ j\t0\n",
    "0\t1\n",
    "따라서 [[1]]을 return 합니다."
   ]
  },
  {
   "cell_type": "code",
   "execution_count": null,
   "metadata": {},
   "outputs": [
    {
     "name": "stdout",
     "output_type": "stream",
     "text": [
      "[[1, 0, 0], [0, 1, 0], [0, 0, 1]]\n"
     ]
    }
   ],
   "source": [
    "def solution(n):\n",
    "    answer = []\n",
    "    for i in range(n):\n",
    "        answer.append(([0]*n))\n",
    "    \n",
    "    for j in range(n):\n",
    "        answer[j][j] += 1\n",
    "        \n",
    "    return answer"
   ]
  },
  {
   "cell_type": "markdown",
   "metadata": {},
   "source": [
    "특별한 이차원 배열 2\n",
    "문제 설명\n",
    "\n",
    "n × n 크기의 이차원 배열 arr이 매개변수로 주어질 때, arr이 다음을 만족하면 1을 아니라면 0을 return 하는 solution 함수를 작성해 주세요.\n",
    "\n",
    "0 ≤ i, j < n인 정수 i, j에 대하여 arr[i][j] = arr[j][i]\n",
    "\n",
    "제한사항\n",
    "1 ≤ arr의 길이 = arr의 원소의 길이 ≤ 100\n",
    "1 ≤ arr의 원소의 원소 ≤ 1,000\n",
    "모든 arr의 원소의 길이는 같습니다.\n",
    "입출력 예\n",
    "arr\tresult\n",
    "[[5, 192, 33], [192, 72, 95], [33, 95, 999]]\t1\n",
    "[[19, 498, 258, 587], [63, 93, 7, 754], [258, 7, 1000, 723], [587, 754, 723, 81]]\t0\n",
    "입출력 예 설명\n",
    "입출력 예 #1\n",
    "\n",
    "예제 1번에서 문제의 조건이 잘 보이도록 표를 만들면 다음과 같습니다.\n",
    "|i|j|arr[i][j]|arr[j][i]|\n",
    "\n",
    "|---|---|---|---|\n",
    "\n",
    "|0|0|5|5|\n",
    "\n",
    "|0|1|192|192|\n",
    "\n",
    "|0|2|33|33|\n",
    "\n",
    "|1|0|192|192|\n",
    "\n",
    "|1|1|72|72|\n",
    "\n",
    "|1|2|95|95|\n",
    "\n",
    "|2|0|33|33|\n",
    "\n",
    "|2|1|95|95|\n",
    "\n",
    "|2|2|999|999|\n",
    "\n",
    "조건을 만족하므로 1을 return 합니다.\n",
    "입출력 예 #2\n",
    "\n",
    "예제 2번의 arr에서 arr[0][1] = 498 ≠ 63 = arr[1][0]이므로 조건을 만족하지 않습니다. 따라서 0을 return 합니다."
   ]
  },
  {
   "cell_type": "code",
   "execution_count": null,
   "metadata": {},
   "outputs": [],
   "source": []
  }
 ],
 "metadata": {
  "kernelspec": {
   "display_name": "base",
   "language": "python",
   "name": "python3"
  },
  "language_info": {
   "codemirror_mode": {
    "name": "ipython",
    "version": 3
   },
   "file_extension": ".py",
   "mimetype": "text/x-python",
   "name": "python",
   "nbconvert_exporter": "python",
   "pygments_lexer": "ipython3",
   "version": "3.12.4"
  }
 },
 "nbformat": 4,
 "nbformat_minor": 2
}
