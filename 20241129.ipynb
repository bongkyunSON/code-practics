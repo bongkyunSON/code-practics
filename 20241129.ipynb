{
 "cells": [
  {
   "cell_type": "markdown",
   "metadata": {},
   "source": [
    "정수를 나선형으로 배치하기\n",
    "문제 설명\n",
    "양의 정수 n이 매개변수로 주어집니다. n × n 배열에 1부터 n2 까지 정수를 인덱스 [0][0]부터 시계방향 나선형으로 배치한 이차원 배열을 return 하는 solution 함수를 작성해 주세요.\n",
    "\n",
    "제한사항\n",
    "1 ≤ n ≤ 30\n",
    "입출력 예\n",
    "n\tresult\n",
    "4\t[[1, 2, 3, 4], [12, 13, 14, 5], [11, 16, 15, 6], [10, 9, 8, 7]]\n",
    "5\t[[1, 2, 3, 4, 5], [16, 17, 18, 19, 6], [15, 24, 25, 20, 7], [14, 23, 22, 21, 8], [13, 12, 11, 10, 9]]\n",
    "입출력 예 설명\n",
    "입출력 예 #1\n",
    "\n",
    "예제 1번의 n의 값은 4로 4 × 4 배열에 다음과 같이 1부터 16까지 숫자를 채울 수 있습니다.\n",
    "\n",
    "행 \\ 열\t0\t1\t2\t3\n",
    "0\t1\t2\t3\t4\n",
    "1\t12\t13\t14\t5\n",
    "2\t11\t16\t15\t6\n",
    "3\t10\t9\t8\t7\n",
    "따라서 [[1, 2, 3, 4], [12, 13, 14, 5], [11, 16, 15, 6], [10, 9, 8, 7]]를 return 합니다.\n",
    "\n",
    "입출력 예 #2\n",
    "\n",
    "예제 2번의 n의 값은 5로 5 × 5 배열에 다음과 같이 1부터 25까지 숫자를 채울 수 있습니다.\n",
    "\n",
    "행 \\ 열\t0\t1\t2\t3\t4\n",
    "0\t1\t2\t3\t4\t5\n",
    "1\t16\t17\t18\t19\t6\n",
    "2\t15\t24\t25\t20\t7\n",
    "3\t14\t23\t22\t21\t8\n",
    "4\t13\t12\t11\t10\t9\n",
    "따라서 [[1, 2, 3, 4, 5], [16, 17, 18, 19, 6], [15, 24, 25, 20, 7], [14, 23, 22, 21, 8], [13, 12, 11, 10, 9]]를 return 합니다."
   ]
  },
  {
   "cell_type": "code",
   "execution_count": 1,
   "metadata": {},
   "outputs": [],
   "source": [
    "def solution(n):\n",
    "    arr = [[0]*n for i in range(n)]\n",
    "    mode = 1\n",
    "    x = 0\n",
    "    y = 0\n",
    "    \n",
    "    if n == 1:\n",
    "        return [[1]]\n",
    "    for i in range(n*n):\n",
    "        arr[x][y] = i + 1\n",
    "        if mode%4 == 1:\n",
    "            y+=1\n",
    "            if y == n-1 or arr[x][y+1] != 0:\n",
    "                mode+=1\n",
    "        elif mode%4 == 2:\n",
    "            x+=1\n",
    "            if x == n-1 or arr[x+1][y] != 0:\n",
    "                mode+=1\n",
    "        elif mode%4 == 3:\n",
    "            y-=1\n",
    "            if y == n-1 or arr[x][y-1] != 0:\n",
    "                mode+=1\n",
    "        elif mode%4 == 0:\n",
    "            x-=1\n",
    "            if x == n-1 or arr[x-1][y] != 0:\n",
    "                mode+=1\n",
    "    return arr"
   ]
  },
  {
   "cell_type": "code",
   "execution_count": null,
   "metadata": {},
   "outputs": [],
   "source": []
  }
 ],
 "metadata": {
  "kernelspec": {
   "display_name": "base",
   "language": "python",
   "name": "python3"
  },
  "language_info": {
   "codemirror_mode": {
    "name": "ipython",
    "version": 3
   },
   "file_extension": ".py",
   "mimetype": "text/x-python",
   "name": "python",
   "nbconvert_exporter": "python",
   "pygments_lexer": "ipython3",
   "version": "3.12.4"
  }
 },
 "nbformat": 4,
 "nbformat_minor": 2
}
