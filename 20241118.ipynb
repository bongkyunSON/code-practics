{
 "cells": [
  {
   "cell_type": "markdown",
   "metadata": {},
   "source": [
    "문자열의 뒤의 n글자\n",
    "\n",
    "문제 설명\n",
    "\n",
    "문자열 my_string과 정수 n이 매개변수로 주어질 때, my_string의 뒤의 n글자로 이루어진 문자열을 return 하는 solution 함수를 작성해 주세요.\n",
    "\n",
    "제한사항\n",
    "\n",
    "my_string은 숫자와 알파벳으로 이루어져 있습니다.\n",
    "\n",
    "1 ≤ my_string의 길이 ≤ 1,000\n",
    "\n",
    "1 ≤ n ≤ my_string의 길이\n",
    "\n",
    "입출력 예\n",
    "\n",
    "my_string\tn\tresult\n",
    "\n",
    "\"ProgrammerS123\"\t11\t\"grammerS123\"\n",
    "\n",
    "\"He110W0r1d\"\t5\t\"W0r1d\"\n",
    "\n",
    "입출력 예\n",
    "\n",
    "입출력 예 #1\n",
    "\n",
    "예제 1번의 my_string에서 뒤의 11글자는 \"grammerS123\"이므로 이 문자열을 return 합니다.\n",
    "\n",
    "입출력 예 #2\n",
    "\n",
    "예제 2번의 my_string에서 뒤의 5글자는 \"W0r1d\"이므로 이 문자열을 return 합니다.\n"
   ]
  },
  {
   "cell_type": "markdown",
   "metadata": {},
   "source": []
  },
  {
   "cell_type": "code",
   "execution_count": 15,
   "metadata": {},
   "outputs": [
    {
     "name": "stdout",
     "output_type": "stream",
     "text": [
      "10\n"
     ]
    },
    {
     "data": {
      "text/plain": [
       "'W0r1d'"
      ]
     },
     "execution_count": 15,
     "metadata": {},
     "output_type": "execute_result"
    }
   ],
   "source": [
    "my_string = \"He110W0r1d\"\n",
    "len_mystring = print(len(my_string))\n",
    "my_string[-5:len_mystring]\n",
    "    \n",
    "    "
   ]
  },
  {
   "cell_type": "code",
   "execution_count": 16,
   "metadata": {},
   "outputs": [],
   "source": [
    "# 정답\n",
    "def solution(my_string, n):\n",
    "    len_mystring = len(my_string)\n",
    "    \n",
    "    return my_string[-n:len_mystring]"
   ]
  }
 ],
 "metadata": {
  "kernelspec": {
   "display_name": "base",
   "language": "python",
   "name": "python3"
  },
  "language_info": {
   "codemirror_mode": {
    "name": "ipython",
    "version": 3
   },
   "file_extension": ".py",
   "mimetype": "text/x-python",
   "name": "python",
   "nbconvert_exporter": "python",
   "pygments_lexer": "ipython3",
   "version": "3.12.4"
  }
 },
 "nbformat": 4,
 "nbformat_minor": 2
}
