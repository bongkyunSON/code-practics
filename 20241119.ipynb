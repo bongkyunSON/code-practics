{
 "cells": [
  {
   "cell_type": "markdown",
   "metadata": {},
   "source": [
    "문자열 정수의 합\n",
    "\n",
    "문제 설명\n",
    "\n",
    "한 자리 정수로 이루어진 문자열 num_str이 주어질 때, 각 자리수의 합을 return하도록 solution 함수를 완성해주세요.\n",
    "\n",
    "제한사항\n",
    "\n",
    "3 ≤ num_str ≤ 100\n",
    "\n",
    "입출력 예\n",
    "\n",
    "num_str\tresult\n",
    "\n",
    "\"123456789\"\t45\n",
    "\n",
    "\"1000000\"\t1\n",
    "\n",
    "입출력 예 설명\n",
    "\n",
    "입출력 예 #1\n",
    "\n",
    "문자열 안의 모든 숫자를 더하면 45가 됩니다.\n",
    "\n",
    "입출력 예 #2\n",
    "\n",
    "문자열 안의 모든 숫자를 더하면 1이 됩니다."
   ]
  },
  {
   "cell_type": "code",
   "execution_count": null,
   "metadata": {},
   "outputs": [],
   "source": [
    "alphabet = [\"a\", \"b\", \"c\", \"d\", \"e\", \"f\", \"g\", \"h\", \"i\", \"j\", \"k\", \"l\", \"m\", \"n\", \"o\", \"p\", \"q\", \"r\", \"s\", \"t\", \"u\", \"v\", \"w\", \"x\", \"y\", \"z\", \"A\", \"B\", \"C\", \"D\", \"E\", \"F\", \"G\", \"H\", \"I\", \"J\", \"K\", \"L\", \"M\", \"N\", \"O\", \"P\", \"Q\", \"R\", \"S\", \"T\", \"U\", \"V\", \"W\", \"X\", \"Y\", \"Z\"]\n",
    "my_string = \"Programmers\"\n",
    "zero = [0] * 52\n",
    "for k, v in enumerate(alphabet):\n",
    "    if v in my_string:\n",
    "        zero[k] += 1\n",
    "    \n",
    "    "
   ]
  },
  {
   "cell_type": "code",
   "execution_count": 9,
   "metadata": {},
   "outputs": [
    {
     "name": "stdout",
     "output_type": "stream",
     "text": [
      "[0, 0, 0, 0, 0, 0, 0, 0, 0, 0, 0, 0, 0, 0, 0, 1, 0, 0, 0, 0, 0, 0, 0, 0, 0, 0, 1, 0, 0, 0, 1, 0, 1, 0, 0, 0, 0, 0, 2, 0, 1, 0, 0, 3, 1, 0, 0, 0, 0, 0, 0, 0]\n"
     ]
    }
   ],
   "source": [
    "alphabet = [\"A\", \"B\", \"C\", \"D\", \"E\", \"F\", \"G\", \"H\", \"I\", \"J\", \"K\", \"L\", \"M\", \"N\", \"O\", \"P\", \"Q\", \"R\", \"S\", \"T\", \"U\", \"V\", \"W\", \"X\", \"Y\", \"Z\", \"a\", \"b\", \"c\", \"d\", \"e\", \"f\", \"g\", \"h\", \"i\", \"j\", \"k\", \"l\", \"m\", \"n\", \"o\", \"p\", \"q\", \"r\", \"s\", \"t\", \"u\", \"v\", \"w\", \"x\", \"y\", \"z\"]\n",
    "zero = [0] * 52\n",
    "my_string = \"Programmers\"\n",
    "\n",
    "for s in my_string:\n",
    "    for k, v in enumerate(alphabet):\n",
    "        if s == v:\n",
    "            zero[k] += 1\n",
    "print(zero)\n",
    "            \n",
    "            "
   ]
  },
  {
   "cell_type": "code",
   "execution_count": null,
   "metadata": {},
   "outputs": [],
   "source": [
    "def solution(my_string):\n",
    "    alphabet = [\"A\", \"B\", \"C\", \"D\", \"E\", \"F\", \"G\", \"H\", \"I\", \"J\", \"K\", \"L\", \"M\", \"N\", \"O\", \"P\", \"Q\", \"R\", \"S\", \"T\", \"U\", \"V\", \"W\", \"X\", \"Y\", \"Z\", \"a\", \"b\", \"c\", \"d\", \"e\", \"f\", \"g\", \"h\", \"i\", \"j\", \"k\", \"l\", \"m\", \"n\", \"o\", \"p\", \"q\", \"r\", \"s\", \"t\", \"u\", \"v\", \"w\", \"x\", \"y\", \"z\"]\n",
    "    zero = [0] * 52\n",
    "    for s in my_string:\n",
    "        for k, v in enumerate(alphabet):\n",
    "            if s == v:\n",
    "                zero[k] += 1\n",
    "                \n",
    "            \n",
    "            \n",
    "    return zero"
   ]
  },
  {
   "cell_type": "markdown",
   "metadata": {},
   "source": [
    "배열 만들기 1\n",
    "\n",
    "문제 설명\n",
    "\n",
    "정수 n과 k가 주어졌을 때, 1 이상 n이하의 정수 중에서 k의 배수를 오름차순으로 저장한 배열을 return 하는 solution 함수를 완성해 주세요.\n",
    "\n",
    "제한사항\n",
    "\n",
    "1 ≤ n ≤ 1,000,000\n",
    "\n",
    "1 ≤ k ≤ min(1,000, n)\n",
    "\n",
    "입출력 예\n",
    "\n",
    "n\tk\tresult\n",
    "\n",
    "10\t3\t[3, 6, 9]\n",
    "\n",
    "15\t5\t[5, 10, 15]\n",
    "\n",
    "입출력 예 설명\n",
    "\n",
    "입출력 예 #1\n",
    "\n",
    "1 이상 10 이하의 3의 배수는 3, 6, 9 이므로 [3, 6, 9]를 return 합니다.\n",
    "\n",
    "입출력 예 #2\n",
    "\n",
    "1 이상 15 이하의 5의 배수는 5, 10, 15 이므로 [5, 10, 15]를 return 합니다.\n"
   ]
  },
  {
   "cell_type": "code",
   "execution_count": null,
   "metadata": {},
   "outputs": [],
   "source": [
    "def solution(n, k):\n",
    "    answer = []\n",
    "    for i in range(k, n+1, k):\n",
    "        answer.append(i)\n",
    "    return answer"
   ]
  },
  {
   "cell_type": "markdown",
   "metadata": {},
   "source": [
    "글자 지우기\n",
    "\n",
    "문제 설명\n",
    "\n",
    "문자열 my_string과 정수 배열 indices가 주어질 때, my_string에서 indices의 원소에 해당하는 인덱스의 글자를 지우고 이어 붙인 문자열을 return 하는 solution \n",
    "\n",
    "함수를 작성해 주세요.\n",
    "\n",
    "제한사항\n",
    "\n",
    "1 ≤ indices의 길이 < my_string의 길이 ≤ 100\n",
    "\n",
    "my_string은 영소문자로만 이루어져 있습니다\n",
    "\n",
    "0 ≤ indices의 원소 < my_string의 길이\n",
    "\n",
    "indices의 원소는 모두 서로 다릅니다.\n",
    "\n",
    "입출력 예\n",
    "\n",
    "my_string\tindices\tresult\n",
    "\n",
    "\"apporoograpemmemprs\"\t[1, 16, 6, 15, 0, 10, 11, 3]\t\"programmers\"\n",
    "\n",
    "입출력 예 설명\n",
    "\n",
    "입출력 예 #1\n",
    "\n",
    "예제 1번의 my_string의 인덱스가 잘 보이도록 표를 만들면 다음과 같습니다.\n",
    "\n",
    "|index|0|1|2|3|4|5|6|7|8|9|10|11|12|13|14|15|16|17|18|\n",
    "\n",
    "|---|---|---|---|---|---|---|---|---|---|---|---|---|---|---|---|---|---|---|---|\n",
    "\n",
    "|my_string|a|p|p|o|r|o|o|g|r|a|p|e|m|m|e|m|p|r|s|\n",
    "\n",
    "`indices`에 있는 인덱스의 글자들을 지우고 이어붙이면 \"programmers\"가 되므로 이를 return 합니다."
   ]
  },
  {
   "cell_type": "code",
   "execution_count": 18,
   "metadata": {},
   "outputs": [
    {
     "data": {
      "text/plain": [
       "'programmers'"
      ]
     },
     "execution_count": 18,
     "metadata": {},
     "output_type": "execute_result"
    }
   ],
   "source": [
    "my_string = \"apporoograpemmemprs\"\n",
    "list_my_string = list(my_string)\n",
    "indices = [1, 16, 6, 15, 0, 10, 11, 3]\t\n",
    "answer = \"\"\n",
    "for k, v in enumerate(my_string):\n",
    "    if not k in indices:\n",
    "        answer += v\n",
    "    \n",
    "    \n",
    "answer"
   ]
  },
  {
   "cell_type": "code",
   "execution_count": null,
   "metadata": {},
   "outputs": [],
   "source": [
    "def solution(my_string, indices):\n",
    "    answer = ''\n",
    "    \n",
    "    for k, v in enumerate(my_string):\n",
    "        if not k in indices:\n",
    "            answer += v\n",
    "    \n",
    "    return answer"
   ]
  },
  {
   "cell_type": "markdown",
   "metadata": {},
   "source": [
    "카운트 다운\n",
    "\n",
    "문제 설명\n",
    "\n",
    "정수 start_num와 end_num가 주어질 때, start_num에서 end_num까지 1씩 감소하는 수들을 차례로 담은 리스트를 return하도록 solution 함수를 완성해주세요.\n",
    "\n",
    "제한사항\n",
    "\n",
    "0 ≤ end_num ≤ start_num ≤ 50\n",
    "\n",
    "입출력 예\n",
    "\n",
    "start_num\tend_num\tresult\n",
    "\n",
    "10\t3\t[10, 9, 8, 7, 6, 5, 4, 3]\n",
    "\n",
    "입출력 예 설명\n",
    "\n",
    "입출력 예 #1\n",
    "\n",
    "10부터 3까지 1씩 감소하는 수를 담은 리스트는 [10, 9, 8, 7, 6, 5, 4, 3]입니다."
   ]
  },
  {
   "cell_type": "code",
   "execution_count": null,
   "metadata": {},
   "outputs": [],
   "source": [
    "def solution(start_num, end_num):\n",
    "    answer = []\n",
    "    for i in range(end_num, start_num+1):\n",
    "        answer.append(i)\n",
    "    return answer[::-1]"
   ]
  },
  {
   "cell_type": "markdown",
   "metadata": {},
   "source": [
    "가까운 1 찾기\n",
    "\n",
    "문제 설명\n",
    "\n",
    "정수 배열 arr가 주어집니다. 이때 arr의 원소는 1 또는 0입니다. 정수 idx가 주어졌을 때, idx보다 크면서 배열의 값이 1인 가장 작은 인덱스를 찾아서 반환하는 solution 함수를 완성해 주세요.\n",
    "\n",
    "단, 만약 그러한 인덱스가 없다면 -1을 반환합니다.\n",
    "\n",
    "제한사항\n",
    "\n",
    "3 ≤ arr의 길이 ≤ 100'000\n",
    "\n",
    "arr의 원소는 전부 1 또는 0입니다.\n",
    "\n",
    "입출력 예\n",
    "\n",
    "arr\tidx\tresult\n",
    "\n",
    "[0, 0, 0, 1]\t1\t3\n",
    "\n",
    "[1, 0, 0, 1, 0, 0]\t4\t-1\n",
    "\n",
    "[1, 1, 1, 1, 0]\t3\t3\n",
    "\n",
    "입출력 예 설명\n",
    "\n",
    "입출력 예 #1\n",
    "\n",
    "1보다 크면서 원소가 1인 가장 작은 인덱스는 3입니다. 따라서 3을 return 합니다.\n",
    "\n",
    "입출력 예 #2\n",
    "\n",
    "4번 인덱스 이후에 1은 등장하지 않습니다. 따라서 -1을 return 합니다.\n",
    "\n",
    "입출력 예 #3\n",
    "\n",
    "3번 인덱스의 값이 1입니다. 따라서 3을 return 합니다."
   ]
  },
  {
   "cell_type": "code",
   "execution_count": null,
   "metadata": {},
   "outputs": [
    {
     "data": {
      "text/plain": [
       "5"
      ]
     },
     "execution_count": 22,
     "metadata": {},
     "output_type": "execute_result"
    }
   ],
   "source": [
    "def solution(arr, idx):\n",
    "    answer = []\n",
    "    key_num = []\n",
    "    for k, v in enumerate(arr):\n",
    "        if v == 1:\n",
    "            key_num.append(k)\n",
    "    for i in key_num:\n",
    "        if i >= idx:\n",
    "            answer.append(i)\n",
    "    \n",
    "    if answer == []:\n",
    "        return -1\n",
    "    else:\n",
    "        return min(answer)\n",
    "            \n",
    "    "
   ]
  }
 ],
 "metadata": {
  "kernelspec": {
   "display_name": "Python 3",
   "language": "python",
   "name": "python3"
  },
  "language_info": {
   "codemirror_mode": {
    "name": "ipython",
    "version": 3
   },
   "file_extension": ".py",
   "mimetype": "text/x-python",
   "name": "python",
   "nbconvert_exporter": "python",
   "pygments_lexer": "ipython3",
   "version": "3.9.6"
  }
 },
 "nbformat": 4,
 "nbformat_minor": 2
}
